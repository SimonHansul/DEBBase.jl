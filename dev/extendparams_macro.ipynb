{
 "cells": [
  {
   "cell_type": "code",
   "execution_count": 63,
   "metadata": {},
   "outputs": [
    {
     "name": "stderr",
     "output_type": "stream",
     "text": [
      "\u001b[32m\u001b[1m  Activating\u001b[22m\u001b[39m project at `c:\\Users\\simon\\Documents\\Julia\\DEBBase.jl\\test`\n"
     ]
    }
   ],
   "source": [
    "using Pkg; Pkg.activate(\"../test\")\n",
    "using Revise\n",
    "using DEBBase"
   ]
  },
  {
   "cell_type": "code",
   "execution_count": 65,
   "metadata": {},
   "outputs": [],
   "source": [
    "for _ in 1:1_000_000\n",
    "    newtype = DEBBase.childstruct(SpeciesParams, [:t_M], [Float64], [38.])\n",
    "end"
   ]
  },
  {
   "cell_type": "code",
   "execution_count": 62,
   "metadata": {},
   "outputs": [
    {
     "data": {
      "text/plain": [
       "DEBBase.gznwnnsavsowzpwpuflr\n",
       "  Z: Distributions.Dirac{Float64}\n",
       "  Z_male: Float64 1.0\n",
       "  sex_ratio: Float64 1.0\n",
       "  propagate_zoom: @NamedTuple{X_emb_int::Bool, H_p::Bool, K_X::Bool}\n",
       "  X_emb_int: Float64 19.42\n",
       "  K_X: Float64 1.0\n",
       "  Idot_max_rel: Float64 22.9\n",
       "  Idot_max_rel_emb: Float64 22.9\n",
       "  kappa: Float64 0.539\n",
       "  eta_IA: Float64 0.33\n",
       "  eta_AS: Float64 0.8\n",
       "  eta_SA: Float64 0.8\n",
       "  eta_AR: Float64 0.95\n",
       "  k_M: Float64 0.59\n",
       "  k_J: Float64 0.504\n",
       "  H_p: Float64 100.0\n",
       "  e_S: Float64 0.5\n",
       "  b_S: Float64 5.0\n",
       "  k_D_G: Array{Float64}((1,)) [0.0]\n",
       "  k_D_M: Array{Float64}((1,)) [0.0]\n",
       "  k_D_A: Array{Float64}((1,)) [0.0]\n",
       "  k_D_R: Array{Float64}((1,)) [0.38]\n",
       "  k_D_h: Array{Float64}((1,)) [0.0]\n",
       "  drc_functs_G: Array{Function}((1,))\n",
       "  drc_functs_M: Array{Function}((1,))\n",
       "  drc_functs_A: Array{Function}((1,))\n",
       "  drc_functs_R: Array{Function}((1,))\n",
       "  drc_functs_h: Array{Function}((1,))\n",
       "  e_G: Array{Float64}((1,)) [1.0e10]\n",
       "  e_M: Array{Float64}((1,)) [1.0e10]\n",
       "  e_A: Array{Float64}((1,)) [1.0e10]\n",
       "  e_R: Array{Float64}((1,)) [167.0]\n",
       "  e_h: Array{Float64}((1,)) [1.0e10]\n",
       "  b_G: Array{Float64}((1,)) [1.0e10]\n",
       "  b_M: Array{Float64}((1,)) [1.0e10]\n",
       "  b_A: Array{Float64}((1,)) [1.0e10]\n",
       "  b_R: Array{Float64}((1,)) [0.93]\n",
       "  b_h: Array{Float64}((1,)) [1.0e10]\n",
       "  c_G: Nothing nothing\n",
       "  c_M: Nothing nothing\n",
       "  c_A: Nothing nothing\n",
       "  c_R: Nothing nothing\n",
       "  c_h: Nothing nothing\n",
       "  d_G: Nothing nothing\n",
       "  d_M: Nothing nothing\n",
       "  d_A: Nothing nothing\n",
       "  d_R: Nothing nothing\n",
       "  d_h: Nothing nothing\n",
       "  odefuncs: Array{Function}((12,))\n",
       "  rulefuncs: Array{Function}((2,))\n",
       "  t_M: Float64 38.0\n"
      ]
     },
     "metadata": {},
     "output_type": "display_data"
    }
   ],
   "source": [
    "newtype()"
   ]
  },
  {
   "cell_type": "code",
   "execution_count": null,
   "metadata": {},
   "outputs": [],
   "source": [
    "Symbol(randstring)"
   ]
  },
  {
   "cell_type": "code",
   "execution_count": 57,
   "metadata": {},
   "outputs": [
    {
     "data": {
      "text/plain": [
       ":vnuutluruqybhfzpiohy"
      ]
     },
     "metadata": {},
     "output_type": "display_data"
    }
   ],
   "source": [
    "using Random\n"
   ]
  },
  {
   "cell_type": "code",
   "execution_count": 56,
   "metadata": {},
   "outputs": [
    {
     "name": "stdout",
     "output_type": "stream",
     "text": [
      "['a', 'b', 'c', 'd', 'e', 'f', 'g', 'h', 'i', 'j', 'k', 'l', 'm', 'n', 'o', 'p', 'q', 'r', 's', 't', 'u', 'v', 'w', 'x', 'y', 'z']\n"
     ]
    }
   ],
   "source": [
    "'a':'z' "
   ]
  },
  {
   "cell_type": "code",
   "execution_count": 10,
   "metadata": {},
   "outputs": [
    {
     "data": {
      "text/plain": [
       "DEBBase.LymaneaParams2\n",
       "  Z: Distributions.Dirac{Float64}\n",
       "  Z_male: Float64 1.0\n",
       "  sex_ratio: Float64 1.0\n",
       "  propagate_zoom: @NamedTuple{X_emb_int::Bool, H_p::Bool, K_X::Bool}\n",
       "  X_emb_int: Float64 19.42\n",
       "  K_X: Float64 1.0\n",
       "  Idot_max_rel: Float64 22.9\n",
       "  Idot_max_rel_emb: Float64 22.9\n",
       "  kappa: Float64 0.539\n",
       "  eta_IA: Float64 0.33\n",
       "  eta_AS: Float64 0.8\n",
       "  eta_SA: Float64 0.8\n",
       "  eta_AR: Float64 0.95\n",
       "  k_M: Float64 0.59\n",
       "  k_J: Float64 0.504\n",
       "  H_p: Float64 100.0\n",
       "  e_S: Float64 0.5\n",
       "  b_S: Float64 5.0\n",
       "  k_D_G: Array{Float64}((1,)) [0.0]\n",
       "  k_D_M: Array{Float64}((1,)) [0.0]\n",
       "  k_D_A: Array{Float64}((1,)) [0.0]\n",
       "  k_D_R: Array{Float64}((1,)) [0.38]\n",
       "  k_D_h: Array{Float64}((1,)) [0.0]\n",
       "  drc_functs_G: Array{Function}((1,))\n",
       "  drc_functs_M: Array{Function}((1,))\n",
       "  drc_functs_A: Array{Function}((1,))\n",
       "  drc_functs_R: Array{Function}((1,))\n",
       "  drc_functs_h: Array{Function}((1,))\n",
       "  e_G: Array{Float64}((1,)) [1.0e10]\n",
       "  e_M: Array{Float64}((1,)) [1.0e10]\n",
       "  e_A: Array{Float64}((1,)) [1.0e10]\n",
       "  e_R: Array{Float64}((1,)) [167.0]\n",
       "  e_h: Array{Float64}((1,)) [1.0e10]\n",
       "  b_G: Array{Float64}((1,)) [1.0e10]\n",
       "  b_M: Array{Float64}((1,)) [1.0e10]\n",
       "  b_A: Array{Float64}((1,)) [1.0e10]\n",
       "  b_R: Array{Float64}((1,)) [0.93]\n",
       "  b_h: Array{Float64}((1,)) [1.0e10]\n",
       "  c_G: Nothing nothing\n",
       "  c_M: Nothing nothing\n",
       "  c_A: Nothing nothing\n",
       "  c_R: Nothing nothing\n",
       "  c_h: Nothing nothing\n",
       "  d_G: Nothing nothing\n",
       "  d_M: Nothing nothing\n",
       "  d_A: Nothing nothing\n",
       "  d_R: Nothing nothing\n",
       "  d_h: Nothing nothing\n",
       "  odefuncs: Array{Function}((12,))\n",
       "  rulefuncs: Array{Function}((2,))\n",
       "  t_M: Float64 38.0\n"
      ]
     },
     "metadata": {},
     "output_type": "display_data"
    }
   ],
   "source": [
    "newtype()"
   ]
  },
  {
   "cell_type": "code",
   "execution_count": null,
   "metadata": {},
   "outputs": [],
   "source": [
    "global"
   ]
  },
  {
   "cell_type": "code",
   "execution_count": 8,
   "metadata": {},
   "outputs": [
    {
     "ename": "UndefVarError",
     "evalue": "UndefVarError: `LymaneaParams2` not defined",
     "output_type": "error",
     "traceback": [
      "UndefVarError: `LymaneaParams2` not defined\n"
     ]
    }
   ],
   "source": [
    "LymaneaParams2"
   ]
  },
  {
   "cell_type": "code",
   "execution_count": 80,
   "metadata": {},
   "outputs": [
    {
     "name": "stderr",
     "output_type": "stream",
     "text": [
      "┌ Info: Defined new structure LymaneaParams2 <: AbstractSpeciesParams from SpeciesParams\n",
      "└ @ Main c:\\Users\\simon\\Documents\\Julia\\DEBBase.jl\\dev\\extendparams_macro.ipynb:36\n"
     ]
    },
    {
     "data": {
      "text/plain": [
       "LymaneaParams2\n",
       "  Z: Distributions.Dirac{Float64}\n",
       "  Z_male: Float64 1.0\n",
       "  sex_ratio: Float64 1.0\n",
       "  propagate_zoom: @NamedTuple{X_emb_int::Bool, H_p::Bool, K_X::Bool}\n",
       "  X_emb_int: Float64 19.42\n",
       "  K_X: Float64 1.0\n",
       "  Idot_max_rel: Float64 22.9\n",
       "  Idot_max_rel_emb: Float64 22.9\n",
       "  kappa: Float64 0.539\n",
       "  eta_IA: Float64 0.33\n",
       "  eta_AS: Float64 0.8\n",
       "  eta_SA: Float64 0.8\n",
       "  eta_AR: Float64 0.95\n",
       "  k_M: Float64 0.59\n",
       "  k_J: Float64 0.504\n",
       "  H_p: Float64 100.0\n",
       "  e_S: Float64 0.5\n",
       "  b_S: Float64 5.0\n",
       "  k_D_G: Array{Float64}((1,)) [0.0]\n",
       "  k_D_M: Array{Float64}((1,)) [0.0]\n",
       "  k_D_A: Array{Float64}((1,)) [0.0]\n",
       "  k_D_R: Array{Float64}((1,)) [0.38]\n",
       "  k_D_h: Array{Float64}((1,)) [0.0]\n",
       "  drc_functs_G: Array{Function}((1,))\n",
       "  drc_functs_M: Array{Function}((1,))\n",
       "  drc_functs_A: Array{Function}((1,))\n",
       "  drc_functs_R: Array{Function}((1,))\n",
       "  drc_functs_h: Array{Function}((1,))\n",
       "  e_G: Array{Float64}((1,)) [1.0e10]\n",
       "  e_M: Array{Float64}((1,)) [1.0e10]\n",
       "  e_A: Array{Float64}((1,)) [1.0e10]\n",
       "  e_R: Array{Float64}((1,)) [167.0]\n",
       "  e_h: Array{Float64}((1,)) [1.0e10]\n",
       "  b_G: Array{Float64}((1,)) [1.0e10]\n",
       "  b_M: Array{Float64}((1,)) [1.0e10]\n",
       "  b_A: Array{Float64}((1,)) [1.0e10]\n",
       "  b_R: Array{Float64}((1,)) [0.93]\n",
       "  b_h: Array{Float64}((1,)) [1.0e10]\n",
       "  c_G: Nothing nothing\n",
       "  c_M: Nothing nothing\n",
       "  c_A: Nothing nothing\n",
       "  c_R: Nothing nothing\n",
       "  c_h: Nothing nothing\n",
       "  d_G: Nothing nothing\n",
       "  d_M: Nothing nothing\n",
       "  d_A: Nothing nothing\n",
       "  d_R: Nothing nothing\n",
       "  d_h: Nothing nothing\n",
       "  odefuncs: Array{Function}((12,))\n",
       "  rulefuncs: Array{Function}((2,))\n",
       "  t_M: Float64 38.0\n"
      ]
     },
     "metadata": {},
     "output_type": "display_data"
    }
   ],
   "source": [
    "\n",
    "\n"
   ]
  },
  {
   "cell_type": "code",
   "execution_count": 76,
   "metadata": {},
   "outputs": [
    {
     "data": {
      "text/plain": [
       "38.0"
      ]
     },
     "metadata": {},
     "output_type": "display_data"
    }
   ],
   "source": [
    "LymaneaParams().t_M"
   ]
  },
  {
   "cell_type": "code",
   "execution_count": null,
   "metadata": {},
   "outputs": [],
   "source": []
  },
  {
   "cell_type": "code",
   "execution_count": 33,
   "metadata": {},
   "outputs": [
    {
     "data": {
      "text/plain": [
       "childstruct (generic function with 1 method)"
      ]
     },
     "metadata": {},
     "output_type": "display_data"
    }
   ],
   "source": [
    "childstruct"
   ]
  },
  {
   "cell_type": "code",
   "execution_count": 21,
   "metadata": {},
   "outputs": [
    {
     "ename": "LoadError",
     "evalue": "LoadError: UndefVarError: `fields` not defined\nin expression starting at c:\\Users\\simon\\Documents\\Julia\\DEBBase.jl\\dev\\extendparams_macro.ipynb:33",
     "output_type": "error",
     "traceback": [
      "LoadError: UndefVarError: `fields` not defined\n",
      "in expression starting at c:\\Users\\simon\\Documents\\Julia\\DEBBase.jl\\dev\\extendparams_macro.ipynb:33\n",
      "\n",
      "Stacktrace:\n",
      "  [1] var\"@childstruct\"(__source__::LineNumberNode, __module__::Module, parentstruct::Any, childstructname::Any, addnames::Any, addtypes::Any, adddefaults::Any)\n",
      "    @ Main c:\\Users\\simon\\Documents\\Julia\\DEBBase.jl\\dev\\extendparams_macro.ipynb:5\n",
      "  [2] eval\n",
      "    @ .\\boot.jl:385 [inlined]\n",
      "  [3] include_string(mapexpr::typeof(REPL.softscope), mod::Module, code::String, filename::String)\n",
      "    @ Base .\\loading.jl:2076\n",
      "  [4] #invokelatest#2\n",
      "    @ .\\essentials.jl:892 [inlined]\n",
      "  [5] invokelatest\n",
      "    @ .\\essentials.jl:889 [inlined]\n",
      "  [6] (::VSCodeServer.var\"#219#220\"{VSCodeServer.NotebookRunCellArguments, String})()\n",
      "    @ VSCodeServer c:\\Users\\simon\\.vscode\\extensions\\julialang.language-julia-1.79.2\\scripts\\packages\\VSCodeServer\\src\\serve_notebook.jl:19\n",
      "  [7] withpath(f::VSCodeServer.var\"#219#220\"{VSCodeServer.NotebookRunCellArguments, String}, path::String)\n",
      "    @ VSCodeServer c:\\Users\\simon\\.vscode\\extensions\\julialang.language-julia-1.79.2\\scripts\\packages\\VSCodeServer\\src\\repl.jl:276\n",
      "  [8] notebook_runcell_request(conn::VSCodeServer.JSONRPC.JSONRPCEndpoint{Base.PipeEndpoint, Base.PipeEndpoint}, params::VSCodeServer.NotebookRunCellArguments)\n",
      "    @ VSCodeServer c:\\Users\\simon\\.vscode\\extensions\\julialang.language-julia-1.79.2\\scripts\\packages\\VSCodeServer\\src\\serve_notebook.jl:13\n",
      "  [9] dispatch_msg(x::VSCodeServer.JSONRPC.JSONRPCEndpoint{Base.PipeEndpoint, Base.PipeEndpoint}, dispatcher::VSCodeServer.JSONRPC.MsgDispatcher, msg::Dict{String, Any})\n",
      "    @ VSCodeServer.JSONRPC c:\\Users\\simon\\.vscode\\extensions\\julialang.language-julia-1.79.2\\scripts\\packages\\JSONRPC\\src\\typed.jl:67\n",
      " [10] serve_notebook(pipename::String, outputchannel_logger::Base.CoreLogging.SimpleLogger; crashreporting_pipename::String)\n",
      "    @ VSCodeServer c:\\Users\\simon\\.vscode\\extensions\\julialang.language-julia-1.79.2\\scripts\\packages\\VSCodeServer\\src\\serve_notebook.jl:139\n",
      " [11] top-level scope\n",
      "    @ c:\\Users\\simon\\.vscode\\extensions\\julialang.language-julia-1.79.2\\scripts\\notebook\\notebook.jl:35"
     ]
    }
   ],
   "source": [
    "using Parameters\n",
    "\n",
    "@childstruct SpeciesParams NewParams6 [:x] [Float64] [99.]"
   ]
  },
  {
   "cell_type": "code",
   "execution_count": 156,
   "metadata": {},
   "outputs": [
    {
     "data": {
      "text/plain": [
       "(:Z, :Z_male, :sex_ratio, :propagate_zoom, :X_emb_int, :K_X, :Idot_max_rel, :Idot_max_rel_emb, :kappa, :eta_IA, :eta_AS, :eta_SA, :eta_AR, :k_M, :k_J, :H_p, :e_S, :b_S, :k_D_G, :k_D_M, :k_D_A, :k_D_R, :k_D_h, :drc_functs_G, :drc_functs_M, :drc_functs_A, :drc_functs_R, :drc_functs_h, :e_G, :e_M, :e_A, :e_R, :e_h, :b_G, :b_M, :b_A, :b_R, :b_h, :c_G, :c_M, :c_A, :c_R, :c_h, :d_G, :d_M, :d_A, :d_R, :d_h, :odefuncs, :rulefuncs, :t_M)"
      ]
     },
     "metadata": {},
     "output_type": "display_data"
    }
   ],
   "source": [
    "NewParams6 |> fieldnames"
   ]
  },
  {
   "cell_type": "code",
   "execution_count": 149,
   "metadata": {},
   "outputs": [
    {
     "data": {
      "text/plain": [
       ":(Z::Distributions.Distribution)"
      ]
     },
     "metadata": {},
     "output_type": "display_data"
    }
   ],
   "source": [
    ":($field::$type)"
   ]
  },
  {
   "cell_type": "code",
   "execution_count": 146,
   "metadata": {},
   "outputs": [
    {
     "ename": "UndefVarError",
     "evalue": "UndefVarError: `AbstractDataType` not defined",
     "output_type": "error",
     "traceback": [
      "UndefVarError: `AbstractDataType` not defined\n",
      "\n",
      "Stacktrace:\n",
      " [1] top-level scope\n",
      "   @ c:\\Users\\simon\\Documents\\Julia\\DEBBase.jl\\dev\\extendparams_macro.ipynb:1"
     ]
    }
   ],
   "source": [
    "mutable struct X <: AbstractDataType\n",
    "\n",
    "end"
   ]
  },
  {
   "cell_type": "code",
   "execution_count": 143,
   "metadata": {},
   "outputs": [
    {
     "data": {
      "text/plain": [
       "NewParams5(Distributions.Dirac{Float64}(value=1.0), 1.0, 1.0, (X_emb_int = true, H_p = true, K_X = true), 19.42, 1.0, 22.9, 22.9, 0.539, 0.33, 0.8, 0.8, 0.95, 0.59, 0.504, 100.0, 0.5, 5.0, [0.0], [0.0], [0.0], [0.38], [0.0], Function[DoseResponse.LL2], Function[DoseResponse.LL2M], Function[DoseResponse.LL2], Function[DoseResponse.LL2], Function[DoseResponse.LL2h], [1.0e10], [1.0e10], [1.0e10], [167.0], [1.0e10], [1.0e10], [1.0e10], [1.0e10], [0.93], [1.0e10], nothing, nothing, nothing, nothing, nothing, nothing, nothing, nothing, nothing, nothing, Function[DEBBase.y_z!, DEBBase.h_S!, DEBBase.Idot!, DEBBase.Adot!, DEBBase.Mdot!, DEBBase.Jdot!, DEBBase.Sdot!, DEBBase.Hdot!, DEBBase.H_bdot!, DEBBase.Rdot!, DEBBase.Ddot!, DEBBase.age!], Function[DEBBase.reproduce_opportunistic!, DEBBase.die!], 1.0)"
      ]
     },
     "metadata": {},
     "output_type": "display_data"
    }
   ],
   "source": [
    "p = NewParams5()\n",
    "p"
   ]
  },
  {
   "cell_type": "code",
   "execution_count": 144,
   "metadata": {},
   "outputs": [
    {
     "data": {
      "text/plain": [
       "AbstractSpeciesParams"
      ]
     },
     "metadata": {},
     "output_type": "display_data"
    }
   ],
   "source": [
    "supertype(SpeciesParams)"
   ]
  },
  {
   "cell_type": "code",
   "execution_count": 123,
   "metadata": {},
   "outputs": [
    {
     "data": {
      "text/plain": [
       "()"
      ]
     },
     "metadata": {},
     "output_type": "display_data"
    }
   ],
   "source": [
    "NewParams3() |> typeof |> fieldnames"
   ]
  },
  {
   "cell_type": "code",
   "execution_count": 111,
   "metadata": {},
   "outputs": [
    {
     "data": {
      "text/plain": [
       "()"
      ]
     },
     "metadata": {},
     "output_type": "display_data"
    }
   ],
   "source": [
    "NewParams |> fieldnames"
   ]
  },
  {
   "cell_type": "code",
   "execution_count": 97,
   "metadata": {},
   "outputs": [
    {
     "ename": "LoadError",
     "evalue": "LoadError: MethodError: no method matching iterate(::Expr)\n\nClosest candidates are:\n  iterate(!Matched::Plots.EachAnn)\n   @ Plots C:\\Users\\simon\\.julia\\packages\\Plots\\ju9dp\\src\\components.jl:570\n  iterate(!Matched::Plots.EachAnn, !Matched::Any)\n   @ Plots C:\\Users\\simon\\.julia\\packages\\Plots\\ju9dp\\src\\components.jl:570\n  iterate(!Matched::Base.MethodSpecializations)\n   @ Base reflection.jl:1148\n  ...\n\nin expression starting at c:\\Users\\simon\\Documents\\Julia\\DEBBase.jl\\dev\\extendparams_macro.ipynb:1",
     "output_type": "error",
     "traceback": [
      "LoadError: MethodError: no method matching iterate(::Expr)\n",
      "\n",
      "Closest candidates are:\n",
      "  iterate(!Matched::Plots.EachAnn)\n",
      "   @ Plots C:\\Users\\simon\\.julia\\packages\\Plots\\ju9dp\\src\\components.jl:570\n",
      "  iterate(!Matched::Plots.EachAnn, !Matched::Any)\n",
      "   @ Plots C:\\Users\\simon\\.julia\\packages\\Plots\\ju9dp\\src\\components.jl:570\n",
      "  iterate(!Matched::Base.MethodSpecializations)\n",
      "   @ Base reflection.jl:1148\n",
      "  ...\n",
      "\n",
      "in expression starting at c:\\Users\\simon\\Documents\\Julia\\DEBBase.jl\\dev\\extendparams_macro.ipynb:1\n",
      "\n",
      "Stacktrace:\n",
      "  [1] var\"@childstruct\"(__source__::LineNumberNode, __module__::Module, parentstruct::Any, childstructname::Any, addnames::Any, addtypes::Any, adddefaults::Any)\n",
      "    @ Main c:\\Users\\simon\\Documents\\Julia\\DEBBase.jl\\dev\\extendparams_macro.ipynb:6\n",
      "  [2] eval\n",
      "    @ .\\boot.jl:385 [inlined]\n",
      "  [3] include_string(mapexpr::typeof(REPL.softscope), mod::Module, code::String, filename::String)\n",
      "    @ Base .\\loading.jl:2076\n",
      "  [4] #invokelatest#2\n",
      "    @ .\\essentials.jl:892 [inlined]\n",
      "  [5] invokelatest\n",
      "    @ .\\essentials.jl:889 [inlined]\n",
      "  [6] (::VSCodeServer.var\"#219#220\"{VSCodeServer.NotebookRunCellArguments, String})()\n",
      "    @ VSCodeServer c:\\Users\\simon\\.vscode\\extensions\\julialang.language-julia-1.79.2\\scripts\\packages\\VSCodeServer\\src\\serve_notebook.jl:19\n",
      "  [7] withpath(f::VSCodeServer.var\"#219#220\"{VSCodeServer.NotebookRunCellArguments, String}, path::String)\n",
      "    @ VSCodeServer c:\\Users\\simon\\.vscode\\extensions\\julialang.language-julia-1.79.2\\scripts\\packages\\VSCodeServer\\src\\repl.jl:276\n",
      "  [8] notebook_runcell_request(conn::VSCodeServer.JSONRPC.JSONRPCEndpoint{Base.PipeEndpoint, Base.PipeEndpoint}, params::VSCodeServer.NotebookRunCellArguments)\n",
      "    @ VSCodeServer c:\\Users\\simon\\.vscode\\extensions\\julialang.language-julia-1.79.2\\scripts\\packages\\VSCodeServer\\src\\serve_notebook.jl:13\n",
      "  [9] dispatch_msg(x::VSCodeServer.JSONRPC.JSONRPCEndpoint{Base.PipeEndpoint, Base.PipeEndpoint}, dispatcher::VSCodeServer.JSONRPC.MsgDispatcher, msg::Dict{String, Any})\n",
      "    @ VSCodeServer.JSONRPC c:\\Users\\simon\\.vscode\\extensions\\julialang.language-julia-1.79.2\\scripts\\packages\\JSONRPC\\src\\typed.jl:67\n",
      " [10] serve_notebook(pipename::String, outputchannel_logger::Base.CoreLogging.SimpleLogger; crashreporting_pipename::String)\n",
      "    @ VSCodeServer c:\\Users\\simon\\.vscode\\extensions\\julialang.language-julia-1.79.2\\scripts\\packages\\VSCodeServer\\src\\serve_notebook.jl:139\n",
      " [11] top-level scope\n",
      "    @ c:\\Users\\simon\\.vscode\\extensions\\julialang.language-julia-1.79.2\\scripts\\notebook\\notebook.jl:35"
     ]
    }
   ],
   "source": []
  },
  {
   "cell_type": "code",
   "execution_count": 61,
   "metadata": {},
   "outputs": [],
   "source": [
    "mutable struct XX a; b; end"
   ]
  },
  {
   "cell_type": "code",
   "execution_count": 71,
   "metadata": {},
   "outputs": [
    {
     "ename": "LoadError",
     "evalue": "LoadError: MethodError: no method matching iterate(::Expr)\n\nClosest candidates are:\n  iterate(!Matched::Plots.EachAnn)\n   @ Plots C:\\Users\\simon\\.julia\\packages\\Plots\\ju9dp\\src\\components.jl:570\n  iterate(!Matched::Plots.EachAnn, !Matched::Any)\n   @ Plots C:\\Users\\simon\\.julia\\packages\\Plots\\ju9dp\\src\\components.jl:570\n  iterate(!Matched::Base.MethodSpecializations)\n   @ Base reflection.jl:1148\n  ...\n\nin expression starting at c:\\Users\\simon\\Documents\\Julia\\DEBBase.jl\\dev\\extendparams_macro.ipynb:1",
     "output_type": "error",
     "traceback": [
      "LoadError: MethodError: no method matching iterate(::Expr)\n",
      "\n",
      "Closest candidates are:\n",
      "  iterate(!Matched::Plots.EachAnn)\n",
      "   @ Plots C:\\Users\\simon\\.julia\\packages\\Plots\\ju9dp\\src\\components.jl:570\n",
      "  iterate(!Matched::Plots.EachAnn, !Matched::Any)\n",
      "   @ Plots C:\\Users\\simon\\.julia\\packages\\Plots\\ju9dp\\src\\components.jl:570\n",
      "  iterate(!Matched::Base.MethodSpecializations)\n",
      "   @ Base reflection.jl:1148\n",
      "  ...\n",
      "\n",
      "in expression starting at c:\\Users\\simon\\Documents\\Julia\\DEBBase.jl\\dev\\extendparams_macro.ipynb:1\n",
      "\n",
      "Stacktrace:\n",
      "  [1] var\"@childstruct\"(__source__::LineNumberNode, __module__::Module, parentstruct::Any, childstructname::Any, addnames::Any, addtypes::Any, adddefaults::Any)\n",
      "    @ Main c:\\Users\\simon\\Documents\\Julia\\DEBBase.jl\\dev\\extendparams_macro.ipynb:7\n",
      "  [2] eval\n",
      "    @ .\\boot.jl:385 [inlined]\n",
      "  [3] include_string(mapexpr::typeof(REPL.softscope), mod::Module, code::String, filename::String)\n",
      "    @ Base .\\loading.jl:2076\n",
      "  [4] #invokelatest#2\n",
      "    @ .\\essentials.jl:892 [inlined]\n",
      "  [5] invokelatest\n",
      "    @ .\\essentials.jl:889 [inlined]\n",
      "  [6] (::VSCodeServer.var\"#219#220\"{VSCodeServer.NotebookRunCellArguments, String})()\n",
      "    @ VSCodeServer c:\\Users\\simon\\.vscode\\extensions\\julialang.language-julia-1.79.2\\scripts\\packages\\VSCodeServer\\src\\serve_notebook.jl:19\n",
      "  [7] withpath(f::VSCodeServer.var\"#219#220\"{VSCodeServer.NotebookRunCellArguments, String}, path::String)\n",
      "    @ VSCodeServer c:\\Users\\simon\\.vscode\\extensions\\julialang.language-julia-1.79.2\\scripts\\packages\\VSCodeServer\\src\\repl.jl:276\n",
      "  [8] notebook_runcell_request(conn::VSCodeServer.JSONRPC.JSONRPCEndpoint{Base.PipeEndpoint, Base.PipeEndpoint}, params::VSCodeServer.NotebookRunCellArguments)\n",
      "    @ VSCodeServer c:\\Users\\simon\\.vscode\\extensions\\julialang.language-julia-1.79.2\\scripts\\packages\\VSCodeServer\\src\\serve_notebook.jl:13\n",
      "  [9] dispatch_msg(x::VSCodeServer.JSONRPC.JSONRPCEndpoint{Base.PipeEndpoint, Base.PipeEndpoint}, dispatcher::VSCodeServer.JSONRPC.MsgDispatcher, msg::Dict{String, Any})\n",
      "    @ VSCodeServer.JSONRPC c:\\Users\\simon\\.vscode\\extensions\\julialang.language-julia-1.79.2\\scripts\\packages\\JSONRPC\\src\\typed.jl:67\n",
      " [10] serve_notebook(pipename::String, outputchannel_logger::Base.CoreLogging.SimpleLogger; crashreporting_pipename::String)\n",
      "    @ VSCodeServer c:\\Users\\simon\\.vscode\\extensions\\julialang.language-julia-1.79.2\\scripts\\packages\\VSCodeServer\\src\\serve_notebook.jl:139\n",
      " [11] top-level scope\n",
      "    @ c:\\Users\\simon\\.vscode\\extensions\\julialang.language-julia-1.79.2\\scripts\\notebook\\notebook.jl:35"
     ]
    }
   ],
   "source": []
  },
  {
   "cell_type": "code",
   "execution_count": 47,
   "metadata": {},
   "outputs": [
    {
     "data": {
      "text/plain": [
       "51-element Vector{Expr}:\n",
       " :(Z = Distributions.Dirac{Float64}(value=1.0))\n",
       " :(Z = Distributions.Dirac{Float64}(value=1.0))\n",
       " :(Z = Distributions.Dirac{Float64}(value=1.0))\n",
       " :(Z = Distributions.Dirac{Float64}(value=1.0))\n",
       " :(Z = Distributions.Dirac{Float64}(value=1.0))\n",
       " :(Z = Distributions.Dirac{Float64}(value=1.0))\n",
       " :(Z = Distributions.Dirac{Float64}(value=1.0))\n",
       " :(Z = Distributions.Dirac{Float64}(value=1.0))\n",
       " :(Z = Distributions.Dirac{Float64}(value=1.0))\n",
       " :(Z = Distributions.Dirac{Float64}(value=1.0))\n",
       " ⋮\n",
       " :(Z = Distributions.Dirac{Float64}(value=1.0))\n",
       " :(Z = Distributions.Dirac{Float64}(value=1.0))\n",
       " :(Z = Distributions.Dirac{Float64}(value=1.0))\n",
       " :(Z = Distributions.Dirac{Float64}(value=1.0))\n",
       " :(Z = Distributions.Dirac{Float64}(value=1.0))\n",
       " :(Z = Distributions.Dirac{Float64}(value=1.0))\n",
       " :(Z = Distributions.Dirac{Float64}(value=1.0))\n",
       " :(Z = Distributions.Dirac{Float64}(value=1.0))\n",
       " :(Z = Distributions.Dirac{Float64}(value=1.0))"
      ]
     },
     "metadata": {},
     "output_type": "display_data"
    }
   ],
   "source": [
    "fielddefs = [Expr(:(=), field, default) for (field_default) in zip(fields,defaults)]\n",
    "\n"
   ]
  },
  {
   "cell_type": "code",
   "execution_count": 46,
   "metadata": {},
   "outputs": [
    {
     "ename": "LoadError",
     "evalue": "LoadError: MethodError: no method matching iterate(::Expr)\n\nClosest candidates are:\n  iterate(!Matched::Plots.EachAnn)\n   @ Plots C:\\Users\\simon\\.julia\\packages\\Plots\\ju9dp\\src\\components.jl:570\n  iterate(!Matched::Plots.EachAnn, !Matched::Any)\n   @ Plots C:\\Users\\simon\\.julia\\packages\\Plots\\ju9dp\\src\\components.jl:570\n  iterate(!Matched::Base.MethodSpecializations)\n   @ Base reflection.jl:1148\n  ...\n\nin expression starting at c:\\Users\\simon\\Documents\\Julia\\DEBBase.jl\\dev\\extendparams_macro.ipynb:1",
     "output_type": "error",
     "traceback": [
      "LoadError: MethodError: no method matching iterate(::Expr)\n",
      "\n",
      "Closest candidates are:\n",
      "  iterate(!Matched::Plots.EachAnn)\n",
      "   @ Plots C:\\Users\\simon\\.julia\\packages\\Plots\\ju9dp\\src\\components.jl:570\n",
      "  iterate(!Matched::Plots.EachAnn, !Matched::Any)\n",
      "   @ Plots C:\\Users\\simon\\.julia\\packages\\Plots\\ju9dp\\src\\components.jl:570\n",
      "  iterate(!Matched::Base.MethodSpecializations)\n",
      "   @ Base reflection.jl:1148\n",
      "  ...\n",
      "\n",
      "in expression starting at c:\\Users\\simon\\Documents\\Julia\\DEBBase.jl\\dev\\extendparams_macro.ipynb:1\n",
      "\n",
      "Stacktrace:\n",
      "  [1] var\"@childstruct\"(__source__::LineNumberNode, __module__::Module, parentstruct::Any, childstructname::Any, addnames::Any, addtypes::Any, adddefaults::Any)\n",
      "    @ Main c:\\Users\\simon\\Documents\\Julia\\DEBBase.jl\\dev\\extendparams_macro.ipynb:7\n",
      "  [2] eval\n",
      "    @ .\\boot.jl:385 [inlined]\n",
      "  [3] include_string(mapexpr::typeof(REPL.softscope), mod::Module, code::String, filename::String)\n",
      "    @ Base .\\loading.jl:2076\n",
      "  [4] #invokelatest#2\n",
      "    @ .\\essentials.jl:892 [inlined]\n",
      "  [5] invokelatest\n",
      "    @ .\\essentials.jl:889 [inlined]\n",
      "  [6] (::VSCodeServer.var\"#219#220\"{VSCodeServer.NotebookRunCellArguments, String})()\n",
      "    @ VSCodeServer c:\\Users\\simon\\.vscode\\extensions\\julialang.language-julia-1.79.2\\scripts\\packages\\VSCodeServer\\src\\serve_notebook.jl:19\n",
      "  [7] withpath(f::VSCodeServer.var\"#219#220\"{VSCodeServer.NotebookRunCellArguments, String}, path::String)\n",
      "    @ VSCodeServer c:\\Users\\simon\\.vscode\\extensions\\julialang.language-julia-1.79.2\\scripts\\packages\\VSCodeServer\\src\\repl.jl:276\n",
      "  [8] notebook_runcell_request(conn::VSCodeServer.JSONRPC.JSONRPCEndpoint{Base.PipeEndpoint, Base.PipeEndpoint}, params::VSCodeServer.NotebookRunCellArguments)\n",
      "    @ VSCodeServer c:\\Users\\simon\\.vscode\\extensions\\julialang.language-julia-1.79.2\\scripts\\packages\\VSCodeServer\\src\\serve_notebook.jl:13\n",
      "  [9] dispatch_msg(x::VSCodeServer.JSONRPC.JSONRPCEndpoint{Base.PipeEndpoint, Base.PipeEndpoint}, dispatcher::VSCodeServer.JSONRPC.MsgDispatcher, msg::Dict{String, Any})\n",
      "    @ VSCodeServer.JSONRPC c:\\Users\\simon\\.vscode\\extensions\\julialang.language-julia-1.79.2\\scripts\\packages\\JSONRPC\\src\\typed.jl:67\n",
      " [10] serve_notebook(pipename::String, outputchannel_logger::Base.CoreLogging.SimpleLogger; crashreporting_pipename::String)\n",
      "    @ VSCodeServer c:\\Users\\simon\\.vscode\\extensions\\julialang.language-julia-1.79.2\\scripts\\packages\\VSCodeServer\\src\\serve_notebook.jl:139\n",
      " [11] top-level scope\n",
      "    @ c:\\Users\\simon\\.vscode\\extensions\\julialang.language-julia-1.79.2\\scripts\\notebook\\notebook.jl:35"
     ]
    }
   ],
   "source": [
    "@childstruct SpeciesParams NewSpeciesParams [:x] [Float64] [1.]"
   ]
  },
  {
   "cell_type": "code",
   "execution_count": 44,
   "metadata": {},
   "outputs": [
    {
     "ename": "UndefVarError",
     "evalue": "UndefVarError: `NewSpeciesParams` not defined",
     "output_type": "error",
     "traceback": [
      "UndefVarError: `NewSpeciesParams` not defined\n"
     ]
    }
   ],
   "source": [
    "NewSpeciesParams"
   ]
  },
  {
   "cell_type": "code",
   "execution_count": 38,
   "metadata": {},
   "outputs": [
    {
     "data": {
      "text/plain": [
       "51-element Vector{Expr}:\n",
       " :(Z = Distributions.Dirac{Float64}(value=1.0))\n",
       " :(Z = Distributions.Dirac{Float64}(value=1.0))\n",
       " :(Z = Distributions.Dirac{Float64}(value=1.0))\n",
       " :(Z = Distributions.Dirac{Float64}(value=1.0))\n",
       " :(Z = Distributions.Dirac{Float64}(value=1.0))\n",
       " :(Z = Distributions.Dirac{Float64}(value=1.0))\n",
       " :(Z = Distributions.Dirac{Float64}(value=1.0))\n",
       " :(Z = Distributions.Dirac{Float64}(value=1.0))\n",
       " :(Z = Distributions.Dirac{Float64}(value=1.0))\n",
       " :(Z = Distributions.Dirac{Float64}(value=1.0))\n",
       " ⋮\n",
       " :(Z = Distributions.Dirac{Float64}(value=1.0))\n",
       " :(Z = Distributions.Dirac{Float64}(value=1.0))\n",
       " :(Z = Distributions.Dirac{Float64}(value=1.0))\n",
       " :(Z = Distributions.Dirac{Float64}(value=1.0))\n",
       " :(Z = Distributions.Dirac{Float64}(value=1.0))\n",
       " :(Z = Distributions.Dirac{Float64}(value=1.0))\n",
       " :(Z = Distributions.Dirac{Float64}(value=1.0))\n",
       " :(Z = Distributions.Dirac{Float64}(value=1.0))\n",
       " :(Z = Distributions.Dirac{Float64}(value=1.0))"
      ]
     },
     "metadata": {},
     "output_type": "display_data"
    }
   ],
   "source": [
    "type = types[1]\n",
    "field = fields[1]\n",
    "default = defaults[1]\n",
    "\n"
   ]
  },
  {
   "cell_type": "code",
   "execution_count": 20,
   "metadata": {},
   "outputs": [
    {
     "data": {
      "text/plain": [
       "svec(Distributions.Distribution, Float64, Float64, @NamedTuple{X_emb_int::Bool, H_p::Bool, K_X::Bool}, Float64, Float64, Float64, Float64, Float64, Float64, Float64, Float64, Float64, Float64, Float64, Float64, Float64, Float64, Vector{Float64}, Vector{Float64}, Vector{Float64}, Vector{Float64}, Vector{Float64}, Vector{Function}, Vector{Function}, Vector{Function}, Vector{Function}, Vector{Function}, Union{Nothing, Vector{Float64}}, Union{Nothing, Vector{Float64}}, Union{Nothing, Vector{Float64}}, Union{Nothing, Vector{Float64}}, Union{Nothing, Vector{Float64}}, Union{Nothing, Vector{Float64}}, Union{Nothing, Vector{Float64}}, Union{Nothing, Vector{Float64}}, Union{Nothing, Vector{Float64}}, Union{Nothing, Vector{Float64}}, Union{Nothing, Vector{Float64}}, Union{Nothing, Vector{Float64}}, Union{Nothing, Vector{Float64}}, Union{Nothing, Vector{Float64}}, Union{Nothing, Vector{Float64}}, Union{Nothing, Vector{Function}}, Union{Nothing, Vector{Function}}, Union{Nothing, Vector{Function}}, Union{Nothing, Vector{Function}}, Union{Nothing, Vector{Function}}, Vector{Function}, Vector{Function})"
      ]
     },
     "metadata": {},
     "output_type": "display_data"
    }
   ],
   "source": [
    "SpeciesParams.types"
   ]
  },
  {
   "cell_type": "code",
   "execution_count": 19,
   "metadata": {},
   "outputs": [
    {
     "data": {
      "text/plain": [
       "(:name, :super, :parameters, :types, :instance, :layout, :hash, :flags)"
      ]
     },
     "metadata": {},
     "output_type": "display_data"
    }
   ],
   "source": [
    "fieldnames(DataType)"
   ]
  },
  {
   "cell_type": "code",
   "execution_count": 15,
   "metadata": {},
   "outputs": [
    {
     "data": {
      "text/plain": [
       ":Z"
      ]
     },
     "metadata": {},
     "output_type": "display_data"
    }
   ],
   "source": [
    "\n",
    "field = fields[1]\n",
    "default = "
   ]
  },
  {
   "cell_type": "code",
   "execution_count": 12,
   "metadata": {},
   "outputs": [
    {
     "data": {
      "text/plain": [
       "2-element Vector{Any}:\n",
       " (:Z, :Z_male, :sex_ratio, :propagate_zoom, :X_emb_int, :K_X, :Idot_max_rel, :Idot_max_rel_emb, :kappa, :eta_IA, :eta_AS, :eta_SA, :eta_AR, :k_M, :k_J, :H_p, :e_S, :b_S, :k_D_G, :k_D_M, :k_D_A, :k_D_R, :k_D_h, :drc_functs_G, :drc_functs_M, :drc_functs_A, :drc_functs_R, :drc_functs_h, :e_G, :e_M, :e_A, :e_R, :e_h, :b_G, :b_M, :b_A, :b_R, :b_h, :c_G, :c_M, :c_A, :c_R, :c_h, :d_G, :d_M, :d_A, :d_R, :d_h, :odefuncs, :rulefuncs)\n",
       " :t_M"
      ]
     },
     "metadata": {},
     "output_type": "display_data"
    }
   ],
   "source": [
    "fields "
   ]
  },
  {
   "cell_type": "code",
   "execution_count": null,
   "metadata": {},
   "outputs": [],
   "source": []
  }
 ],
 "metadata": {
  "kernelspec": {
   "display_name": "Julia 1.10.1",
   "language": "julia",
   "name": "julia-1.10"
  },
  "language_info": {
   "file_extension": ".jl",
   "mimetype": "application/julia",
   "name": "julia",
   "version": "1.10.1"
  }
 },
 "nbformat": 4,
 "nbformat_minor": 2
}
