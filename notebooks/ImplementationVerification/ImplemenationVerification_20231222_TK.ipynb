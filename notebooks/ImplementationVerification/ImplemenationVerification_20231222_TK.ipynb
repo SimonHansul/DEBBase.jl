{
 "cells": [
  {
   "cell_type": "markdown",
   "metadata": {},
   "source": [
    "# Implementation verification: Toxicokinetics"
   ]
  },
  {
   "cell_type": "code",
   "execution_count": 18,
   "metadata": {},
   "outputs": [
    {
     "name": "stderr",
     "output_type": "stream",
     "text": [
      "\u001b[91m\u001b[1mERROR: \u001b[22m\u001b[39mLoadError: "
     ]
    },
    {
     "name": "stderr",
     "output_type": "stream",
     "text": [
      "UndefVarError: `S` not defined"
     ]
    },
    {
     "name": "stderr",
     "output_type": "stream",
     "text": [
      "\n",
      "Stacktrace:\n",
      "  [1] \u001b[0m\u001b[1mDEB!\u001b[22m\u001b[0m\u001b[1m(\u001b[22m\u001b[90mdu\u001b[39m::\u001b[0mVector\u001b[90m{Float64}\u001b[39m, \u001b[90mu\u001b[39m::\u001b[0mVector\u001b[90m{Float64}\u001b[39m, \u001b[90mp\u001b[39m::\u001b[0mNamedTuple\u001b[90m{(:glb, :deb), Tuple{DEBBase.GlobalBaseParams, DEBBase.DEBBaseParams}}\u001b[39m, \u001b[90mt\u001b[39m::\u001b[0mFloat64\u001b[0m\u001b[1m)\u001b[22m\n",
      "\u001b[90m    @\u001b[39m \u001b[35mDEBBase\u001b[39m \u001b[90mc:\\Users\\simon\\Documents\\Julia\\DEBBase.jl\\src\\\u001b[39m\u001b[90m\u001b[4mModelFunctions.jl:209\u001b[24m\u001b[39m\n",
      "  [2] \u001b[0m\u001b[1m(::SciMLBase.Void{typeof(DEBBase.DEB!)})\u001b[22m\u001b[0m\u001b[1m(\u001b[22m::\u001b[0mVector\u001b[90m{Float64}\u001b[39m, ::"
     ]
    },
    {
     "name": "stderr",
     "output_type": "stream",
     "text": [
      "\u001b[0mVararg\u001b[90m{Any}\u001b[39m\u001b[0m\u001b[1m)\u001b[22m\n",
      "\u001b[90m    @\u001b[39m \u001b[36mSciMLBase\u001b[39m \u001b[90mC:\\Users\\simon\\.julia\\packages\\SciMLBase\\8XHkk\\src\\\u001b[39m\u001b[90m\u001b[4mutils.jl:481\u001b[24m\u001b[39m\n",
      "  [3] \u001b[0m\u001b[1m(::FunctionWrappers.CallWrapper{Nothing})\u001b[22m\u001b[0m\u001b[1m(\u001b[22m\u001b[90mf\u001b[39m::\u001b[0mSciMLBase.Void\u001b[90m{typeof(DEBBase.DEB!)}\u001b[39m, \u001b[90marg1\u001b[39m::\u001b[0mVector\u001b[90m{Float64}\u001b[39m, \u001b[90marg2\u001b[39m::\u001b[0mVector\u001b[90m{Float64}\u001b[39m, \u001b[90marg3\u001b[39m::\u001b[0mNamedTuple\u001b[90m{(:glb, :deb), Tuple{DEBBase.GlobalBaseParams, DEBBase.DEBBaseParams}}\u001b[39m, \u001b[90marg4\u001b[39m::\u001b[0mFloat64\u001b[0m\u001b[1m)\u001b[22m\n",
      "\u001b[90m    @\u001b[39m \u001b[32mFunctionWrappers\u001b[39m \u001b[90mC:\\Users\\simon\\.julia\\packages\\FunctionWrappers\\Q5cBx\\src\\\u001b[39m\u001b[90m\u001b[4mFunctionWrappers.jl:65\u001b[24m\u001b[39m\n",
      "  [4] \u001b[0m\u001b[1mmacro expansion\u001b[22m\n",
      "\u001b[90m    @\u001b[39m \u001b[90mC:\\Users\\simon\\.julia\\packages\\FunctionWrappers\\Q5cBx\\src\\\u001b[39m\u001b[90m\u001b[4mFunctionWrappers.jl:137\u001b[24m\u001b[39m\u001b[90m [inlined]\u001b[39m\n",
      "  [5] \u001b[0m\u001b[1mdo_ccall\u001b[22m\n",
      "\u001b[90m    @\u001b[39m \u001b[90mC:\\Users\\simon\\.julia\\packages\\FunctionWrappers\\Q5cBx\\src\\\u001b[39m\u001b[90m\u001b[4mFunctionWrappers.jl:125\u001b[24m\u001b[39m\u001b[90m [inlined]\u001b[39m\n",
      "  [6] \u001b[0m\u001b[1mFunctionWrapper\u001b[22m\n",
      "\u001b[90m    @\u001b[39m \u001b[90mC:\\Users\\simon\\.julia\\packages\\FunctionWrappers\\Q5cBx\\src\\\u001b[39m\u001b[90m\u001b[4mFunctionWrappers.jl:144\u001b[24m\u001b[39m\u001b[90m [inlined]\u001b[39m\n",
      "  [7] \u001b[0m\u001b[1m_call\u001b[22m\n",
      "\u001b[90m    @\u001b[39m \u001b[90mC:\\Users\\simon\\.julia\\packages\\FunctionWrappersWrappers\\9XR0m\\src\\\u001b[39m\u001b[90m\u001b[4mFunctionWrappersWrappers.jl:12\u001b[24m\u001b[39m\u001b[90m [inlined]\u001b[39m\n",
      "  [8] \u001b[0m\u001b[1mFunctionWrappersWrapper\u001b[22m\n",
      "\u001b[90m    @\u001b[39m \u001b[90mC:\\Users\\simon\\.julia\\packages\\FunctionWrappersWrappers\\9XR0m\\src\\\u001b[39m\u001b[90m\u001b[4mFunctionWrappersWrappers.jl:10\u001b[24m\u001b[39m\u001b[90m [inlined]\u001b[39m\n",
      "  [9] \u001b[0m\u001b[1mVoid\u001b[22m\n",
      "\u001b[90m    @\u001b[39m \u001b[90mC:\\Users\\simon\\.julia\\packages\\SciMLBase\\8XHkk\\src\\\u001b[39m\u001b[90m\u001b[4mutils.jl:481\u001b[24m\u001b[39m\u001b[90m [inlined]\u001b[39m\n",
      " [10] \u001b[0m\u001b[1m(::FunctionWrappers.CallWrapper{Nothing})\u001b[22m\u001b[0m\u001b[1m(\u001b[22m\u001b[90mf\u001b[39m::\u001b[0mSciMLBase.Void\u001b[90m{FunctionWrappersWrappers.FunctionWrappersWrapper{Tuple{FunctionWrappers.FunctionWrapper{Nothing, Tuple{Vector{Float64}, Vector{Float64}, NamedTuple{(:glb, :deb), Tuple{DEBBase.GlobalBaseParams, DEBBase.DEBBaseParams}}, Float64}}, FunctionWrappers.FunctionWrapper{Nothing, Tuple{Vector{ForwardDiff.Dual{ForwardDiff.Tag{DiffEqBase.OrdinaryDiffEqTag, Float64}, Float64, 1}}, Vector{ForwardDiff.Dual{ForwardDiff.Tag{DiffEqBase.OrdinaryDiffEqTag, Float64}, Float64, 1}}, NamedTuple{(:glb, :deb), Tuple{DEBBase.GlobalBaseParams, DEBBase.DEBBaseParams}}, Float64}}, FunctionWrappers.FunctionWrapper{Nothing, Tuple{Vector{ForwardDiff.Dual{ForwardDiff.Tag{DiffEqBase.OrdinaryDiffEqTag, Float64}, Float64, 1}}, Vector{Float64}, NamedTuple{(:glb, :deb), Tuple{DEBBase.GlobalBaseParams, DEBBase.DEBBaseParams}}, ForwardDiff.Dual{ForwardDiff.Tag{DiffEqBase.OrdinaryDiffEqTag, Float64}, Float64, 1}}}, FunctionWrappers.FunctionWrapper{Nothing, Tuple{Vector{ForwardDiff.Dual{ForwardDiff.Tag{DiffEqBase.OrdinaryDiffEqTag, Float64}, Float64, 1}}, Vector{ForwardDiff.Dual{ForwardDiff.Tag{DiffEqBase.OrdinaryDiffEqTag, Float64}, Float64, 1}}, NamedTuple{(:glb, :deb), Tuple{DEBBase.GlobalBaseParams, DEBBase.DEBBaseParams}}, ForwardDiff.Dual{ForwardDiff.Tag{DiffEqBase.OrdinaryDiffEqTag, Float64}, Float64, 1}}}}, false}}\u001b[39m, \u001b[90marg1\u001b[39m::\u001b[0mVector\u001b[90m{Float64}\u001b[39m, \u001b[90marg2\u001b[39m::\u001b[0mVector\u001b[90m{Float64}\u001b[39m, \u001b[90marg3\u001b[39m::\u001b[0mNamedTuple\u001b[90m{(:glb, :deb), Tuple{DEBBase.GlobalBaseParams, DEBBase.DEBBaseParams}}\u001b[39m, \u001b[90marg4\u001b[39m::\u001b[0mFloat64\u001b[0m\u001b[1m)\u001b[22m\n",
      "\u001b[90m    @\u001b[39m \u001b[32mFunctionWrappers\u001b[39m \u001b[90mC:\\Users\\simon\\.julia\\packages\\FunctionWrappers\\Q5cBx\\src\\\u001b[39m\u001b[90m\u001b[4mFunctionWrappers.jl:65\u001b[24m\u001b[39m\n",
      " [11] \u001b[0m\u001b[1mmacro expansion\u001b[22m\n",
      "\u001b[90m    @\u001b[39m \u001b[90mC:\\Users\\simon\\.julia\\packages\\FunctionWrappers\\Q5cBx\\src\\\u001b[39m\u001b[90m\u001b[4mFunctionWrappers.jl:137\u001b[24m\u001b[39m\u001b[90m [inlined]\u001b[39m\n",
      " [12] \u001b[0m\u001b[1mdo_ccall\u001b[22m\n",
      "\u001b[90m    @\u001b[39m \u001b[90mC:\\Users\\simon\\.julia\\packages\\FunctionWrappers\\Q5cBx\\src\\\u001b[39m\u001b[90m\u001b[4mFunctionWrappers.jl:125\u001b[24m\u001b[39m\u001b[90m [inlined]\u001b[39m\n",
      " [13] \u001b[0m\u001b[1mFunctionWrapper\u001b[22m\n",
      "\u001b[90m    @\u001b[39m \u001b[90mC:\\Users\\simon\\.julia\\packages\\FunctionWrappers\\Q5cBx\\src\\\u001b[39m\u001b[90m\u001b[4mFunctionWrappers.jl:144\u001b[24m\u001b[39m\u001b[90m [inlined]\u001b[39m\n",
      " [14] \u001b[0m\u001b[1m_call\u001b[22m\n",
      "\u001b[90m    @\u001b[39m \u001b[90mC:\\Users\\simon\\.julia\\packages\\FunctionWrappersWrappers\\9XR0m\\src\\\u001b[39m\u001b[90m\u001b[4mFunctionWrappersWrappers.jl:12\u001b[24m\u001b[39m\u001b[90m [inlined]\u001b[39m\n",
      " [15] \u001b[0m\u001b[1mFunctionWrappersWrapper\u001b[22m\n",
      "\u001b[90m    @\u001b[39m \u001b[90mC:\\Users\\simon\\.julia\\packages\\FunctionWrappersWrappers\\9XR0m\\src\\\u001b[39m\u001b[90m\u001b[4mFunctionWrappersWrappers.jl:10\u001b[24m\u001b[39m\u001b[90m [inlined]\u001b[39m\n",
      " [16] \u001b[0m\u001b[1mODEFunction\u001b[22m\n",
      "\u001b[90m    @\u001b[39m \u001b[90mC:\\Users\\simon\\.julia\\packages\\SciMLBase\\8XHkk\\src\\\u001b[39m\u001b[90m\u001b[4mscimlfunctions.jl:2407\u001b[24m\u001b[39m\u001b[90m [inlined]\u001b[39m\n",
      " [17] \u001b[0m\u001b[1mode_determine_initdt\u001b[22m\u001b[0m\u001b[1m(\u001b[22m\u001b[90mu0\u001b[39m::\u001b[0mVector\u001b[90m{Float64}\u001b[39m, \u001b[90mt\u001b[39m::\u001b[0mFloat64, \u001b[90mtdir\u001b[39m::\u001b[0mFloat64, \u001b[90mdtmax\u001b[39m::\u001b[0mFloat64, \u001b[90mabstol\u001b[39m::\u001b[0mFloat64, \u001b[90mreltol\u001b[39m::\u001b[0mFloat64, \u001b[90minternalnorm\u001b[39m::\u001b[0mtypeof(DiffEqBase.ODE_DEFAULT_NORM), \u001b[90mprob\u001b[39m::\u001b[0mSciMLBase.ODEProblem\u001b[90m{Vector{Float64}, Tuple{Float64, Float64}, true, NamedTuple{(:glb, :deb), Tuple{DEBBase.GlobalBaseParams, DEBBase.DEBBaseParams}}, SciMLBase.ODEFunction{true, SciMLBase.AutoSpecialize, FunctionWrappersWrappers.FunctionWrappersWrapper{Tuple{FunctionWrappers.FunctionWrapper{Nothing, Tuple{Vector{Float64}, Vector{Float64}, NamedTuple{(:glb, :deb), Tuple{DEBBase.GlobalBaseParams, DEBBase.DEBBaseParams}}, Float64}}, FunctionWrappers.FunctionWrapper{Nothing, Tuple{Vector{ForwardDiff.Dual{ForwardDiff.Tag{DiffEqBase.OrdinaryDiffEqTag, Float64}, Float64, 1}}, Vector{ForwardDiff.Dual{ForwardDiff.Tag{DiffEqBase.OrdinaryDiffEqTag, Float64}, Float64, 1}}, NamedTuple{(:glb, :deb), Tuple{DEBBase.GlobalBaseParams, DEBBase.DEBBaseParams}}, Float64}}, FunctionWrappers.FunctionWrapper{Nothing, Tuple{Vector{ForwardDiff.Dual{ForwardDiff.Tag{DiffEqBase.OrdinaryDiffEqTag, Float64}, Float64, 1}}, Vector{Float64}, NamedTuple{(:glb, :deb), Tuple{DEBBase.GlobalBaseParams, DEBBase.DEBBaseParams}}, ForwardDiff.Dual{ForwardDiff.Tag{DiffEqBase.OrdinaryDiffEqTag, Float64}, Float64, 1}}}, FunctionWrappers.FunctionWrapper{Nothing, Tuple{Vector{ForwardDiff.Dual{ForwardDiff.Tag{DiffEqBase.OrdinaryDiffEqTag, Float64}, Float64, 1}}, Vector{ForwardDiff.Dual{ForwardDiff.Tag{DiffEqBase.OrdinaryDiffEqTag, Float64}, Float64, 1}}, NamedTuple{(:glb, :deb), Tuple{DEBBase.GlobalBaseParams, DEBBase.DEBBaseParams}}, ForwardDiff.Dual{ForwardDiff.Tag{DiffEqBase.OrdinaryDiffEqTag, Float64}, Float64, 1}}}}, false}, LinearAlgebra.UniformScaling{Bool}, Nothing, Nothing, Nothing, Nothing, Nothing, Nothing, Nothing, Nothing, Nothing, Nothing, Nothing, Nothing, Nothing, Nothing, typeof(SciMLBase.DEFAULT_OBSERVED), Nothing, Nothing}, Base.Pairs{Symbol, Union{}, Tuple{}, NamedTuple{(), Tuple{}}}, SciMLBase.StandardODEProblem}\u001b[39m, \u001b[90mintegrator\u001b[39m::"
     ]
    },
    {
     "name": "stderr",
     "output_type": "stream",
     "text": [
      "\u001b[0mOrdinaryDiffEq.ODEIntegrator\u001b[90m{OrdinaryDiffEq.CompositeAlgorithm{Tuple{OrdinaryDiffEq.Vern7{typeof(OrdinaryDiffEq.trivial_limiter!), typeof(OrdinaryDiffEq.trivial_limiter!), Static.False}, OrdinaryDiffEq.Rodas5P{1, false, Nothing, typeof(OrdinaryDiffEq.DEFAULT_PRECS), Val{:forward}, true, nothing}}, OrdinaryDiffEq.AutoSwitchCache{OrdinaryDiffEq.Vern7{typeof(OrdinaryDiffEq.trivial_limiter!), typeof(OrdinaryDiffEq.trivial_limiter!), Static.False}, OrdinaryDiffEq.Rodas5P{0, false, Nothing, typeof(OrdinaryDiffEq.DEFAULT_PRECS), Val{:forward}, true, nothing}, Rational{Int64}, Int64}}, true, Vector{Float64}, Nothing, Float64, NamedTuple{(:glb, :deb), Tuple{DEBBase.GlobalBaseParams, DEBBase.DEBBaseParams}}, Float64, Float64, Float64, Float64, Vector{Vector{Float64}}, SciMLBase.ODESolution{Float64, 2, Vector{Vector{Float64}}, Nothing, Nothing, Vector{Float64}, Vector{Vector{Vector{Float64}}}, SciMLBase.ODEProblem{Vector{Float64}, Tuple{Float64, Float64}, true, NamedTuple{(:glb, :deb), Tuple{DEBBase.GlobalBaseParams, DEBBase.DEBBaseParams}}, SciMLBase.ODEFunction{true, SciMLBase.AutoSpecialize, FunctionWrappersWrappers.FunctionWrappersWrapper{Tuple{FunctionWrappers.FunctionWrapper{Nothing, Tuple{Vector{Float64}, Vector{Float64}, NamedTuple{(:glb, :deb), Tuple{DEBBase.GlobalBaseParams, DEBBase.DEBBaseParams}}, Float64}}, FunctionWrappers.FunctionWrapper{Nothing, Tuple{Vector{ForwardDiff.Dual{ForwardDiff.Tag{DiffEqBase.OrdinaryDiffEqTag, Float64}, Float64, 1}}, Vector{ForwardDiff.Dual{ForwardDiff.Tag{DiffEqBase.OrdinaryDiffEqTag, Float64}, Float64, 1}}, NamedTuple{(:glb, :deb), Tuple{DEBBase.GlobalBaseParams, DEBBase.DEBBaseParams}}, Float64}}, FunctionWrappers.FunctionWrapper{Nothing, Tuple{Vector{ForwardDiff.Dual{ForwardDiff.Tag{DiffEqBase.OrdinaryDiffEqTag, Float64}, Float64, 1}}, Vector{Float64}, NamedTuple{(:glb, :deb), Tuple{DEBBase.GlobalBaseParams, DEBBase.DEBBaseParams}}, ForwardDiff.Dual{ForwardDiff.Tag{DiffEqBase.OrdinaryDiffEqTag, Float64}, Float64, 1}}}, FunctionWrappers.FunctionWrapper{Nothing, Tuple{Vector{ForwardDiff.Dual{ForwardDiff.Tag{DiffEqBase.OrdinaryDiffEqTag, Float64}, Float64, 1}}, Vector{ForwardDiff.Dual{ForwardDiff.Tag{DiffEqBase.OrdinaryDiffEqTag, Float64}, Float64, 1}}, NamedTuple{(:glb, :deb), Tuple{DEBBase.GlobalBaseParams, DEBBase.DEBBaseParams}}, ForwardDiff.Dual{ForwardDiff.Tag{DiffEqBase.OrdinaryDiffEqTag, Float64}, Float64, 1}}}}, false}, LinearAlgebra.UniformScaling{Bool}, Nothing, Nothing, Nothing, Nothing, Nothing, Nothing, Nothing, Nothing, Nothing, Nothing, Nothing, Nothing, Nothing, Nothing, typeof(SciMLBase.DEFAULT_OBSERVED), Nothing, Nothing}, Base.Pairs{Symbol, Union{}, Tuple{}, NamedTuple{(), Tuple{}}}, SciMLBase.StandardODEProblem}, OrdinaryDiffEq.CompositeAlgorithm{Tuple{OrdinaryDiffEq.Vern7{typeof(OrdinaryDiffEq.trivial_limiter!), typeof(OrdinaryDiffEq.trivial_limiter!), Static.False}, OrdinaryDiffEq.Rodas5P{1, false, Nothing, typeof(OrdinaryDiffEq.DEFAULT_PRECS), Val{:forward}, true, nothing}}, OrdinaryDiffEq.AutoSwitchCache{OrdinaryDiffEq.Vern7{typeof(OrdinaryDiffEq.trivial_limiter!), typeof(OrdinaryDiffEq.trivial_limiter!), Static.False}, OrdinaryDiffEq.Rodas5P{0, false, Nothing, typeof(OrdinaryDiffEq.DEFAULT_PRECS), Val{:forward}, true, nothing}, Rational{Int64}, Int64}}, OrdinaryDiffEq.CompositeInterpolationData{SciMLBase.ODEFunction{true, SciMLBase.AutoSpecialize, FunctionWrappersWrappers.FunctionWrappersWrapper{Tuple{FunctionWrappers.FunctionWrapper{Nothing, Tuple{Vector{Float64}, Vector{Float64}, NamedTuple{(:glb, :deb), Tuple{DEBBase.GlobalBaseParams, DEBBase.DEBBaseParams}}, Float64}}, FunctionWrappers.FunctionWrapper{Nothing, Tuple{Vector{ForwardDiff.Dual{ForwardDiff.Tag{DiffEqBase.OrdinaryDiffEqTag, Float64}, Float64, 1}}, Vector{ForwardDiff.Dual{ForwardDiff.Tag{DiffEqBase.OrdinaryDiffEqTag, Float64}, Float64, 1}}, NamedTuple{(:glb, :deb), Tuple{DEBBase.GlobalBaseParams, DEBBase.DEBBaseParams}}, Float64}}, FunctionWrappers.FunctionWrapper{Nothing, Tuple{Vector{ForwardDiff.Dual{ForwardDiff.Tag{DiffEqBase.OrdinaryDiffEqTag, Float64}, Float64, 1}}, Vector{Float64}, NamedTuple{(:glb, :deb), Tuple{DEBBase.GlobalBaseParams, DEBBase.DEBBaseParams}}, ForwardDiff.Dual{ForwardDiff.Tag{DiffEqBase.OrdinaryDiffEqTag, Float64}, Float64, 1}}}, FunctionWrappers.FunctionWrapper{Nothing, Tuple{Vector{ForwardDiff.Dual{ForwardDiff.Tag{DiffEqBase.OrdinaryDiffEqTag, Float64}, Float64, 1}}, Vector{ForwardDiff.Dual{ForwardDiff.Tag{DiffEqBase.OrdinaryDiffEqTag, Float64}, Float64, 1}}, NamedTuple{(:glb, :deb), Tuple{DEBBase.GlobalBaseParams, DEBBase.DEBBaseParams}}, ForwardDiff.Dual{ForwardDiff.Tag{DiffEqBase.OrdinaryDiffEqTag, Float64}, Float64, 1}}}}, false}, LinearAlgebra.UniformScaling{Bool}, Nothing, Nothing, Nothing, Nothing, Nothing, Nothing, Nothing, Nothing, Nothing, Nothing, Nothing, Nothing, Nothing, Nothing, typeof(SciMLBase.DEFAULT_OBSERVED), Nothing, Nothing}, Vector{Vector{Float64}}, Vector{Float64}, Vector{Vector{Vector{Float64}}}, OrdinaryDiffEq.CompositeCache{Tuple{OrdinaryDiffEq.Vern7Cache{Vector{Float64}, Vector{Float64}, Vector{Float64}, typeof(OrdinaryDiffEq.trivial_limiter!), typeof(OrdinaryDiffEq.trivial_limiter!), Static.False}, OrdinaryDiffEq.Rosenbrock5Cache{Vector{Float64}, Vector{Float64}, Vector{Float64}, Matrix{Float64}, Matrix{Float64}, OrdinaryDiffEq.Rodas5Tableau{Float64, Float64}, SciMLBase.TimeGradientWrapper{true, SciMLBase.ODEFunction{true, SciMLBase.AutoSpecialize, FunctionWrappersWrappers.FunctionWrappersWrapper{Tuple{FunctionWrappers.FunctionWrapper{Nothing, Tuple{Vector{Float64}, Vector{Float64}, NamedTuple{(:glb, :deb), Tuple{DEBBase.GlobalBaseParams, DEBBase.DEBBaseParams}}, Float64}}, FunctionWrappers.FunctionWrapper{Nothing, Tuple{Vector{ForwardDiff.Dual{ForwardDiff.Tag{DiffEqBase.OrdinaryDiffEqTag, Float64}, Float64, 1}}, Vector{ForwardDiff.Dual{ForwardDiff.Tag{DiffEqBase.OrdinaryDiffEqTag, Float64}, Float64, 1}}, NamedTuple{(:glb, :deb), Tuple{DEBBase.GlobalBaseParams, DEBBase.DEBBaseParams}}, Float64}}, FunctionWrappers.FunctionWrapper{Nothing, Tuple{Vector{ForwardDiff.Dual{ForwardDiff.Tag{DiffEqBase.OrdinaryDiffEqTag, Float64}, Float64, 1}}, Vector{Float64}, NamedTuple{(:glb, :deb), Tuple{DEBBase.GlobalBaseParams, DEBBase.DEBBaseParams}}, ForwardDiff.Dual{ForwardDiff.Tag{DiffEqBase.OrdinaryDiffEqTag, Float64}, Float64, 1}}}, FunctionWrappers.FunctionWrapper{Nothing, Tuple{Vector{ForwardDiff.Dual{ForwardDiff.Tag{DiffEqBase.OrdinaryDiffEqTag, Float64}, Float64, 1}}, Vector{ForwardDiff.Dual{ForwardDiff.Tag{DiffEqBase.OrdinaryDiffEqTag, Float64}, Float64, 1}}, NamedTuple{(:glb, :deb), Tuple{DEBBase.GlobalBaseParams, DEBBase.DEBBaseParams}}, ForwardDiff.Dual{ForwardDiff.Tag{DiffEqBase.OrdinaryDiffEqTag, Float64}, Float64, 1}}}}, false}, LinearAlgebra.UniformScaling{Bool}, Nothing, Nothing, Nothing, Nothing, Nothing, Nothing, Nothing, Nothing, Nothing, Nothing, Nothing, Nothing, Nothing, Nothing, typeof(SciMLBase.DEFAULT_OBSERVED), Nothing, Nothing}, Vector{Float64}, NamedTuple{(:glb, :deb), Tuple{DEBBase.GlobalBaseParams, DEBBase.DEBBaseParams}}}, SciMLBase.UJacobianWrapper{true, SciMLBase.ODEFunction{true, SciMLBase.AutoSpecialize, FunctionWrappersWrappers.FunctionWrappersWrapper{Tuple{FunctionWrappers.FunctionWrapper{Nothing, Tuple{Vector{Float64}, Vector{Float64}, NamedTuple{(:glb, :deb), Tuple{DEBBase.GlobalBaseParams, DEBBase.DEBBaseParams}}, Float64}}, FunctionWrappers.FunctionWrapper{Nothing, Tuple{Vector{ForwardDiff.Dual{ForwardDiff.Tag{DiffEqBase.OrdinaryDiffEqTag, Float64}, Float64, 1}}, Vector{ForwardDiff.Dual{ForwardDiff.Tag{DiffEqBase.OrdinaryDiffEqTag, Float64}, Float64, 1}}, NamedTuple{(:glb, :deb), Tuple{DEBBase.GlobalBaseParams, DEBBase.DEBBaseParams}}, Float64}}, FunctionWrappers.FunctionWrapper{Nothing, Tuple{Vector{ForwardDiff.Dual{ForwardDiff.Tag{DiffEqBase.OrdinaryDiffEqTag, Float64}, Float64, 1}}, Vector{Float64}, NamedTuple{(:glb, :deb), Tuple{DEBBase.GlobalBaseParams, DEBBase.DEBBaseParams}}, ForwardDiff.Dual{ForwardDiff.Tag{DiffEqBase.OrdinaryDiffEqTag, Float64}, Float64, 1}}}, FunctionWrappers.FunctionWrapper{Nothing, Tuple{Vector{ForwardDiff.Dual{ForwardDiff.Tag{DiffEqBase.OrdinaryDiffEqTag, Float64}, Float64, 1}}, Vector{ForwardDiff.Dual{ForwardDiff.Tag{DiffEqBase.OrdinaryDiffEqTag, Float64}, Float64, 1}}, NamedTuple{(:glb, :deb), Tuple{DEBBase.GlobalBaseParams, DEBBase.DEBBaseParams}}, ForwardDiff.Dual{ForwardDiff.Tag{DiffEqBase.OrdinaryDiffEqTag, Float64}, Float64, 1}}}}, false}, LinearAlgebra.UniformScaling{Bool}, Nothing, Nothing, Nothing, Nothing, Nothing, Nothing, Nothing, Nothing, Nothing, Nothing, Nothing, Nothing, Nothing, Nothing, typeof(SciMLBase.DEFAULT_OBSERVED), Nothing, Nothing}, Float64, NamedTuple{(:glb, :deb), Tuple{DEBBase.GlobalBaseParams, DEBBase.DEBBaseParams}}}, LinearSolve.LinearCache{Matrix{Float64}, Vector{Float64}, Vector{Float64}, SciMLBase.NullParameters, LinearSolve.DefaultLinearSolver, LinearSolve.DefaultLinearSolverInit{LinearAlgebra.LU{Float64, Matrix{Float64}, Vector{Int64}}, LinearAlgebra.QRCompactWY{Float64, Matrix{Float64}, Matrix{Float64}}, Nothing, Nothing, Nothing, Nothing, Nothing, Nothing, LinearAlgebra.LU{Float64, Matrix{Float64}, Vector{Int64}}, Tuple{LinearAlgebra.LU{Float64, Matrix{Float64}, Vector{Int64}}, Vector{Int64}}, Nothing, Nothing, Nothing, LinearAlgebra.SVD{Float64, Float64, Matrix{Float64}, Vector{Float64}}, LinearAlgebra.Cholesky{Float64, Matrix{Float64}}, LinearAlgebra.Cholesky{Float64, Matrix{Float64}}, Tuple{LinearAlgebra.LU{Float64, Matrix{Float64}, Vector{Int32}}, Base.RefValue{Int32}}, Tuple{LinearAlgebra.LU{Float64, Matrix{Float64}, Vector{Int64}}, Base.RefValue{Int64}}, LinearAlgebra.QRPivoted{Float64, Matrix{Float64}, Vector{Float64}, Vector{Int64}}}, LinearSolve.InvPreconditioner{LinearAlgebra.Diagonal{Float64, Vector{Float64}}}, LinearAlgebra.Diagonal{Float64, Vector{Float64}}, Float64, Bool}, FiniteDiff.JacobianCache{Vector{Float64}, Vector{Float64}, Vector{Float64}, Vector{Float64}, UnitRange{Int64}, Nothing, Val{:forward}(), Float64}, FiniteDiff.GradientCache{Nothing, Vector{Float64}, Vector{Float64}, Float64, Val{:forward}(), Float64, Val{true}()}, Float64, OrdinaryDiffEq.Rodas5P{1, false, Nothing, typeof(OrdinaryDiffEq.DEFAULT_PRECS), Val{:forward}, true, nothing}}}, OrdinaryDiffEq.AutoSwitchCache{OrdinaryDiffEq.Vern7{typeof(OrdinaryDiffEq.trivial_limiter!), typeof(OrdinaryDiffEq.trivial_limiter!), Static.False}, OrdinaryDiffEq.Rodas5P{0, false, Nothing, typeof(OrdinaryDiffEq.DEFAULT_PRECS), Val{:forward}, true, nothing}, Rational{Int64}, Int64}}}, SciMLBase.DEStats, Vector{Int64}}, SciMLBase.ODEFunction{true, SciMLBase.AutoSpecialize, FunctionWrappersWrappers.FunctionWrappersWrapper{Tuple{FunctionWrappers.FunctionWrapper{Nothing, Tuple{Vector{Float64}, Vector{Float64}, NamedTuple{(:glb, :deb), Tuple{DEBBase.GlobalBaseParams, DEBBase.DEBBaseParams}}, Float64}}, FunctionWrappers.FunctionWrapper{Nothing, Tuple{Vector{ForwardDiff.Dual{ForwardDiff.Tag{DiffEqBase.OrdinaryDiffEqTag, Float64}, Float64, 1}}, Vector{ForwardDiff.Dual{ForwardDiff.Tag{DiffEqBase.OrdinaryDiffEqTag, Float64}, Float64, 1}}, NamedTuple{(:glb, :deb), Tuple{DEBBase.GlobalBaseParams, DEBBase.DEBBaseParams}}, Float64}}, FunctionWrappers.FunctionWrapper{Nothing, Tuple{Vector{ForwardDiff.Dual{ForwardDiff.Tag{DiffEqBase.OrdinaryDiffEqTag, Float64}, Float64, 1}}, Vector{Float64}, NamedTuple{(:glb, :deb), Tuple{DEBBase.GlobalBaseParams, DEBBase.DEBBaseParams}}, ForwardDiff.Dual{ForwardDiff.Tag{DiffEqBase.OrdinaryDiffEqTag, Float64}, Float64, 1}}}, FunctionWrappers.FunctionWrapper{Nothing, Tuple{Vector{ForwardDiff.Dual{ForwardDiff.Tag{DiffEqBase.OrdinaryDiffEqTag, Float64}, Float64, 1}}, Vector{ForwardDiff.Dual{ForwardDiff.Tag{DiffEqBase.OrdinaryDiffEqTag, Float64}, Float64, 1}}, NamedTuple{(:glb, :deb), Tuple{DEBBase.GlobalBaseParams, DEBBase.DEBBaseParams}}, ForwardDiff.Dual{ForwardDiff.Tag{DiffEqBase.OrdinaryDiffEqTag, Float64}, Float64, 1}}}}, false}, LinearAlgebra.UniformScaling{Bool}, Nothing, Nothing, Nothing, Nothing, Nothing, Nothing, Nothing, Nothing, Nothing, Nothing, Nothing, Nothing, Nothing, Nothing, typeof(SciMLBase.DEFAULT_OBSERVED), Nothing, Nothing}, OrdinaryDiffEq.CompositeCache{Tuple{OrdinaryDiffEq.Vern7Cache{Vector{Float64}, Vector{Float64}, Vector{Float64}, typeof(OrdinaryDiffEq.trivial_limiter!), typeof(OrdinaryDiffEq.trivial_limiter!), Static.False}, OrdinaryDiffEq.Rosenbrock5Cache{Vector{Float64}, Vector{Float64}, Vector{Float64}, Matrix{Float64}, Matrix{Float64}, OrdinaryDiffEq.Rodas5Tableau{Float64, Float64}, SciMLBase.TimeGradientWrapper{true, SciMLBase.ODEFunction{true, SciMLBase.AutoSpecialize, FunctionWrappersWrappers.FunctionWrappersWrapper{Tuple{FunctionWrappers.FunctionWrapper{Nothing, Tuple{Vector{Float64}, Vector{Float64}, NamedTuple{(:glb, :deb), Tuple{DEBBase.GlobalBaseParams, DEBBase.DEBBaseParams}}, Float64}}, FunctionWrappers.FunctionWrapper{Nothing, Tuple{Vector{ForwardDiff.Dual{ForwardDiff.Tag{DiffEqBase.OrdinaryDiffEqTag, Float64}, Float64, 1}}, Vector{ForwardDiff.Dual{ForwardDiff.Tag{DiffEqBase.OrdinaryDiffEqTag, Float64}, Float64, 1}}, NamedTuple{(:glb, :deb), Tuple{DEBBase.GlobalBaseParams, DEBBase.DEBBaseParams}}, Float64}}, FunctionWrappers.FunctionWrapper{Nothing, Tuple{Vector{ForwardDiff.Dual{ForwardDiff.Tag{DiffEqBase.OrdinaryDiffEqTag, Float64}, Float64, 1}}, Vector{Float64}, NamedTuple{(:glb, :deb), Tuple{DEBBase.GlobalBaseParams, DEBBase.DEBBaseParams}}, ForwardDiff.Dual{ForwardDiff.Tag{DiffEqBase.OrdinaryDiffEqTag, Float64}, Float64, 1}}}, FunctionWrappers.FunctionWrapper{Nothing, Tuple{Vector{ForwardDiff.Dual{ForwardDiff.Tag{DiffEqBase.OrdinaryDiffEqTag, Float64}, Float64, 1}}, Vector{ForwardDiff.Dual{ForwardDiff.Tag{DiffEqBase.OrdinaryDiffEqTag, Float64}, Float64, 1}}, NamedTuple{(:glb, :deb), Tuple{DEBBase.GlobalBaseParams, DEBBase.DEBBaseParams}}, ForwardDiff.Dual{ForwardDiff.Tag{DiffEqBase.OrdinaryDiffEqTag, Float64}, Float64, 1}}}}, false}, LinearAlgebra.UniformScaling{Bool}, Nothing, Nothing, Nothing, Nothing, Nothing, Nothing, Nothing, Nothing, Nothing, Nothing, Nothing, Nothing, Nothing, Nothing, typeof(SciMLBase.DEFAULT_OBSERVED), Nothing, Nothing}, Vector{Float64}, NamedTuple{(:glb, :deb), Tuple{DEBBase.GlobalBaseParams, DEBBase.DEBBaseParams}}}, SciMLBase.UJacobianWrapper{true, SciMLBase.ODEFunction{true, SciMLBase.AutoSpecialize, FunctionWrappersWrappers.FunctionWrappersWrapper{Tuple{FunctionWrappers.FunctionWrapper{Nothing, Tuple{Vector{Float64}, Vector{Float64}, NamedTuple{(:glb, :deb), Tuple{DEBBase.GlobalBaseParams, DEBBase.DEBBaseParams}}, Float64}}, FunctionWrappers.FunctionWrapper{Nothing, Tuple{Vector{ForwardDiff.Dual{ForwardDiff.Tag{DiffEqBase.OrdinaryDiffEqTag, Float64}, Float64, 1}}, Vector{ForwardDiff.Dual{ForwardDiff.Tag{DiffEqBase.OrdinaryDiffEqTag, Float64}, Float64, 1}}, NamedTuple{(:glb, :deb), Tuple{DEBBase.GlobalBaseParams, DEBBase.DEBBaseParams}}, Float64}}, FunctionWrappers.FunctionWrapper{Nothing, Tuple{Vector{ForwardDiff.Dual{ForwardDiff.Tag{DiffEqBase.OrdinaryDiffEqTag, Float64}, Float64, 1}}, Vector{Float64}, NamedTuple{(:glb, :deb), Tuple{DEBBase.GlobalBaseParams, DEBBase.DEBBaseParams}}, ForwardDiff.Dual{ForwardDiff.Tag{DiffEqBase.OrdinaryDiffEqTag, Float64}, Float64, 1}}}, FunctionWrappers.FunctionWrapper{Nothing, Tuple{Vector{ForwardDiff.Dual{ForwardDiff.Tag{DiffEqBase.OrdinaryDiffEqTag, Float64}, Float64, 1}}, Vector{ForwardDiff.Dual{ForwardDiff.Tag{DiffEqBase.OrdinaryDiffEqTag, Float64}, Float64, 1}}, NamedTuple{(:glb, :deb), Tuple{DEBBase.GlobalBaseParams, DEBBase.DEBBaseParams}}, ForwardDiff.Dual{ForwardDiff.Tag{DiffEqBase.OrdinaryDiffEqTag, Float64}, Float64, 1}}}}, false}, LinearAlgebra.UniformScaling{Bool}, Nothing, Nothing, Nothing, Nothing, Nothing, Nothing, Nothing, Nothing, Nothing, Nothing, Nothing, Nothing, Nothing, Nothing, typeof(SciMLBase.DEFAULT_OBSERVED), Nothing, Nothing}, Float64, NamedTuple{(:glb, :deb), Tuple{DEBBase.GlobalBaseParams, DEBBase.DEBBaseParams}}}, LinearSolve.LinearCache{Matrix{Float64}, Vector{Float64}, Vector{Float64}, SciMLBase.NullParameters, LinearSolve.DefaultLinearSolver, LinearSolve.DefaultLinearSolverInit{LinearAlgebra.LU{Float64, Matrix{Float64}, Vector{Int64}}, LinearAlgebra.QRCompactWY{Float64, Matrix{Float64}, Matrix{Float64}}, Nothing, Nothing, Nothing, Nothing, Nothing, Nothing, LinearAlgebra.LU{Float64, Matrix{Float64}, Vector{Int64}}, Tuple{LinearAlgebra.LU{Float64, Matrix{Float64}, Vector{Int64}}, Vector{Int64}}, Nothing, Nothing, Nothing, LinearAlgebra.SVD{Float64, Float64, Matrix{Float64}, Vector{Float64}}, LinearAlgebra.Cholesky{Float64, Matrix{Float64}}, LinearAlgebra.Cholesky{Float64, Matrix{Float64}}, Tuple{LinearAlgebra.LU{Float64, Matrix{Float64}, Vector{Int32}}, Base.RefValue{Int32}}, Tuple{LinearAlgebra.LU{Float64, Matrix{Float64}, Vector{Int64}}, Base.RefValue{Int64}}, LinearAlgebra.QRPivoted{Float64, Matrix{Float64}, Vector{Float64}, Vector{Int64}}}, LinearSolve.InvPreconditioner{LinearAlgebra.Diagonal{Float64, Vector{Float64}}}, LinearAlgebra.Diagonal{Float64, Vector{Float64}}, Float64, Bool}, FiniteDiff.JacobianCache{Vector{Float64}, Vector{Float64}, Vector{Float64}, Vector{Float64}, UnitRange{Int64}, Nothing, Val{:forward}(), Float64}, FiniteDiff.GradientCache{Nothing, Vector{Float64}, Vector{Float64}, Float64, Val{:forward}(), Float64, Val{true}()}, Float64, OrdinaryDiffEq.Rodas5P{1, false, Nothing, typeof(OrdinaryDiffEq.DEFAULT_PRECS), Val{:forward}, true, nothing}}}, OrdinaryDiffEq.AutoSwitchCache{OrdinaryDiffEq.Vern7{typeof(OrdinaryDiffEq.trivial_limiter!), typeof(OrdinaryDiffEq.trivial_limiter!), Static.False}, OrdinaryDiffEq.Rodas5P{0, false, Nothing, typeof(OrdinaryDiffEq.DEFAULT_PRECS), Val{:forward}, true, nothing}, Rational{Int64}, Int64}}, OrdinaryDiffEq.DEOptions{Float64, Float64, Float64, Float64, OrdinaryDiffEq.PIController{Rational{Int64}}, typeof(DiffEqBase.ODE_DEFAULT_NORM), typeof(LinearAlgebra.opnorm), Nothing, SciMLBase.CallbackSet{Tuple{}, Tuple{}}, typeof(DiffEqBase.ODE_DEFAULT_ISOUTOFDOMAIN), typeof(DiffEqBase.ODE_DEFAULT_PROG_MESSAGE), typeof(DiffEqBase.ODE_DEFAULT_UNSTABLE_CHECK), DataStructures.BinaryHeap{Float64, DataStructures.FasterForward}, DataStructures.BinaryHeap{Float64, DataStructures.FasterForward}, Nothing, Nothing, Int64, Tuple{}, Tuple{}, Tuple{}}, Vector{Float64}, Float64, Nothing, OrdinaryDiffEq.DefaultInit}\u001b[39m"
     ]
    },
    {
     "name": "stderr",
     "output_type": "stream",
     "text": [
      "\u001b[0m\u001b[1m)\u001b[22m\n",
      "\u001b[90m    @\u001b[39m \u001b[33mOrdinaryDiffEq\u001b[39m \u001b[90mC:\\Users\\simon\\.julia\\packages\\OrdinaryDiffEq\\Y6bIX\\src\\\u001b[39m\u001b[90m\u001b[4minitdt.jl:53\u001b[24m\u001b[39m\n",
      " [18] \u001b[0m\u001b[1mauto_dt_reset!\u001b[22m\n",
      "\u001b[90m    @\u001b[39m \u001b[90mC:\\Users\\simon\\.julia\\packages\\OrdinaryDiffEq\\Y6bIX\\src\\integrators\\\u001b[39m\u001b[90m\u001b[4mintegrator_interface.jl:449\u001b[24m\u001b[39m\u001b[90m [inlined]\u001b[39m\n",
      " [19] \u001b[0m\u001b[1mhandle_dt!\u001b[22m\u001b[0m\u001b[1m(\u001b[22m\u001b[90mintegrator\u001b[39m::"
     ]
    },
    {
     "name": "stderr",
     "output_type": "stream",
     "text": [
      "\u001b[0mOrdinaryDiffEq.ODEIntegrator\u001b[90m{OrdinaryDiffEq.CompositeAlgorithm{Tuple{OrdinaryDiffEq.Vern7{typeof(OrdinaryDiffEq.trivial_limiter!), typeof(OrdinaryDiffEq.trivial_limiter!), Static.False}, OrdinaryDiffEq.Rodas5P{1, false, Nothing, typeof(OrdinaryDiffEq.DEFAULT_PRECS), Val{:forward}, true, nothing}}, OrdinaryDiffEq.AutoSwitchCache{OrdinaryDiffEq.Vern7{typeof(OrdinaryDiffEq.trivial_limiter!), typeof(OrdinaryDiffEq.trivial_limiter!), Static.False}, OrdinaryDiffEq.Rodas5P{0, false, Nothing, typeof(OrdinaryDiffEq.DEFAULT_PRECS), Val{:forward}, true, nothing}, Rational{Int64}, Int64}}, true, Vector{Float64}, Nothing, Float64, NamedTuple{(:glb, :deb), Tuple{DEBBase.GlobalBaseParams, DEBBase.DEBBaseParams}}, Float64, Float64, Float64, Float64, Vector{Vector{Float64}}, SciMLBase.ODESolution{Float64, 2, Vector{Vector{Float64}}, Nothing, Nothing, Vector{Float64}, Vector{Vector{Vector{Float64}}}, SciMLBase.ODEProblem{Vector{Float64}, Tuple{Float64, Float64}, true, NamedTuple{(:glb, :deb), Tuple{DEBBase.GlobalBaseParams, DEBBase.DEBBaseParams}}, SciMLBase.ODEFunction{true, SciMLBase.AutoSpecialize, FunctionWrappersWrappers.FunctionWrappersWrapper{Tuple{FunctionWrappers.FunctionWrapper{Nothing, Tuple{Vector{Float64}, Vector{Float64}, NamedTuple{(:glb, :deb), Tuple{DEBBase.GlobalBaseParams, DEBBase.DEBBaseParams}}, Float64}}, FunctionWrappers.FunctionWrapper{Nothing, Tuple{Vector{ForwardDiff.Dual{ForwardDiff.Tag{DiffEqBase.OrdinaryDiffEqTag, Float64}, Float64, 1}}, Vector{ForwardDiff.Dual{ForwardDiff.Tag{DiffEqBase.OrdinaryDiffEqTag, Float64}, Float64, 1}}, NamedTuple{(:glb, :deb), Tuple{DEBBase.GlobalBaseParams, DEBBase.DEBBaseParams}}, Float64}}, FunctionWrappers.FunctionWrapper{Nothing, Tuple{Vector{ForwardDiff.Dual{ForwardDiff.Tag{DiffEqBase.OrdinaryDiffEqTag, Float64}, Float64, 1}}, Vector{Float64}, NamedTuple{(:glb, :deb), Tuple{DEBBase.GlobalBaseParams, DEBBase.DEBBaseParams}}, ForwardDiff.Dual{ForwardDiff.Tag{DiffEqBase.OrdinaryDiffEqTag, Float64}, Float64, 1}}}, FunctionWrappers.FunctionWrapper{Nothing, Tuple{Vector{ForwardDiff.Dual{ForwardDiff.Tag{DiffEqBase.OrdinaryDiffEqTag, Float64}, Float64, 1}}, Vector{ForwardDiff.Dual{ForwardDiff.Tag{DiffEqBase.OrdinaryDiffEqTag, Float64}, Float64, 1}}, NamedTuple{(:glb, :deb), Tuple{DEBBase.GlobalBaseParams, DEBBase.DEBBaseParams}}, ForwardDiff.Dual{ForwardDiff.Tag{DiffEqBase.OrdinaryDiffEqTag, Float64}, Float64, 1}}}}, false}, LinearAlgebra.UniformScaling{Bool}, Nothing, Nothing, Nothing, Nothing, Nothing, Nothing, Nothing, Nothing, Nothing, Nothing, Nothing, Nothing, Nothing, Nothing, typeof(SciMLBase.DEFAULT_OBSERVED), Nothing, Nothing}, Base.Pairs{Symbol, Union{}, Tuple{}, NamedTuple{(), Tuple{}}}, SciMLBase.StandardODEProblem}, OrdinaryDiffEq.CompositeAlgorithm{Tuple{OrdinaryDiffEq.Vern7{typeof(OrdinaryDiffEq.trivial_limiter!), typeof(OrdinaryDiffEq.trivial_limiter!), Static.False}, OrdinaryDiffEq.Rodas5P{1, false, Nothing, typeof(OrdinaryDiffEq.DEFAULT_PRECS), Val{:forward}, true, nothing}}, OrdinaryDiffEq.AutoSwitchCache{OrdinaryDiffEq.Vern7{typeof(OrdinaryDiffEq.trivial_limiter!), typeof(OrdinaryDiffEq.trivial_limiter!), Static.False}, OrdinaryDiffEq.Rodas5P{0, false, Nothing, typeof(OrdinaryDiffEq.DEFAULT_PRECS), Val{:forward}, true, nothing}, Rational{Int64}, Int64}}, OrdinaryDiffEq.CompositeInterpolationData{SciMLBase.ODEFunction{true, SciMLBase.AutoSpecialize, FunctionWrappersWrappers.FunctionWrappersWrapper{Tuple{FunctionWrappers.FunctionWrapper{Nothing, Tuple{Vector{Float64}, Vector{Float64}, NamedTuple{(:glb, :deb), Tuple{DEBBase.GlobalBaseParams, DEBBase.DEBBaseParams}}, Float64}}, FunctionWrappers.FunctionWrapper{Nothing, Tuple{Vector{ForwardDiff.Dual{ForwardDiff.Tag{DiffEqBase.OrdinaryDiffEqTag, Float64}, Float64, 1}}, Vector{ForwardDiff.Dual{ForwardDiff.Tag{DiffEqBase.OrdinaryDiffEqTag, Float64}, Float64, 1}}, NamedTuple{(:glb, :deb), Tuple{DEBBase.GlobalBaseParams, DEBBase.DEBBaseParams}}, Float64}}, FunctionWrappers.FunctionWrapper{Nothing, Tuple{Vector{ForwardDiff.Dual{ForwardDiff.Tag{DiffEqBase.OrdinaryDiffEqTag, Float64}, Float64, 1}}, Vector{Float64}, NamedTuple{(:glb, :deb), Tuple{DEBBase.GlobalBaseParams, DEBBase.DEBBaseParams}}, ForwardDiff.Dual{ForwardDiff.Tag{DiffEqBase.OrdinaryDiffEqTag, Float64}, Float64, 1}}}, FunctionWrappers.FunctionWrapper{Nothing, Tuple{Vector{ForwardDiff.Dual{ForwardDiff.Tag{DiffEqBase.OrdinaryDiffEqTag, Float64}, Float64, 1}}, Vector{ForwardDiff.Dual{ForwardDiff.Tag{DiffEqBase.OrdinaryDiffEqTag, Float64}, Float64, 1}}, NamedTuple{(:glb, :deb), Tuple{DEBBase.GlobalBaseParams, DEBBase.DEBBaseParams}}, ForwardDiff.Dual{ForwardDiff.Tag{DiffEqBase.OrdinaryDiffEqTag, Float64}, Float64, 1}}}}, false}, LinearAlgebra.UniformScaling{Bool}, Nothing, Nothing, Nothing, Nothing, Nothing, Nothing, Nothing, Nothing, Nothing, Nothing, Nothing, Nothing, Nothing, Nothing, typeof(SciMLBase.DEFAULT_OBSERVED), Nothing, Nothing}, Vector{Vector{Float64}}, Vector{Float64}, Vector{Vector{Vector{Float64}}}, OrdinaryDiffEq.CompositeCache{Tuple{OrdinaryDiffEq.Vern7Cache{Vector{Float64}, Vector{Float64}, Vector{Float64}, typeof(OrdinaryDiffEq.trivial_limiter!), typeof(OrdinaryDiffEq.trivial_limiter!), Static.False}, OrdinaryDiffEq.Rosenbrock5Cache{Vector{Float64}, Vector{Float64}, Vector{Float64}, Matrix{Float64}, Matrix{Float64}, OrdinaryDiffEq.Rodas5Tableau{Float64, Float64}, SciMLBase.TimeGradientWrapper{true, SciMLBase.ODEFunction{true, SciMLBase.AutoSpecialize, FunctionWrappersWrappers.FunctionWrappersWrapper{Tuple{FunctionWrappers.FunctionWrapper{Nothing, Tuple{Vector{Float64}, Vector{Float64}, NamedTuple{(:glb, :deb), Tuple{DEBBase.GlobalBaseParams, DEBBase.DEBBaseParams}}, Float64}}, FunctionWrappers.FunctionWrapper{Nothing, Tuple{Vector{ForwardDiff.Dual{ForwardDiff.Tag{DiffEqBase.OrdinaryDiffEqTag, Float64}, Float64, 1}}, Vector{ForwardDiff.Dual{ForwardDiff.Tag{DiffEqBase.OrdinaryDiffEqTag, Float64}, Float64, 1}}, NamedTuple{(:glb, :deb), Tuple{DEBBase.GlobalBaseParams, DEBBase.DEBBaseParams}}, Float64}}, FunctionWrappers.FunctionWrapper{Nothing, Tuple{Vector{ForwardDiff.Dual{ForwardDiff.Tag{DiffEqBase.OrdinaryDiffEqTag, Float64}, Float64, 1}}, Vector{Float64}, NamedTuple{(:glb, :deb), Tuple{DEBBase.GlobalBaseParams, DEBBase.DEBBaseParams}}, ForwardDiff.Dual{ForwardDiff.Tag{DiffEqBase.OrdinaryDiffEqTag, Float64}, Float64, 1}}}, FunctionWrappers.FunctionWrapper{Nothing, Tuple{Vector{ForwardDiff.Dual{ForwardDiff.Tag{DiffEqBase.OrdinaryDiffEqTag, Float64}, Float64, 1}}, Vector{ForwardDiff.Dual{ForwardDiff.Tag{DiffEqBase.OrdinaryDiffEqTag, Float64}, Float64, 1}}, NamedTuple{(:glb, :deb), Tuple{DEBBase.GlobalBaseParams, DEBBase.DEBBaseParams}}, ForwardDiff.Dual{ForwardDiff.Tag{DiffEqBase.OrdinaryDiffEqTag, Float64}, Float64, 1}}}}, false}, LinearAlgebra.UniformScaling{Bool}, Nothing, Nothing, Nothing, Nothing, Nothing, Nothing, Nothing, Nothing, Nothing, Nothing, Nothing, Nothing, Nothing, Nothing, typeof(SciMLBase.DEFAULT_OBSERVED), Nothing, Nothing}, Vector{Float64}, NamedTuple{(:glb, :deb), Tuple{DEBBase.GlobalBaseParams, DEBBase.DEBBaseParams}}}, SciMLBase.UJacobianWrapper{true, SciMLBase.ODEFunction{true, SciMLBase.AutoSpecialize, FunctionWrappersWrappers.FunctionWrappersWrapper{Tuple{FunctionWrappers.FunctionWrapper{Nothing, Tuple{Vector{Float64}, Vector{Float64}, NamedTuple{(:glb, :deb), Tuple{DEBBase.GlobalBaseParams, DEBBase.DEBBaseParams}}, Float64}}, FunctionWrappers.FunctionWrapper{Nothing, Tuple{Vector{ForwardDiff.Dual{ForwardDiff.Tag{DiffEqBase.OrdinaryDiffEqTag, Float64}, Float64, 1}}, Vector{ForwardDiff.Dual{ForwardDiff.Tag{DiffEqBase.OrdinaryDiffEqTag, Float64}, Float64, 1}}, NamedTuple{(:glb, :deb), Tuple{DEBBase.GlobalBaseParams, DEBBase.DEBBaseParams}}, Float64}}, FunctionWrappers.FunctionWrapper{Nothing, Tuple{Vector{ForwardDiff.Dual{ForwardDiff.Tag{DiffEqBase.OrdinaryDiffEqTag, Float64}, Float64, 1}}, Vector{Float64}, NamedTuple{(:glb, :deb), Tuple{DEBBase.GlobalBaseParams, DEBBase.DEBBaseParams}}, ForwardDiff.Dual{ForwardDiff.Tag{DiffEqBase.OrdinaryDiffEqTag, Float64}, Float64, 1}}}, FunctionWrappers.FunctionWrapper{Nothing, Tuple{Vector{ForwardDiff.Dual{ForwardDiff.Tag{DiffEqBase.OrdinaryDiffEqTag, Float64}, Float64, 1}}, Vector{ForwardDiff.Dual{ForwardDiff.Tag{DiffEqBase.OrdinaryDiffEqTag, Float64}, Float64, 1}}, NamedTuple{(:glb, :deb), Tuple{DEBBase.GlobalBaseParams, DEBBase.DEBBaseParams}}, ForwardDiff.Dual{ForwardDiff.Tag{DiffEqBase.OrdinaryDiffEqTag, Float64}, Float64, 1}}}}, false}, LinearAlgebra.UniformScaling{Bool}, Nothing, Nothing, Nothing, Nothing, Nothing, Nothing, Nothing, Nothing, Nothing, Nothing, Nothing, Nothing, Nothing, Nothing, typeof(SciMLBase.DEFAULT_OBSERVED), Nothing, Nothing}, Float64, NamedTuple{(:glb, :deb), Tuple{DEBBase.GlobalBaseParams, DEBBase.DEBBaseParams}}}, LinearSolve.LinearCache{Matrix{Float64}, Vector{Float64}, Vector{Float64}, SciMLBase.NullParameters, LinearSolve.DefaultLinearSolver, LinearSolve.DefaultLinearSolverInit{LinearAlgebra.LU{Float64, Matrix{Float64}, Vector{Int64}}, LinearAlgebra.QRCompactWY{Float64, Matrix{Float64}, Matrix{Float64}}, Nothing, Nothing, Nothing, Nothing, Nothing, Nothing, LinearAlgebra.LU{Float64, Matrix{Float64}, Vector{Int64}}, Tuple{LinearAlgebra.LU{Float64, Matrix{Float64}, Vector{Int64}}, Vector{Int64}}, Nothing, Nothing, Nothing, LinearAlgebra.SVD{Float64, Float64, Matrix{Float64}, Vector{Float64}}, LinearAlgebra.Cholesky{Float64, Matrix{Float64}}, LinearAlgebra.Cholesky{Float64, Matrix{Float64}}, Tuple{LinearAlgebra.LU{Float64, Matrix{Float64}, Vector{Int32}}, Base.RefValue{Int32}}, Tuple{LinearAlgebra.LU{Float64, Matrix{Float64}, Vector{Int64}}, Base.RefValue{Int64}}, LinearAlgebra.QRPivoted{Float64, Matrix{Float64}, Vector{Float64}, Vector{Int64}}}, LinearSolve.InvPreconditioner{LinearAlgebra.Diagonal{Float64, Vector{Float64}}}, LinearAlgebra.Diagonal{Float64, Vector{Float64}}, Float64, Bool}, FiniteDiff.JacobianCache{Vector{Float64}, Vector{Float64}, Vector{Float64}, Vector{Float64}, UnitRange{Int64}, Nothing, Val{:forward}(), Float64}, FiniteDiff.GradientCache{Nothing, Vector{Float64}, Vector{Float64}, Float64, Val{:forward}(), Float64, Val{true}()}, Float64, OrdinaryDiffEq.Rodas5P{1, false, Nothing, typeof(OrdinaryDiffEq.DEFAULT_PRECS), Val{:forward}, true, nothing}}}, OrdinaryDiffEq.AutoSwitchCache{OrdinaryDiffEq.Vern7{typeof(OrdinaryDiffEq.trivial_limiter!), typeof(OrdinaryDiffEq.trivial_limiter!), Static.False}, OrdinaryDiffEq.Rodas5P{0, false, Nothing, typeof(OrdinaryDiffEq.DEFAULT_PRECS), Val{:forward}, true, nothing}, Rational{Int64}, Int64}}}, SciMLBase.DEStats, Vector{Int64}}, SciMLBase.ODEFunction{true, SciMLBase.AutoSpecialize, FunctionWrappersWrappers.FunctionWrappersWrapper{Tuple{FunctionWrappers.FunctionWrapper{Nothing, Tuple{Vector{Float64}, Vector{Float64}, NamedTuple{(:glb, :deb), Tuple{DEBBase.GlobalBaseParams, DEBBase.DEBBaseParams}}, Float64}}, FunctionWrappers.FunctionWrapper{Nothing, Tuple{Vector{ForwardDiff.Dual{ForwardDiff.Tag{DiffEqBase.OrdinaryDiffEqTag, Float64}, Float64, 1}}, Vector{ForwardDiff.Dual{ForwardDiff.Tag{DiffEqBase.OrdinaryDiffEqTag, Float64}, Float64, 1}}, NamedTuple{(:glb, :deb), Tuple{DEBBase.GlobalBaseParams, DEBBase.DEBBaseParams}}, Float64}}, FunctionWrappers.FunctionWrapper{Nothing, Tuple{Vector{ForwardDiff.Dual{ForwardDiff.Tag{DiffEqBase.OrdinaryDiffEqTag, Float64}, Float64, 1}}, Vector{Float64}, NamedTuple{(:glb, :deb), Tuple{DEBBase.GlobalBaseParams, DEBBase.DEBBaseParams}}, ForwardDiff.Dual{ForwardDiff.Tag{DiffEqBase.OrdinaryDiffEqTag, Float64}, Float64, 1}}}, FunctionWrappers.FunctionWrapper{Nothing, Tuple{Vector{ForwardDiff.Dual{ForwardDiff.Tag{DiffEqBase.OrdinaryDiffEqTag, Float64}, Float64, 1}}, Vector{ForwardDiff.Dual{ForwardDiff.Tag{DiffEqBase.OrdinaryDiffEqTag, Float64}, Float64, 1}}, NamedTuple{(:glb, :deb), Tuple{DEBBase.GlobalBaseParams, DEBBase.DEBBaseParams}}, ForwardDiff.Dual{ForwardDiff.Tag{DiffEqBase.OrdinaryDiffEqTag, Float64}, Float64, 1}}}}, false}, LinearAlgebra.UniformScaling{Bool}, Nothing, Nothing, Nothing, Nothing, Nothing, Nothing, Nothing, Nothing, Nothing, Nothing, Nothing, Nothing, Nothing, Nothing, typeof(SciMLBase.DEFAULT_OBSERVED), Nothing, Nothing}, OrdinaryDiffEq.CompositeCache{Tuple{OrdinaryDiffEq.Vern7Cache{Vector{Float64}, Vector{Float64}, Vector{Float64}, typeof(OrdinaryDiffEq.trivial_limiter!), typeof(OrdinaryDiffEq.trivial_limiter!), Static.False}, OrdinaryDiffEq.Rosenbrock5Cache{Vector{Float64}, Vector{Float64}, Vector{Float64}, Matrix{Float64}, Matrix{Float64}, OrdinaryDiffEq.Rodas5Tableau{Float64, Float64}, SciMLBase.TimeGradientWrapper{true, SciMLBase.ODEFunction{true, SciMLBase.AutoSpecialize, FunctionWrappersWrappers.FunctionWrappersWrapper{Tuple{FunctionWrappers.FunctionWrapper{Nothing, Tuple{Vector{Float64}, Vector{Float64}, NamedTuple{(:glb, :deb), Tuple{DEBBase.GlobalBaseParams, DEBBase.DEBBaseParams}}, Float64}}, FunctionWrappers.FunctionWrapper{Nothing, Tuple{Vector{ForwardDiff.Dual{ForwardDiff.Tag{DiffEqBase.OrdinaryDiffEqTag, Float64}, Float64, 1}}, Vector{ForwardDiff.Dual{ForwardDiff.Tag{DiffEqBase.OrdinaryDiffEqTag, Float64}, Float64, 1}}, NamedTuple{(:glb, :deb), Tuple{DEBBase.GlobalBaseParams, DEBBase.DEBBaseParams}}, Float64}}, FunctionWrappers.FunctionWrapper{Nothing, Tuple{Vector{ForwardDiff.Dual{ForwardDiff.Tag{DiffEqBase.OrdinaryDiffEqTag, Float64}, Float64, 1}}, Vector{Float64}, NamedTuple{(:glb, :deb), Tuple{DEBBase.GlobalBaseParams, DEBBase.DEBBaseParams}}, ForwardDiff.Dual{ForwardDiff.Tag{DiffEqBase.OrdinaryDiffEqTag, Float64}, Float64, 1}}}, FunctionWrappers.FunctionWrapper{Nothing, Tuple{Vector{ForwardDiff.Dual{ForwardDiff.Tag{DiffEqBase.OrdinaryDiffEqTag, Float64}, Float64, 1}}, Vector{ForwardDiff.Dual{ForwardDiff.Tag{DiffEqBase.OrdinaryDiffEqTag, Float64}, Float64, 1}}, NamedTuple{(:glb, :deb), Tuple{DEBBase.GlobalBaseParams, DEBBase.DEBBaseParams}}, ForwardDiff.Dual{ForwardDiff.Tag{DiffEqBase.OrdinaryDiffEqTag, Float64}, Float64, 1}}}}, false}, LinearAlgebra.UniformScaling{Bool}, Nothing, Nothing, Nothing, Nothing, Nothing, Nothing, Nothing, Nothing, Nothing, Nothing, Nothing, Nothing, Nothing, Nothing, typeof(SciMLBase.DEFAULT_OBSERVED), Nothing, Nothing}, Vector{Float64}, NamedTuple{(:glb, :deb), Tuple{DEBBase.GlobalBaseParams, DEBBase.DEBBaseParams}}}, SciMLBase.UJacobianWrapper{true, SciMLBase.ODEFunction{true, SciMLBase.AutoSpecialize, FunctionWrappersWrappers.FunctionWrappersWrapper{Tuple{FunctionWrappers.FunctionWrapper{Nothing, Tuple{Vector{Float64}, Vector{Float64}, NamedTuple{(:glb, :deb), Tuple{DEBBase.GlobalBaseParams, DEBBase.DEBBaseParams}}, Float64}}, FunctionWrappers.FunctionWrapper{Nothing, Tuple{Vector{ForwardDiff.Dual{ForwardDiff.Tag{DiffEqBase.OrdinaryDiffEqTag, Float64}, Float64, 1}}, Vector{ForwardDiff.Dual{ForwardDiff.Tag{DiffEqBase.OrdinaryDiffEqTag, Float64}, Float64, 1}}, NamedTuple{(:glb, :deb), Tuple{DEBBase.GlobalBaseParams, DEBBase.DEBBaseParams}}, Float64}}, FunctionWrappers.FunctionWrapper{Nothing, Tuple{Vector{ForwardDiff.Dual{ForwardDiff.Tag{DiffEqBase.OrdinaryDiffEqTag, Float64}, Float64, 1}}, Vector{Float64}, NamedTuple{(:glb, :deb), Tuple{DEBBase.GlobalBaseParams, DEBBase.DEBBaseParams}}, ForwardDiff.Dual{ForwardDiff.Tag{DiffEqBase.OrdinaryDiffEqTag, Float64}, Float64, 1}}}, FunctionWrappers.FunctionWrapper{Nothing, Tuple{Vector{ForwardDiff.Dual{ForwardDiff.Tag{DiffEqBase.OrdinaryDiffEqTag, Float64}, Float64, 1}}, Vector{ForwardDiff.Dual{ForwardDiff.Tag{DiffEqBase.OrdinaryDiffEqTag, Float64}, Float64, 1}}, NamedTuple{(:glb, :deb), Tuple{DEBBase.GlobalBaseParams, DEBBase.DEBBaseParams}}, ForwardDiff.Dual{ForwardDiff.Tag{DiffEqBase.OrdinaryDiffEqTag, Float64}, Float64, 1}}}}, false}, LinearAlgebra.UniformScaling{Bool}, Nothing, Nothing, Nothing, Nothing, Nothing, Nothing, Nothing, Nothing, Nothing, Nothing, Nothing, Nothing, Nothing, Nothing, typeof(SciMLBase.DEFAULT_OBSERVED), Nothing, Nothing}, Float64, NamedTuple{(:glb, :deb), Tuple{DEBBase.GlobalBaseParams, DEBBase.DEBBaseParams}}}, LinearSolve.LinearCache{Matrix{Float64}, Vector{Float64}, Vector{Float64}, SciMLBase.NullParameters, LinearSolve.DefaultLinearSolver, LinearSolve.DefaultLinearSolverInit{LinearAlgebra.LU{Float64, Matrix{Float64}, Vector{Int64}}, LinearAlgebra.QRCompactWY{Float64, Matrix{Float64}, Matrix{Float64}}, Nothing, Nothing, Nothing, Nothing, Nothing, Nothing, LinearAlgebra.LU{Float64, Matrix{Float64}, Vector{Int64}}, Tuple{LinearAlgebra.LU{Float64, Matrix{Float64}, Vector{Int64}}, Vector{Int64}}, Nothing, Nothing, Nothing, LinearAlgebra.SVD{Float64, Float64, Matrix{Float64}, Vector{Float64}}, LinearAlgebra.Cholesky{Float64, Matrix{Float64}}, LinearAlgebra.Cholesky{Float64, Matrix{Float64}}, Tuple{LinearAlgebra.LU{Float64, Matrix{Float64}, Vector{Int32}}, Base.RefValue{Int32}}, Tuple{LinearAlgebra.LU{Float64, Matrix{Float64}, Vector{Int64}}, Base.RefValue{Int64}}, LinearAlgebra.QRPivoted{Float64, Matrix{Float64}, Vector{Float64}, Vector{Int64}}}, LinearSolve.InvPreconditioner{LinearAlgebra.Diagonal{Float64, Vector{Float64}}}, LinearAlgebra.Diagonal{Float64, Vector{Float64}}, Float64, Bool}, FiniteDiff.JacobianCache{Vector{Float64}, Vector{Float64}, Vector{Float64}, Vector{Float64}, UnitRange{Int64}, Nothing, Val{:forward}(), Float64}, FiniteDiff.GradientCache{Nothing, Vector{Float64}, Vector{Float64}, Float64, Val{:forward}(), Float64, Val{true}()}, Float64, OrdinaryDiffEq.Rodas5P{1, false, Nothing, typeof(OrdinaryDiffEq.DEFAULT_PRECS), Val{:forward}, true, nothing}}}, OrdinaryDiffEq.AutoSwitchCache{OrdinaryDiffEq.Vern7{typeof(OrdinaryDiffEq.trivial_limiter!), typeof(OrdinaryDiffEq.trivial_limiter!), Static.False}, OrdinaryDiffEq.Rodas5P{0, false, Nothing, typeof(OrdinaryDiffEq.DEFAULT_PRECS), Val{:forward}, true, nothing}, Rational{Int64}, Int64}}, OrdinaryDiffEq.DEOptions{Float64, Float64, Float64, Float64, OrdinaryDiffEq.PIController{Rational{Int64}}, typeof(DiffEqBase.ODE_DEFAULT_NORM), typeof(LinearAlgebra.opnorm), Nothing, SciMLBase.CallbackSet{Tuple{}, Tuple{}}, typeof(DiffEqBase.ODE_DEFAULT_ISOUTOFDOMAIN), typeof(DiffEqBase.ODE_DEFAULT_PROG_MESSAGE), typeof(DiffEqBase.ODE_DEFAULT_UNSTABLE_CHECK), DataStructures.BinaryHeap{Float64, DataStructures.FasterForward}, DataStructures.BinaryHeap{Float64, DataStructures.FasterForward}, Nothing, Nothing, Int64, Tuple{}, Tuple{}, Tuple{}}, Vector{Float64}, Float64, Nothing, OrdinaryDiffEq.DefaultInit}\u001b[39m\u001b[0m\u001b[1m)\u001b[22m"
     ]
    },
    {
     "name": "stderr",
     "output_type": "stream",
     "text": [
      "\n",
      "\u001b[90m    @\u001b[39m \u001b[33mOrdinaryDiffEq\u001b[39m \u001b[90mC:\\Users\\simon\\.julia\\packages\\OrdinaryDiffEq\\Y6bIX\\src\\\u001b[39m\u001b[90m\u001b[4msolve.jl:565\u001b[24m\u001b[39m\n",
      " [20] \u001b[0m\u001b[1m__init\u001b[22m\u001b[0m\u001b[1m(\u001b[22m\u001b[90mprob\u001b[39m::\u001b[0mSciMLBase.ODEProblem\u001b[90m{Vector{Float64}, Tuple{Float64, Float64}, true, NamedTuple{(:glb, :deb), Tuple{DEBBase.GlobalBaseParams, DEBBase.DEBBaseParams}}, SciMLBase.ODEFunction{true, SciMLBase.AutoSpecialize, FunctionWrappersWrappers.FunctionWrappersWrapper{Tuple{FunctionWrappers.FunctionWrapper{Nothing, Tuple{Vector{Float64}, Vector{Float64}, NamedTuple{(:glb, :deb), Tuple{DEBBase.GlobalBaseParams, DEBBase.DEBBaseParams}}, Float64}}, FunctionWrappers.FunctionWrapper{Nothing, Tuple{Vector{ForwardDiff.Dual{ForwardDiff.Tag{DiffEqBase.OrdinaryDiffEqTag, Float64}, Float64, 1}}, Vector{ForwardDiff.Dual{ForwardDiff.Tag{DiffEqBase.OrdinaryDiffEqTag, Float64}, Float64, 1}}, NamedTuple{(:glb, :deb), Tuple{DEBBase.GlobalBaseParams, DEBBase.DEBBaseParams}}, Float64}}, FunctionWrappers.FunctionWrapper{Nothing, Tuple{Vector{ForwardDiff.Dual{ForwardDiff.Tag{DiffEqBase.OrdinaryDiffEqTag, Float64}, Float64, 1}}, Vector{Float64}, NamedTuple{(:glb, :deb), Tuple{DEBBase.GlobalBaseParams, DEBBase.DEBBaseParams}}, ForwardDiff.Dual{ForwardDiff.Tag{DiffEqBase.OrdinaryDiffEqTag, Float64}, Float64, 1}}}, FunctionWrappers.FunctionWrapper{Nothing, Tuple{Vector{ForwardDiff.Dual{ForwardDiff.Tag{DiffEqBase.OrdinaryDiffEqTag, Float64}, Float64, 1}}, Vector{ForwardDiff.Dual{ForwardDiff.Tag{DiffEqBase.OrdinaryDiffEqTag, Float64}, Float64, 1}}, NamedTuple{(:glb, :deb), Tuple{DEBBase.GlobalBaseParams, DEBBase.DEBBaseParams}}, ForwardDiff.Dual{ForwardDiff.Tag{DiffEqBase.OrdinaryDiffEqTag, Float64}, Float64, 1}}}}, false}, LinearAlgebra.UniformScaling{Bool}, Nothing, Nothing, Nothing, Nothing, Nothing, Nothing, Nothing, Nothing, Nothing, Nothing, Nothing, Nothing, Nothing, Nothing, typeof(SciMLBase.DEFAULT_OBSERVED), Nothing, Nothing}, Base.Pairs{Symbol, Union{}, Tuple{}, NamedTuple{(), Tuple{}}}, SciMLBase.StandardODEProblem}\u001b[39m, \u001b[90malg\u001b[39m::\u001b[0mOrdinaryDiffEq.CompositeAlgorithm\u001b[90m{Tuple{OrdinaryDiffEq.Vern7{typeof(OrdinaryDiffEq.trivial_limiter!), typeof(OrdinaryDiffEq.trivial_limiter!), Static.False}, OrdinaryDiffEq.Rodas5P{1, false, Nothing, typeof(OrdinaryDiffEq.DEFAULT_PRECS), Val{:forward}, true, nothing}}, OrdinaryDiffEq.AutoSwitch{OrdinaryDiffEq.Vern7{typeof(OrdinaryDiffEq.trivial_limiter!), typeof(OrdinaryDiffEq.trivial_limiter!), Static.False}, OrdinaryDiffEq.Rodas5P{0, false, Nothing, typeof(OrdinaryDiffEq.DEFAULT_PRECS), Val{:forward}, true, nothing}, Rational{Int64}, Int64}}\u001b[39m, \u001b[90mtimeseries_init\u001b[39m::\u001b[0mTuple\u001b[90m{}\u001b[39m, \u001b[90mts_init\u001b[39m::\u001b[0mTuple\u001b[90m{}\u001b[39m, \u001b[90mks_init\u001b[39m::\u001b[0mTuple\u001b[90m{}\u001b[39m, \u001b[90mrecompile\u001b[39m::\u001b[0mType\u001b[90m{Val{true}}\u001b[39m; \u001b[90msaveat\u001b[39m::\u001b[0mTuple\u001b[90m{}\u001b[39m, \u001b[90mtstops\u001b[39m::\u001b[0mTuple\u001b[90m{}\u001b[39m, \u001b[90md_discontinuities\u001b[39m::\u001b[0mTuple\u001b[90m{}\u001b[39m, \u001b[90msave_idxs\u001b[39m::\u001b[0mNothing, \u001b[90msave_everystep\u001b[39m::\u001b[0mBool, \u001b[90msave_on\u001b[39m::\u001b[0mBool, \u001b[90msave_start\u001b[39m::\u001b[0mBool, \u001b[90msave_end\u001b[39m::\u001b[0mNothing, \u001b[90mcallback\u001b[39m::\u001b[0mNothing, \u001b[90mdense\u001b[39m::\u001b[0mBool, \u001b[90mcalck\u001b[39m::\u001b[0mBool, \u001b[90mdt\u001b[39m::\u001b[0mFloat64, \u001b[90mdtmin\u001b[39m::\u001b[0mNothing, \u001b[90mdtmax\u001b[39m::\u001b[0mFloat64, \u001b[90mforce_dtmin\u001b[39m::\u001b[0mBool, \u001b[90madaptive\u001b[39m::\u001b[0mBool, \u001b[90mgamma\u001b[39m::\u001b[0mRational\u001b[90m{Int64}\u001b[39m, \u001b[90mabstol\u001b[39m::\u001b[0mFloat64, \u001b[90mreltol\u001b[39m::\u001b[0mFloat64, \u001b[90mqmin\u001b[39m::\u001b[0mRational\u001b[90m{Int64}\u001b[39m, \u001b[90mqmax\u001b[39m::\u001b[0mInt64, \u001b[90mqsteady_min\u001b[39m::\u001b[0mInt64, \u001b[90mqsteady_max\u001b[39m::\u001b[0mInt64, \u001b[90mbeta1\u001b[39m::\u001b[0mNothing, \u001b[90mbeta2\u001b[39m::\u001b[0mNothing, \u001b[90mqoldinit\u001b[39m::\u001b[0mRational\u001b[90m{Int64}\u001b[39m, \u001b[90mcontroller\u001b[39m::\u001b[0mNothing, \u001b[90mfullnormalize\u001b[39m::\u001b[0mBool, \u001b[90mfailfactor\u001b[39m::\u001b[0mInt64, \u001b[90mmaxiters\u001b[39m::\u001b[0mInt64, \u001b[90minternalnorm\u001b[39m::\u001b[0mtypeof(DiffEqBase.ODE_DEFAULT_NORM), \u001b[90minternalopnorm\u001b[39m::\u001b[0mtypeof(LinearAlgebra.opnorm), \u001b[90misoutofdomain\u001b[39m::\u001b[0mtypeof(DiffEqBase.ODE_DEFAULT_ISOUTOFDOMAIN), \u001b[90munstable_check\u001b[39m::\u001b[0mtypeof(DiffEqBase.ODE_DEFAULT_UNSTABLE_CHECK), \u001b[90mverbose\u001b[39m::\u001b[0mBool, \u001b[90mtimeseries_errors\u001b[39m::\u001b[0mBool, \u001b[90mdense_errors\u001b[39m::\u001b[0mBool, \u001b[90madvance_to_tstop\u001b[39m::\u001b[0mBool, \u001b[90mstop_at_next_tstop\u001b[39m::\u001b[0mBool, \u001b[90minitialize_save\u001b[39m::\u001b[0mBool, \u001b[90mprogress\u001b[39m::\u001b[0mBool, \u001b[90mprogress_steps\u001b[39m::\u001b[0mInt64, \u001b[90mprogress_name\u001b[39m::\u001b[0mString, \u001b[90mprogress_message\u001b[39m::\u001b[0mtypeof(DiffEqBase.ODE_DEFAULT_PROG_MESSAGE), \u001b[90mprogress_id\u001b[39m::\u001b[0mSymbol, \u001b[90muserdata\u001b[39m::\u001b[0mNothing, \u001b[90mallow_extrapolation\u001b[39m::\u001b[0mBool, \u001b[90minitialize_integrator\u001b[39m::\u001b[0mBool, \u001b[90malias_u0\u001b[39m::\u001b[0mBool, \u001b[90malias_du0\u001b[39m::\u001b[0mBool, \u001b[90minitializealg\u001b[39m::\u001b[0mOrdinaryDiffEq.DefaultInit, \u001b[90mkwargs\u001b[39m::\u001b[0mBase.Pairs\u001b[90m{Symbol, Bool, Tuple{Symbol, Symbol}, NamedTuple{(:default_set, :second_time), Tuple{Bool, Bool}}}\u001b[39m\u001b[0m\u001b[1m)\u001b[22m\n",
      "\u001b[90m    @\u001b[39m \u001b[33mOrdinaryDiffEq\u001b[39m \u001b[90mC:\\Users\\simon\\.julia\\packages\\OrdinaryDiffEq\\Y6bIX\\src\\\u001b[39m\u001b[90m\u001b[4msolve.jl:527\u001b[24m\u001b[39m\n",
      " [21] \u001b[0m\u001b[1m__init\u001b[22m\u001b[90m (repeats 5 times)\u001b[39m\n",
      "\u001b[90m    @\u001b[39m \u001b[90mC:\\Users\\simon\\.julia\\packages\\OrdinaryDiffEq\\Y6bIX\\src\\\u001b[39m\u001b[90m\u001b[4msolve.jl:10\u001b[24m\u001b[39m\u001b[90m [inlined]\u001b[39m\n",
      " [22] \u001b[0m\u001b[1m#__solve#746\u001b[22m\n",
      "\u001b[90m    @\u001b[39m \u001b[90mC:\\Users\\simon\\.julia\\packages\\OrdinaryDiffEq\\Y6bIX\\src\\\u001b[39m\u001b[90m\u001b[4msolve.jl:5\u001b[24m\u001b[39m\u001b[90m [inlined]\u001b[39m\n",
      " [23] \u001b[0m\u001b[1m__solve\u001b[22m\n",
      "\u001b[90m    @\u001b[39m \u001b[90mC:\\Users\\simon\\.julia\\packages\\OrdinaryDiffEq\\Y6bIX\\src\\\u001b[39m\u001b[90m\u001b[4msolve.jl:1\u001b[24m\u001b[39m\u001b[90m [inlined]\u001b[39m\n",
      " [24] \u001b[0m\u001b[1msolve_call\u001b[22m\u001b[0m\u001b[1m(\u001b[22m\u001b[90m_prob\u001b[39m::\u001b[0mSciMLBase.ODEProblem\u001b[90m{Vector{Float64}, Tuple{Float64, Float64}, true, NamedTuple{(:glb, :deb), Tuple{DEBBase.GlobalBaseParams, DEBBase.DEBBaseParams}}, SciMLBase.ODEFunction{true, SciMLBase.AutoSpecialize, FunctionWrappersWrappers.FunctionWrappersWrapper{Tuple{FunctionWrappers.FunctionWrapper{Nothing, Tuple{Vector{Float64}, Vector{Float64}, NamedTuple{(:glb, :deb), Tuple{DEBBase.GlobalBaseParams, DEBBase.DEBBaseParams}}, Float64}}, FunctionWrappers.FunctionWrapper{Nothing, Tuple{Vector{ForwardDiff.Dual{ForwardDiff.Tag{DiffEqBase.OrdinaryDiffEqTag, Float64}, Float64, 1}}, Vector{ForwardDiff.Dual{ForwardDiff.Tag{DiffEqBase.OrdinaryDiffEqTag, Float64}, Float64, 1}}, NamedTuple{(:glb, :deb), Tuple{DEBBase.GlobalBaseParams, DEBBase.DEBBaseParams}}, Float64}}, FunctionWrappers.FunctionWrapper{Nothing, Tuple{Vector{ForwardDiff.Dual{ForwardDiff.Tag{DiffEqBase.OrdinaryDiffEqTag, Float64}, Float64, 1}}, Vector{Float64}, NamedTuple{(:glb, :deb), Tuple{DEBBase.GlobalBaseParams, DEBBase.DEBBaseParams}}, ForwardDiff.Dual{ForwardDiff.Tag{DiffEqBase.OrdinaryDiffEqTag, Float64}, Float64, 1}}}, FunctionWrappers.FunctionWrapper{Nothing, Tuple{Vector{ForwardDiff.Dual{ForwardDiff.Tag{DiffEqBase.OrdinaryDiffEqTag, Float64}, Float64, 1}}, Vector{ForwardDiff.Dual{ForwardDiff.Tag{DiffEqBase.OrdinaryDiffEqTag, Float64}, Float64, 1}}, NamedTuple{(:glb, :deb), Tuple{DEBBase.GlobalBaseParams, DEBBase.DEBBaseParams}}, ForwardDiff.Dual{ForwardDiff.Tag{DiffEqBase.OrdinaryDiffEqTag, Float64}, Float64, 1}}}}, false}, LinearAlgebra.UniformScaling{Bool}, Nothing, Nothing, Nothing, Nothing, Nothing, Nothing, Nothing, Nothing, Nothing, Nothing, Nothing, Nothing, Nothing, Nothing, typeof(SciMLBase.DEFAULT_OBSERVED), Nothing, Nothing}, Base.Pairs{Symbol, Union{}, Tuple{}, NamedTuple{(), Tuple{}}}, SciMLBase.StandardODEProblem}\u001b[39m, \u001b[90margs\u001b[39m::\u001b[0mOrdinaryDiffEq.CompositeAlgorithm\u001b[90m{Tuple{OrdinaryDiffEq.Vern7{typeof(OrdinaryDiffEq.trivial_limiter!), typeof(OrdinaryDiffEq.trivial_limiter!), Static.False}, OrdinaryDiffEq.Rodas5P{1, false, Nothing, typeof(OrdinaryDiffEq.DEFAULT_PRECS), Val{:forward}, true, nothing}}, OrdinaryDiffEq.AutoSwitch{OrdinaryDiffEq.Vern7{typeof(OrdinaryDiffEq.trivial_limiter!), typeof(OrdinaryDiffEq.trivial_limiter!), Static.False}, OrdinaryDiffEq.Rodas5P{0, false, Nothing, typeof(OrdinaryDiffEq.DEFAULT_PRECS), Val{:forward}, true, nothing}, Rational{Int64}, Int64}}\u001b[39m"
     ]
    },
    {
     "name": "stderr",
     "output_type": "stream",
     "text": [
      "; \u001b[90mmerge_callbacks\u001b[39m::\u001b[0mBool, \u001b[90mkwargshandle\u001b[39m::\u001b[0mNothing, \u001b[90mkwargs\u001b[39m::\u001b[0mBase.Pairs\u001b[90m{Symbol, Real, NTuple{4, Symbol}, NamedTuple{(:default_set, :second_time, :reltol, :abstol), Tuple{Bool, Bool, Float64, Float64}}}\u001b[39m\u001b[0m\u001b[1m)\u001b[22m\n",
      "\u001b[90m    @\u001b[39m \u001b[35mDiffEqBase\u001b[39m \u001b[90mC:\\Users\\simon\\.julia\\packages\\DiffEqBase\\nKsvb\\src\\\u001b[39m\u001b[90m\u001b[4msolve.jl:605\u001b[24m\u001b[39m\n",
      " [25] \u001b[0m\u001b[1msolve_up\u001b[22m\u001b[0m\u001b[1m(\u001b[22m\u001b[90mprob\u001b[39m::\u001b[0mSciMLBase.ODEProblem\u001b[90m{Vector{Float64}, Tuple{Float64, Float64}, true, NamedTuple{(:glb, :deb), Tuple{DEBBase.GlobalBaseParams, DEBBase.DEBBaseParams}}, SciMLBase.ODEFunction{true, SciMLBase.AutoSpecialize, FunctionWrappersWrappers.FunctionWrappersWrapper{Tuple{FunctionWrappers.FunctionWrapper{Nothing, Tuple{Vector{Float64}, Vector{Float64}, NamedTuple{(:glb, :deb), Tuple{DEBBase.GlobalBaseParams, DEBBase.DEBBaseParams}}, Float64}}, FunctionWrappers.FunctionWrapper{Nothing, Tuple{Vector{ForwardDiff.Dual{ForwardDiff.Tag{DiffEqBase.OrdinaryDiffEqTag, Float64}, Float64, 1}}, Vector{ForwardDiff.Dual{ForwardDiff.Tag{DiffEqBase.OrdinaryDiffEqTag, Float64}, Float64, 1}}, NamedTuple{(:glb, :deb), Tuple{DEBBase.GlobalBaseParams, DEBBase.DEBBaseParams}}, Float64}}, FunctionWrappers.FunctionWrapper{Nothing, Tuple{Vector{ForwardDiff.Dual{ForwardDiff.Tag{DiffEqBase.OrdinaryDiffEqTag, Float64}, Float64, 1}}, Vector{Float64}, NamedTuple{(:glb, :deb), Tuple{DEBBase.GlobalBaseParams, DEBBase.DEBBaseParams}}, ForwardDiff.Dual{ForwardDiff.Tag{DiffEqBase.OrdinaryDiffEqTag, Float64}, Float64, 1}}}, FunctionWrappers.FunctionWrapper{Nothing, Tuple{Vector{ForwardDiff.Dual{ForwardDiff.Tag{DiffEqBase.OrdinaryDiffEqTag, Float64}, Float64, 1}}, Vector{ForwardDiff.Dual{ForwardDiff.Tag{DiffEqBase.OrdinaryDiffEqTag, Float64}, Float64, 1}}, NamedTuple{(:glb, :deb), Tuple{DEBBase.GlobalBaseParams, DEBBase.DEBBaseParams}}, ForwardDiff.Dual{ForwardDiff.Tag{DiffEqBase.OrdinaryDiffEqTag, Float64}, Float64, 1}}}}, false}, LinearAlgebra.UniformScaling{Bool}, Nothing, Nothing, Nothing, Nothing, Nothing, Nothing, Nothing, Nothing, Nothing, Nothing, Nothing, Nothing, Nothing, Nothing, typeof(SciMLBase.DEFAULT_OBSERVED), Nothing, Nothing}, Base.Pairs{Symbol, Union{}, Tuple{}, NamedTuple{(), Tuple{}}}, SciMLBase.StandardODEProblem}\u001b[39m, \u001b[90msensealg\u001b[39m::\u001b[0mNothing, \u001b[90mu0\u001b[39m::\u001b[0mVector\u001b[90m{Float64}\u001b[39m, \u001b[90mp\u001b[39m::\u001b[0mNamedTuple\u001b[90m{(:glb, :deb), Tuple{DEBBase.GlobalBaseParams, DEBBase.DEBBaseParams}}\u001b[39m, \u001b[90margs\u001b[39m::\u001b[0mOrdinaryDiffEq.CompositeAlgorithm\u001b[90m{Tuple{OrdinaryDiffEq.Vern7{typeof(OrdinaryDiffEq.trivial_limiter!), typeof(OrdinaryDiffEq.trivial_limiter!), Static.False}, OrdinaryDiffEq.Rodas5P{1, false, Nothing, typeof(OrdinaryDiffEq.DEFAULT_PRECS), Val{:forward}, true, nothing}}, OrdinaryDiffEq.AutoSwitch{OrdinaryDiffEq.Vern7{typeof(OrdinaryDiffEq.trivial_limiter!), typeof(OrdinaryDiffEq.trivial_limiter!), Static.False}, OrdinaryDiffEq.Rodas5P{0, false, Nothing, typeof(OrdinaryDiffEq.DEFAULT_PRECS), Val{:forward}, true, nothing}, Rational{Int64}, Int64}}\u001b[39m; \u001b[90mkwargs\u001b[39m::\u001b[0mBase.Pairs\u001b[90m{Symbol, Real, NTuple{4, Symbol}, NamedTuple{(:default_set, :second_time, :reltol, :abstol), Tuple{Bool, Bool, Float64, Float64}}}\u001b[39m\u001b[0m\u001b[1m)\u001b[22m\n",
      "\u001b[90m    @\u001b[39m \u001b[35mDiffEqBase\u001b[39m \u001b[90mC:\\Users\\simon\\.julia\\packages\\DiffEqBase\\nKsvb\\src\\\u001b[39m\u001b[90m\u001b[4msolve.jl:1054\u001b[24m\u001b[39m\n",
      " [26] \u001b[0m\u001b[1msolve_up\u001b[22m\n",
      "\u001b[90m    @\u001b[39m \u001b[90mC:\\Users\\simon\\.julia\\packages\\DiffEqBase\\nKsvb\\src\\\u001b[39m\u001b[90m\u001b[4msolve.jl:1040\u001b[24m\u001b[39m\u001b[90m [inlined]\u001b[39m\n",
      " [27] \u001b[0m\u001b[1msolve\u001b[22m\u001b[0m\u001b[1m(\u001b[22m\u001b[90mprob\u001b[39m::\u001b[0mSciMLBase.ODEProblem\u001b[90m{Vector{Float64}, Tuple{Float64, Float64}, true, NamedTuple{(:glb, :deb), Tuple{DEBBase.GlobalBaseParams, DEBBase.DEBBaseParams}}, SciMLBase.ODEFunction{true, SciMLBase.AutoSpecialize, FunctionWrappersWrappers.FunctionWrappersWrapper{Tuple{FunctionWrappers.FunctionWrapper{Nothing, Tuple{Vector{Float64}, Vector{Float64}, NamedTuple{(:glb, :deb), Tuple{DEBBase.GlobalBaseParams, DEBBase.DEBBaseParams}}, Float64}}, FunctionWrappers.FunctionWrapper{Nothing, Tuple{Vector{ForwardDiff.Dual{ForwardDiff.Tag{DiffEqBase.OrdinaryDiffEqTag, Float64}, Float64, 1}}, Vector{ForwardDiff.Dual{ForwardDiff.Tag{DiffEqBase.OrdinaryDiffEqTag, Float64}, Float64, 1}}, NamedTuple{(:glb, :deb), Tuple{DEBBase.GlobalBaseParams, DEBBase.DEBBaseParams}}, Float64}}, FunctionWrappers.FunctionWrapper{Nothing, Tuple{Vector{ForwardDiff.Dual{ForwardDiff.Tag{DiffEqBase.OrdinaryDiffEqTag, Float64}, Float64, 1}}, Vector{Float64}, NamedTuple{(:glb, :deb), Tuple{DEBBase.GlobalBaseParams, DEBBase.DEBBaseParams}}, ForwardDiff.Dual{ForwardDiff.Tag{DiffEqBase.OrdinaryDiffEqTag, Float64}, Float64, 1}}}, FunctionWrappers.FunctionWrapper{Nothing, Tuple{Vector{ForwardDiff.Dual{ForwardDiff.Tag{DiffEqBase.OrdinaryDiffEqTag, Float64}, Float64, 1}}, Vector{ForwardDiff.Dual{ForwardDiff.Tag{DiffEqBase.OrdinaryDiffEqTag, Float64}, Float64, 1}}, NamedTuple{(:glb, :deb), Tuple{DEBBase.GlobalBaseParams, DEBBase.DEBBaseParams}}, ForwardDiff.Dual{ForwardDiff.Tag{DiffEqBase.OrdinaryDiffEqTag, Float64}, Float64, 1}}}}, false}, LinearAlgebra.UniformScaling{Bool}, Nothing, Nothing, Nothing, Nothing, Nothing, Nothing, Nothing, Nothing, Nothing, Nothing, Nothing, Nothing, Nothing, Nothing, typeof(SciMLBase.DEFAULT_OBSERVED), Nothing, Nothing}, Base.Pairs{Symbol, Union{}, Tuple{}, NamedTuple{(), Tuple{}}}, SciMLBase.StandardODEProblem}\u001b[39m, \u001b[90margs\u001b[39m::\u001b[0mOrdinaryDiffEq.CompositeAlgorithm\u001b[90m{Tuple{OrdinaryDiffEq.Vern7{typeof(OrdinaryDiffEq.trivial_limiter!), typeof(OrdinaryDiffEq.trivial_limiter!), Static.False}, OrdinaryDiffEq.Rodas5P{1, false, Nothing, typeof(OrdinaryDiffEq.DEFAULT_PRECS), Val{:forward}, true, nothing}}, OrdinaryDiffEq.AutoSwitch{OrdinaryDiffEq.Vern7{typeof(OrdinaryDiffEq.trivial_limiter!), typeof(OrdinaryDiffEq.trivial_limiter!), Static.False}, OrdinaryDiffEq.Rodas5P{0, false, Nothing, typeof(OrdinaryDiffEq.DEFAULT_PRECS), Val{:forward}, true, nothing}, Rational{Int64}, Int64}}\u001b[39m; \u001b[90msensealg\u001b[39m::\u001b[0mNothing, \u001b[90mu0\u001b[39m::\u001b[0mNothing, \u001b[90mp\u001b[39m::\u001b[0mNothing, \u001b[90mwrap\u001b[39m::\u001b[0mVal\u001b[90m{true}\u001b[39m, \u001b[90mkwargs\u001b[39m::\u001b[0mBase.Pairs\u001b[90m{Symbol, Real, NTuple{4, Symbol}, NamedTuple{(:default_set, :second_time, :reltol, :abstol), Tuple{Bool, Bool, Float64, Float64}}}\u001b[39m\u001b[0m\u001b[1m)\u001b[22m\n",
      "\u001b[90m    @\u001b[39m \u001b[35mDiffEqBase\u001b[39m \u001b[90mC:\\Users\\simon\\.julia\\packages\\DiffEqBase\\nKsvb\\src\\\u001b[39m\u001b[90m\u001b[4msolve.jl:977\u001b[24m\u001b[39m\n",
      " [28] \u001b[0m\u001b[1m__solve\u001b[22m\u001b[0m\u001b[1m(\u001b[22m::\u001b[0mSciMLBase.ODEProblem\u001b[90m{Vector{Float64}, Tuple{Float64, Float64}, true, NamedTuple{(:glb, :deb), Tuple{DEBBase.GlobalBaseParams, DEBBase.DEBBaseParams}}, SciMLBase.ODEFunction{true, SciMLBase.AutoSpecialize, FunctionWrappersWrappers.FunctionWrappersWrapper{Tuple{FunctionWrappers.FunctionWrapper{Nothing, Tuple{Vector{Float64}, Vector{Float64}, NamedTuple{(:glb, :deb), Tuple{DEBBase.GlobalBaseParams, DEBBase.DEBBaseParams}}, Float64}}, FunctionWrappers.FunctionWrapper{Nothing, Tuple{Vector{ForwardDiff.Dual{ForwardDiff.Tag{DiffEqBase.OrdinaryDiffEqTag, Float64}, Float64, 1}}, Vector{ForwardDiff.Dual{ForwardDiff.Tag{DiffEqBase.OrdinaryDiffEqTag, Float64}, Float64, 1}}, NamedTuple{(:glb, :deb), Tuple{DEBBase.GlobalBaseParams, DEBBase.DEBBaseParams}}, Float64}}, FunctionWrappers.FunctionWrapper{Nothing, Tuple{Vector{ForwardDiff.Dual{ForwardDiff.Tag{DiffEqBase.OrdinaryDiffEqTag, Float64}, Float64, 1}}, Vector{Float64}, NamedTuple{(:glb, :deb), Tuple{DEBBase.GlobalBaseParams, DEBBase.DEBBaseParams}}, ForwardDiff.Dual{ForwardDiff.Tag{DiffEqBase.OrdinaryDiffEqTag, Float64}, Float64, 1}}}, FunctionWrappers.FunctionWrapper{Nothing, Tuple{Vector{ForwardDiff.Dual{ForwardDiff.Tag{DiffEqBase.OrdinaryDiffEqTag, Float64}, Float64, 1}}, Vector{ForwardDiff.Dual{ForwardDiff.Tag{DiffEqBase.OrdinaryDiffEqTag, Float64}, Float64, 1}}, NamedTuple{(:glb, :deb), Tuple{DEBBase.GlobalBaseParams, DEBBase.DEBBaseParams}}, ForwardDiff.Dual{ForwardDiff.Tag{DiffEqBase.OrdinaryDiffEqTag, Float64}, Float64, 1}}}}, false}, LinearAlgebra.UniformScaling{Bool}, Nothing, Nothing, Nothing, Nothing, Nothing, Nothing, Nothing, Nothing, Nothing, Nothing, Nothing, Nothing, Nothing, Nothing, typeof(SciMLBase.DEFAULT_OBSERVED), Nothing, Nothing}, Base.Pairs{Symbol, Union{}, Tuple{}, NamedTuple{(), Tuple{}}}, SciMLBase.StandardODEProblem}\u001b[39m, ::\u001b[0mNothing; \u001b[90mdefault_set\u001b[39m::\u001b[0mBool, \u001b[90mkwargs\u001b[39m::\u001b[0mBase.Pairs\u001b[90m{Symbol, Real, Tuple{Symbol, Symbol, Symbol}, NamedTuple{(:second_time, :reltol, :abstol), Tuple{Bool, Float64, Float64}}}\u001b[39m\u001b[0m\u001b[1m)\u001b[22m\n",
      "\u001b[90m    @\u001b[39m \u001b[36mDifferentialEquations\u001b[39m \u001b[90mC:\\Users\\simon\\.julia\\packages\\DifferentialEquations\\Tu7HS\\src\\\u001b[39m\u001b[90m\u001b[4mdefault_solve.jl:14\u001b[24m\u001b[39m\n",
      " [29] \u001b[0m\u001b[1m__solve\u001b[22m\n",
      "\u001b[90m    @\u001b[39m \u001b[90mC:\\Users\\simon\\.julia\\packages\\DifferentialEquations\\Tu7HS\\src\\\u001b[39m\u001b[90m\u001b[4mdefault_solve.jl:1\u001b[24m\u001b[39m\u001b[90m [inlined]\u001b[39m\n",
      " [30] \u001b[0m\u001b[1m#__solve#61\u001b[22m\n",
      "\u001b[90m    @\u001b[39m \u001b[90mC:\\Users\\simon\\.julia\\packages\\DiffEqBase\\nKsvb\\src\\\u001b[39m\u001b[90m\u001b[4msolve.jl:1367\u001b[24m\u001b[39m\u001b[90m [inlined]\u001b[39m\n",
      " [31] \u001b[0m\u001b[1m__solve\u001b[22m\n",
      "\u001b[90m    @\u001b[39m \u001b[90mC:\\Users\\simon\\.julia\\packages\\DiffEqBase\\nKsvb\\src\\\u001b[39m\u001b[90m\u001b[4msolve.jl:1360\u001b[24m\u001b[39m\u001b[90m [inlined]\u001b[39m\n",
      " [32] \u001b[0m\u001b[1m#solve_call#34\u001b[22m\n",
      "\u001b[90m    @\u001b[39m \u001b[90mC:\\Users\\simon\\.julia\\packages\\DiffEqBase\\nKsvb\\src\\\u001b[39m\u001b[90m\u001b[4msolve.jl:605\u001b[24m\u001b[39m\u001b[90m [inlined]\u001b[39m\n",
      " [33] \u001b[0m\u001b[1msolve_up\u001b[22m\u001b[0m\u001b[1m(\u001b[22m::\u001b[0mSciMLBase.ODEProblem\u001b[90m{Vector{Float64}, Tuple{Float64, Float64}, true, NamedTuple{(:glb, :deb), Tuple{DEBBase.GlobalBaseParams, DEBBase.DEBBaseParams}}, SciMLBase.ODEFunction{true, SciMLBase.AutoSpecialize, typeof(DEBBase.DEB!), LinearAlgebra.UniformScaling{Bool}, Nothing, Nothing, Nothing, Nothing, Nothing, Nothing, Nothing, Nothing, Nothing, Nothing, Nothing, Nothing, Nothing, Nothing, typeof(SciMLBase.DEFAULT_OBSERVED), Nothing, Nothing}, Base.Pairs{Symbol, Union{}, Tuple{}, NamedTuple{(), Tuple{}}}, SciMLBase.StandardODEProblem}\u001b[39m, ::\u001b[0mNothing, ::\u001b[0mVector\u001b[90m{Float64}\u001b[39m, ::\u001b[0mNamedTuple\u001b[90m{(:glb, :deb), Tuple{DEBBase.GlobalBaseParams, DEBBase.DEBBaseParams}}\u001b[39m; \u001b[90mkwargs\u001b[39m::\u001b[0mBase.Pairs\u001b[90m{Symbol, Float64, Tuple{Symbol, Symbol}, NamedTuple{(:reltol, :abstol), Tuple{Float64, Float64}}}\u001b[39m"
     ]
    },
    {
     "name": "stderr",
     "output_type": "stream",
     "text": [
      "\u001b[0m\u001b[1m)\u001b[22m\n",
      "\u001b[90m    @\u001b[39m \u001b[35mDiffEqBase\u001b[39m \u001b[90mC:\\Users\\simon\\.julia\\packages\\DiffEqBase\\nKsvb\\src\\\u001b[39m\u001b[90m\u001b[4msolve.jl:1046\u001b[24m\u001b[39m\n",
      " [34] \u001b[0m\u001b[1msolve_up\u001b[22m\n",
      "\u001b[90m    @\u001b[39m \u001b[90mC:\\Users\\simon\\.julia\\packages\\DiffEqBase\\nKsvb\\src\\\u001b[39m\u001b[90m\u001b[4msolve.jl:1040\u001b[24m\u001b[39m\u001b[90m [inlined]\u001b[39m\n",
      " [35] \u001b[0m\u001b[1msolve\u001b[22m\u001b[0m\u001b[1m(\u001b[22m::\u001b[0mSciMLBase.ODEProblem\u001b[90m{Vector{Float64}, Tuple{Float64, Float64}, true, NamedTuple{(:glb, :deb), Tuple{DEBBase.GlobalBaseParams, DEBBase.DEBBaseParams}}, SciMLBase.ODEFunction{true, SciMLBase.AutoSpecialize, typeof(DEBBase.DEB!), LinearAlgebra.UniformScaling{Bool}, Nothing, Nothing, Nothing, Nothing, Nothing, Nothing, Nothing, Nothing, Nothing, Nothing, Nothing, Nothing, Nothing, Nothing, typeof(SciMLBase.DEFAULT_OBSERVED), Nothing, Nothing}, Base.Pairs{Symbol, Union{}, Tuple{}, NamedTuple{(), Tuple{}}}, SciMLBase.StandardODEProblem}\u001b[39m; \u001b[90msensealg\u001b[39m::\u001b[0mNothing, \u001b[90mu0\u001b[39m::\u001b[0mNothing, \u001b[90mp\u001b[39m::\u001b[0mNothing, \u001b[90mwrap\u001b[39m::\u001b[0mVal\u001b[90m{true}\u001b[39m, \u001b[90mkwargs\u001b[39m::\u001b[0mBase.Pairs\u001b[90m{Symbol, Float64, Tuple{Symbol, Symbol}, NamedTuple{(:reltol, :abstol), Tuple{Float64, Float64}}}\u001b[39m\u001b[0m\u001b[1m)\u001b[22m\n",
      "\u001b[90m    @\u001b[39m \u001b[35mDiffEqBase\u001b[39m \u001b[90mC:\\Users\\simon\\.julia\\packages\\DiffEqBase\\nKsvb\\src\\\u001b[39m\u001b[90m\u001b[4msolve.jl:977\u001b[24m\u001b[39m\n",
      " [36] \u001b[0m\u001b[1msimulator\u001b[22m\u001b[0m\u001b[1m(\u001b[22m\u001b[90mglb\u001b[39m::\u001b[0mDEBBase.GlobalBaseParams, \u001b[90mdeb\u001b[39m::\u001b[0mDEBBase.DEBBaseParams\u001b[0m\u001b[1m)\u001b[22m\n",
      "\u001b[90m    @\u001b[39m \u001b[35mDEBBase\u001b[39m \u001b[90mc:\\Users\\simon\\Documents\\Julia\\DEBBase.jl\\src\\\u001b[39m\u001b[90m\u001b[4mSimulators.jl:14\u001b[24m\u001b[39m\n",
      " [37] \u001b[0m\u001b[1mmacro expansion\u001b[22m\n",
      "\u001b[90m    @\u001b[39m \u001b[90mc:\\Users\\simon\\Documents\\Julia\\DEBBase.jl\\src\\\u001b[39m\u001b[90m\u001b[4mDEBBase.jl:27\u001b[24m\u001b[39m\u001b[90m [inlined]\u001b[39m\n",
      " [38] top-level scope\n",
      "\u001b[90m    @\u001b[39m \u001b[90mC:\\Users\\simon\\.julia\\packages\\PrecompileTools\\kmH5L\\src\\\u001b[39m\u001b[90m\u001b[4mworkloads.jl:78\u001b[24m\u001b[39m\n",
      " [39] \u001b[0m\u001b[1minclude\u001b[22m\n",
      "\u001b[90m    @\u001b[39m \u001b[90m.\\\u001b[39m\u001b[90m\u001b[4mBase.jl:457\u001b[24m\u001b[39m\u001b[90m [inlined]\u001b[39m\n",
      " [40] \u001b[0m\u001b[1minclude_package_for_output\u001b[22m\u001b[0m\u001b[1m(\u001b[22m\u001b[90mpkg\u001b[39m::\u001b[0mBase.PkgId, \u001b[90minput\u001b[39m::\u001b[0mString, \u001b[90mdepot_path\u001b[39m::\u001b[0mVector\u001b[90m{String}\u001b[39m, \u001b[90mdl_load_path\u001b[39m::\u001b[0mVector\u001b[90m{String}\u001b[39m, \u001b[90mload_path\u001b[39m::\u001b[0mVector\u001b[90m{String}\u001b[39m, \u001b[90mconcrete_deps\u001b[39m::\u001b[0mVector\u001b[90m{Pair{Base.PkgId, UInt128}}\u001b[39m, \u001b[90msource\u001b[39m::\u001b[0mString\u001b[0m\u001b[1m)\u001b[22m\n",
      "\u001b[90m    @\u001b[39m \u001b[90mBase\u001b[39m \u001b[90m.\\\u001b[39m\u001b[90m\u001b[4mloading.jl:2049\u001b[24m\u001b[39m\n",
      " [41] top-level scope\n",
      "\u001b[90m    @\u001b[39m \u001b[90m\u001b[4mstdin:3\u001b[24m\u001b[39m\n",
      "in expression starting at c:\\Users\\simon\\Documents\\Julia\\DEBBase.jl\\src\\DEBBase.jl:1\n",
      "in expression starting at stdin:3\n"
     ]
    },
    {
     "ename": "ErrorException",
     "evalue": "Failed to precompile DEBBase [0e91d03b-6562-4ef9-a38e-775ced00eaf8] to \"C:\\\\Users\\\\simon\\\\.julia\\\\compiled\\\\v1.9\\\\DEBBase\\\\jl_BC50.tmp\".",
     "output_type": "error",
     "traceback": [
      "Failed to precompile DEBBase [0e91d03b-6562-4ef9-a38e-775ced00eaf8] to \"C:\\\\Users\\\\simon\\\\.julia\\\\compiled\\\\v1.9\\\\DEBBase\\\\jl_BC50.tmp\".\n",
      "\n",
      "Stacktrace:\n",
      "  [1] error(s::String)\n",
      "    @ Base .\\error.jl:35\n",
      "  [2] compilecache(pkg::Base.PkgId, path::String, internal_stderr::IO, internal_stdout::IO, keep_loaded_modules::Bool)\n",
      "    @ Base .\\loading.jl:2300\n",
      "  [3] compilecache\n",
      "    @ .\\loading.jl:2167 [inlined]\n",
      "  [4] _require(pkg::Base.PkgId, env::String)\n",
      "    @ Base .\\loading.jl:1805\n",
      "  [5] _require_prelocked(uuidkey::Base.PkgId, env::String)\n",
      "    @ Base .\\loading.jl:1660\n",
      "  [6] macro expansion\n",
      "    @ .\\loading.jl:1648 [inlined]\n",
      "  [7] macro expansion\n",
      "    @ .\\lock.jl:267 [inlined]\n",
      "  [8] require(into::Module, mod::Symbol)\n",
      "    @ Base .\\loading.jl:1611\n",
      "  [9] top-level scope\n",
      "    @ .\\timing.jl:273 [inlined]\n",
      " [10] top-level scope\n",
      "    @ c:\\Users\\simon\\Documents\\Julia\\DEBBase.jl\\notebooks\\ImplementationVerification\\ImplemenationVerification_20231222_TK.ipynb:0"
     ]
    }
   ],
   "source": [
    "using Revise\n",
    "@time using DEBBase\n",
    "using Plots, Plots.Measures, StatsPlots\n",
    "using DataFrames\n",
    "using BenchmarkTools"
   ]
  },
  {
   "cell_type": "code",
   "execution_count": 7,
   "metadata": {},
   "outputs": [
    {
     "ename": "UndefVarError",
     "evalue": "UndefVarError: `GlobalBaseParams` not defined",
     "output_type": "error",
     "traceback": [
      "UndefVarError: `GlobalBaseParams` not defined\n",
      "\n",
      "Stacktrace:\n",
      " [1] top-level scope\n",
      "   @ c:\\Users\\simon\\Documents\\Julia\\DEBBase.jl\\notebooks\\ImplementationVerification\\ImplemenationVerification_20231222_TK.ipynb:1"
     ]
    }
   ],
   "source": [
    "glb = GlobalBaseParams()"
   ]
  },
  {
   "cell_type": "code",
   "execution_count": 15,
   "metadata": {},
   "outputs": [],
   "source": [
    "u = [1., [2., 3.]]\n",
    "statevars = [:X, :Y]\n",
    "sttypes = [Float64, Vector{Float64}]\n",
    "\n",
    "for (i, u_i) in enumerate(u)\n",
    "    eval(:($(statevars[i]) = $(sttypes[i])($(u_i))))\n",
    "end"
   ]
  },
  {
   "cell_type": "code",
   "execution_count": 16,
   "metadata": {},
   "outputs": [
    {
     "data": {
      "text/plain": [
       "2-element Vector{Float64}:\n",
       " 2.0\n",
       " 3.0"
      ]
     },
     "metadata": {},
     "output_type": "display_data"
    }
   ],
   "source": [
    "Y"
   ]
  },
  {
   "cell_type": "code",
   "execution_count": null,
   "metadata": {},
   "outputs": [],
   "source": []
  },
  {
   "cell_type": "markdown",
   "metadata": {},
   "source": [
    "## Simulating TK for a single stressor"
   ]
  },
  {
   "cell_type": "code",
   "execution_count": null,
   "metadata": {},
   "outputs": [],
   "source": []
  },
  {
   "cell_type": "markdown",
   "metadata": {},
   "source": [
    "## Varying the number of stressors"
   ]
  },
  {
   "cell_type": "code",
   "execution_count": null,
   "metadata": {},
   "outputs": [],
   "source": []
  },
  {
   "cell_type": "markdown",
   "metadata": {},
   "source": [
    "## Varying coupled TK parameter"
   ]
  },
  {
   "cell_type": "code",
   "execution_count": null,
   "metadata": {},
   "outputs": [],
   "source": []
  },
  {
   "cell_type": "markdown",
   "metadata": {},
   "source": [
    "## Uncoupling the TK parameter"
   ]
  },
  {
   "cell_type": "code",
   "execution_count": null,
   "metadata": {},
   "outputs": [],
   "source": []
  },
  {
   "cell_type": "markdown",
   "metadata": {},
   "source": [
    "## Modifying the model: Simplified TK"
   ]
  },
  {
   "cell_type": "markdown",
   "metadata": {},
   "source": [
    "We start by having a look at the predefined TK function:"
   ]
  },
  {
   "cell_type": "code",
   "execution_count": 39,
   "metadata": {},
   "outputs": [
    {
     "name": "stdout",
     "output_type": "stream",
     "text": [
      "function Ddot!(\r\n",
      "    deb::AbstractParams,\r\n",
      "    z::Int64; \r\n",
      "    C_W::Float64, \r\n",
      "    D::Float64, \r\n",
      "    S::Float64, \r\n",
      "    Sdot::Float64, \r\n",
      "    S_max::Float64\r\n",
      "    )\r\n",
      "    # surface area / volume ratio\r\n",
      "    let AV_ratio = S^(2/3) / S, AV_max_ratio = S_max^(2/3) / S_max\r\n",
      "        # TK with account for body size: smaller A/V ration = higher elimination rate, diluation by growth\r\n",
      "        return deb.k_D[z] * (AV_max_ratio / AV_ratio) * (C_W[z] - D[z]) - D[z] * (Sdot/S)\r\n",
      "    end\r\n",
      "end\r\n",
      "\r\n",
      "\"\"\"\r\n",
      "Definition of reserveless DEB derivatives. \r\n",
      "$(TYPEDSIGNATURES)\r\n",
      "\"\"\"\r\n",
      "function DEB!(du, u, p, t)\r\n",
      "    glb, deb = p\r\n",
      "    # unpack scalar state variables\r\n",
      "    X_p, X_emb, S, H, R = u\r\n",
      "\r\n",
      "    C_W = u[glb.num_scalar_statevars+1:Int(glb.num_scalar_statevars+(length(u)-glb.num_scalar_statevars)/glb.num_vector_statevars)]\r\n",
      "    D = u[Int(glb:num_scalar_statevars+1+length(C_W)):end]\r\n",
      "\r\n",
      "    S = max(0, S) # control for negative values\r\n",
      "\r\n",
      "    life_stage = determine_life_stage(deb; H = H, X_emb = X_emb)\r\n",
      "    \r\n",
      "    ddot \r\n",
      "    for (z,C_Wz) in enumerate(C_W)\r\n",
      "        ddot\r\n",
      "    end\r\n",
      "\r\n",
      "    idot = Idot(glb, deb; X_p = X_p, life_stage = life_stage, S = S)\r\n",
      "    xdot = embryo(life_stage) ? 0. : glb.Xdot_in - idot\r\n",
      "    xembdot = embryo(life_stage) ? -idot : 0.0\r\n",
      "    adot = Adot(deb; Idot = idot, )\r\n",
      "    mdot = Mdot(deb; S = S)\r\n",
      "    jdot = Jdot(deb; H = H)\r\n",
      "    sdot = Sdot(deb; Adot = adot, Mdot = mdot) \r\n",
      "    hdot = Hdot(deb; Adot = adot, Jdot = jdot, adult = adult(life_stage))\r\n",
      "    rdot = Rdot(deb; Adot = adot, Jdot = jdot, adult = adult(life_stage))\r\n",
      "\r\n",
      "    # update du/dt\r\n",
      "    du[01] = xdot\r\n",
      "    du[02] = xembdot\r\n",
      "    du[03] = sdot\r\n",
      "    du[04] = hdot\r\n",
      "    du[05] = rdot\r\n",
      "end\r\n",
      "\r\n",
      "\r\n",
      "\r\n"
     ]
    }
   ],
   "source": [
    "less(DEBBase.Ddot!)"
   ]
  },
  {
   "cell_type": "code",
   "execution_count": 30,
   "metadata": {},
   "outputs": [],
   "source": [
    "function DEBBase.Ddot!()\n",
    "\n",
    "end"
   ]
  },
  {
   "cell_type": "code",
   "execution_count": 45,
   "metadata": {},
   "outputs": [
    {
     "ename": "MethodError",
     "evalue": "MethodError: no method matching DEBBaseParams()",
     "output_type": "error",
     "traceback": [
      "MethodError: no method matching DEBBaseParams()\n",
      "\n",
      "Stacktrace:\n",
      " [1] top-level scope\n",
      "   @ c:\\Users\\simon\\Documents\\Julia\\DEBBase.jl\\notebooks\\ImplementationVerification\\ImplemenationVerification_20231222_TK.ipynb:1"
     ]
    }
   ],
   "source": [
    "less(DEBBaseParams())"
   ]
  },
  {
   "cell_type": "code",
   "execution_count": 47,
   "metadata": {},
   "outputs": [
    {
     "data": {
      "text/plain": [
       "2-element Vector{DataType}:\n",
       " Float64\n",
       " Int64"
      ]
     },
     "metadata": {},
     "output_type": "display_data"
    }
   ],
   "source": [
    "[Float64, Int64]"
   ]
  },
  {
   "cell_type": "code",
   "execution_count": 75,
   "metadata": {},
   "outputs": [
    {
     "data": {
      "text/plain": [
       "4-element Vector{Any}:\n",
       " 0.33\n",
       " 2.0\n",
       " 3.0\n",
       "  [4.0, 5.0, 314.0]"
      ]
     },
     "metadata": {},
     "output_type": "display_data"
    }
   ],
   "source": [
    "statevars = [:X_p, :X_emb, :S, :C_W]\n",
    "sttypes = [Float64, Float64, Float64, Vector{Float64}]\n",
    "u = [0.33, 2., 3., [4., 5., 314.]]"
   ]
  },
  {
   "cell_type": "code",
   "execution_count": 79,
   "metadata": {},
   "outputs": [],
   "source": [
    "using DEBBase"
   ]
  },
  {
   "cell_type": "code",
   "execution_count": 81,
   "metadata": {},
   "outputs": [
    {
     "ename": "LoadError",
     "evalue": "LoadError: MethodError: no method matching var\"@unpack\"(::LineNumberNode, ::Module)\n\nClosest candidates are:\n  var\"@unpack\"(::LineNumberNode, ::Module, !Matched::Any)\n   @ UnPack C:\\Users\\simon\\.julia\\packages\\UnPack\\EkESO\\src\\UnPack.jl:92\n\nin expression starting at c:\\Users\\simon\\Documents\\Julia\\DEBBase.jl\\notebooks\\ImplementationVerification\\ImplemenationVerification_20231222_TK.ipynb:1",
     "output_type": "error",
     "traceback": [
      "LoadError: MethodError: no method matching var\"@unpack\"(::LineNumberNode, ::Module)\n",
      "\n",
      "Closest candidates are:\n",
      "  var\"@unpack\"(::LineNumberNode, ::Module, !Matched::Any)\n",
      "   @ UnPack C:\\Users\\simon\\.julia\\packages\\UnPack\\EkESO\\src\\UnPack.jl:92\n",
      "\n",
      "in expression starting at c:\\Users\\simon\\Documents\\Julia\\DEBBase.jl\\notebooks\\ImplementationVerification\\ImplemenationVerification_20231222_TK.ipynb:1\n",
      "\n",
      "Stacktrace:\n",
      "  [1] eval\n",
      "    @ .\\boot.jl:370 [inlined]\n",
      "  [2] include_string(mapexpr::typeof(REPL.softscope), mod::Module, code::String, filename::String)\n",
      "    @ Base .\\loading.jl:1903\n",
      "  [3] #invokelatest#2\n",
      "    @ .\\essentials.jl:819 [inlined]\n",
      "  [4] invokelatest\n",
      "    @ .\\essentials.jl:816 [inlined]\n",
      "  [5] (::VSCodeServer.var\"#208#209\"{VSCodeServer.NotebookRunCellArguments, String})()\n",
      "    @ VSCodeServer c:\\Users\\simon\\.vscode\\extensions\\julialang.language-julia-1.65.2\\scripts\\packages\\VSCodeServer\\src\\serve_notebook.jl:19\n",
      "  [6] withpath(f::VSCodeServer.var\"#208#209\"{VSCodeServer.NotebookRunCellArguments, String}, path::String)\n",
      "    @ VSCodeServer c:\\Users\\simon\\.vscode\\extensions\\julialang.language-julia-1.65.2\\scripts\\packages\\VSCodeServer\\src\\repl.jl:274\n",
      "  [7] notebook_runcell_request(conn::VSCodeServer.JSONRPC.JSONRPCEndpoint{Base.PipeEndpoint, Base.PipeEndpoint}, params::VSCodeServer.NotebookRunCellArguments)\n",
      "    @ VSCodeServer c:\\Users\\simon\\.vscode\\extensions\\julialang.language-julia-1.65.2\\scripts\\packages\\VSCodeServer\\src\\serve_notebook.jl:13\n",
      "  [8] dispatch_msg(x::VSCodeServer.JSONRPC.JSONRPCEndpoint{Base.PipeEndpoint, Base.PipeEndpoint}, dispatcher::VSCodeServer.JSONRPC.MsgDispatcher, msg::Dict{String, Any})\n",
      "    @ VSCodeServer.JSONRPC c:\\Users\\simon\\.vscode\\extensions\\julialang.language-julia-1.65.2\\scripts\\packages\\JSONRPC\\src\\typed.jl:67\n",
      "  [9] serve_notebook(pipename::String, outputchannel_logger::Base.CoreLogging.SimpleLogger; crashreporting_pipename::String)\n",
      "    @ VSCodeServer c:\\Users\\simon\\.vscode\\extensions\\julialang.language-julia-1.65.2\\scripts\\packages\\VSCodeServer\\src\\serve_notebook.jl:139\n",
      " [10] top-level scope\n",
      "    @ c:\\Users\\simon\\.vscode\\extensions\\julialang.language-julia-1.65.2\\scripts\\notebook\\notebook.jl:32"
     ]
    }
   ],
   "source": [
    "DEBBase.@unpack u "
   ]
  },
  {
   "cell_type": "code",
   "execution_count": 77,
   "metadata": {},
   "outputs": [],
   "source": [
    "@unpack u"
   ]
  },
  {
   "cell_type": "code",
   "execution_count": 78,
   "metadata": {},
   "outputs": [
    {
     "data": {
      "text/plain": [
       "3-element Vector{Float64}:\n",
       "   4.0\n",
       "   5.0\n",
       " 314.0"
      ]
     },
     "metadata": {},
     "output_type": "display_data"
    }
   ],
   "source": [
    "C_W"
   ]
  },
  {
   "cell_type": "code",
   "execution_count": null,
   "metadata": {},
   "outputs": [],
   "source": []
  },
  {
   "cell_type": "code",
   "execution_count": 41,
   "metadata": {},
   "outputs": [
    {
     "ename": "MethodError",
     "evalue": "MethodError: no method matching DEBBaseParams()",
     "output_type": "error",
     "traceback": [
      "MethodError: no method matching DEBBaseParams()\n",
      "\n",
      "Stacktrace:\n",
      " [1] top-level scope\n",
      "   @ c:\\Users\\simon\\Documents\\Julia\\DEBBase.jl\\notebooks\\ImplementationVerification\\ImplemenationVerification_20231222_TK.ipynb:1"
     ]
    }
   ],
   "source": [
    "less(DEBBaseParams())"
   ]
  }
 ],
 "metadata": {
  "kernelspec": {
   "display_name": "Julia 1.9.3",
   "language": "julia",
   "name": "julia-1.9"
  },
  "language_info": {
   "file_extension": ".jl",
   "mimetype": "application/julia",
   "name": "julia",
   "version": "1.9.3"
  }
 },
 "nbformat": 4,
 "nbformat_minor": 2
}
