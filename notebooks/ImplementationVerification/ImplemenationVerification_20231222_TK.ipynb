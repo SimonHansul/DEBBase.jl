{
 "cells": [
  {
   "cell_type": "markdown",
   "metadata": {},
   "source": [
    "# Implementation verification: Toxicokinetics"
   ]
  },
  {
   "cell_type": "code",
   "execution_count": 2,
   "metadata": {},
   "outputs": [
    {
     "name": "stderr",
     "output_type": "stream",
     "text": [
      "\u001b[32m\u001b[1m   Resolving\u001b[22m\u001b[39m package versions...\n"
     ]
    },
    {
     "name": "stderr",
     "output_type": "stream",
     "text": [
      "\u001b[32m\u001b[1m    Updating\u001b[22m\u001b[39m `C:\\Users\\simon\\Documents\\Julia\\DEBBase.jl\\Project.toml`\n",
      "  \u001b[90m[6e4b80f9] \u001b[39m\u001b[92m+ BenchmarkTools v1.4.0\u001b[39m\n",
      "\u001b[32m\u001b[1m    Updating\u001b[22m\u001b[39m `C:\\Users\\simon\\Documents\\Julia\\DEBBase.jl\\Manifest.toml`"
     ]
    },
    {
     "name": "stderr",
     "output_type": "stream",
     "text": [
      "\n",
      "  \u001b[90m[6e4b80f9] \u001b[39m\u001b[92m+ BenchmarkTools v1.4.0\u001b[39m\n",
      "  \u001b[90m[9abbd945] \u001b[39m"
     ]
    },
    {
     "name": "stderr",
     "output_type": "stream",
     "text": [
      "\u001b[92m+ Profile\u001b[39m\n"
     ]
    }
   ],
   "source": [
    "using Pkg; Pkg.add(\"BenchmarkTools\")"
   ]
  },
  {
   "cell_type": "code",
   "execution_count": 28,
   "metadata": {},
   "outputs": [
    {
     "name": "stdout",
     "output_type": "stream",
     "text": [
      "  0.003242 seconds (456 allocations: 30.617 KiB)"
     ]
    },
    {
     "name": "stdout",
     "output_type": "stream",
     "text": [
      "\n"
     ]
    }
   ],
   "source": [
    "using Revise\n",
    "@time using DEBBase\n",
    "using Plots, Plots.Measures, StatsPlots\n",
    "using DataFrames\n",
    "using BenchmarkTools"
   ]
  },
  {
   "cell_type": "code",
   "execution_count": 18,
   "metadata": {},
   "outputs": [
    {
     "data": {
      "text/plain": [
       "11-element Vector{Float64}:\n",
       "  1.0\n",
       "  1.0\n",
       "  1.0\n",
       "  1.0\n",
       "  1.0\n",
       " 33.0\n",
       "  2.0\n",
       " 14.0\n",
       "  0.0\n",
       "  0.0\n",
       "  1.0"
      ]
     },
     "metadata": {},
     "output_type": "display_data"
    }
   ],
   "source": [
    "X_p = 1.\n",
    "X_emb = 1.\n",
    "S = 1.\n",
    "H = 1.\n",
    "R = 1.\n",
    "C_W_1 = 33.\n",
    "C_W_2 = 2.\n",
    "C_W_3 = 14.\n",
    "D_1 = 0.\n",
    "D_2 = 0.\n",
    "D_3 = 1.\n",
    "u = [\n",
    "    X_p,\n",
    "    X_emb, \n",
    "    S,\n",
    "    H,\n",
    "    R,\n",
    "    C_W_1,\n",
    "    C_W_2, \n",
    "    C_W_3, \n",
    "    D_1,\n",
    "    D_2,\n",
    "    D_3\n",
    "]"
   ]
  },
  {
   "cell_type": "code",
   "execution_count": 25,
   "metadata": {},
   "outputs": [
    {
     "data": {
      "text/plain": [
       "3-element Vector{Float64}:\n",
       " 0.0\n",
       " 0.0\n",
       " 1.0"
      ]
     },
     "metadata": {},
     "output_type": "display_data"
    }
   ],
   "source": [
    "C_W = u[6:Int(5+(length(u)-5)/2)]\n",
    "D_W = u[Int(6+length(C_W)):end]"
   ]
  },
  {
   "cell_type": "code",
   "execution_count": 22,
   "metadata": {},
   "outputs": [
    {
     "data": {
      "text/plain": [
       "3.0"
      ]
     },
     "metadata": {},
     "output_type": "display_data"
    }
   ],
   "source": [
    "(length(u)-5)/2"
   ]
  },
  {
   "cell_type": "code",
   "execution_count": 17,
   "metadata": {},
   "outputs": [
    {
     "data": {
      "text/plain": [
       "([33.0, 2.0], [0.0, 0.0])"
      ]
     },
     "metadata": {},
     "output_type": "display_data"
    }
   ],
   "source": [
    "X_p, X_emb, S, H, R = u\n",
    "num_remaining = length(u)-5\n",
    "num_stressors = num_remaining / 2\n",
    "C_W = u[6:Int(6+(num_stressors-1))]\n",
    "D = u[Int(6+num_stressors):end]\n",
    "C_W, D"
   ]
  },
  {
   "cell_type": "markdown",
   "metadata": {},
   "source": [
    "## Simulating TK for a single stressor"
   ]
  },
  {
   "cell_type": "code",
   "execution_count": null,
   "metadata": {},
   "outputs": [],
   "source": []
  },
  {
   "cell_type": "markdown",
   "metadata": {},
   "source": [
    "## Varying the number of stressors"
   ]
  },
  {
   "cell_type": "code",
   "execution_count": null,
   "metadata": {},
   "outputs": [],
   "source": []
  },
  {
   "cell_type": "markdown",
   "metadata": {},
   "source": [
    "## Varying coupled TK parameter"
   ]
  },
  {
   "cell_type": "code",
   "execution_count": null,
   "metadata": {},
   "outputs": [],
   "source": []
  },
  {
   "cell_type": "markdown",
   "metadata": {},
   "source": [
    "## Uncoupling the TK parameter"
   ]
  },
  {
   "cell_type": "code",
   "execution_count": null,
   "metadata": {},
   "outputs": [],
   "source": []
  },
  {
   "cell_type": "markdown",
   "metadata": {},
   "source": [
    "## Modifying the model: Simplified TK"
   ]
  },
  {
   "cell_type": "markdown",
   "metadata": {},
   "source": [
    "We start by having a look at the predefined TK function:"
   ]
  },
  {
   "cell_type": "code",
   "execution_count": 39,
   "metadata": {},
   "outputs": [
    {
     "name": "stdout",
     "output_type": "stream",
     "text": [
      "function Ddot!(\r\n",
      "    deb::AbstractParams,\r\n",
      "    z::Int64; \r\n",
      "    C_W::Float64, \r\n",
      "    D::Float64, \r\n",
      "    S::Float64, \r\n",
      "    Sdot::Float64, \r\n",
      "    S_max::Float64\r\n",
      "    )\r\n",
      "    # surface area / volume ratio\r\n",
      "    let AV_ratio = S^(2/3) / S, AV_max_ratio = S_max^(2/3) / S_max\r\n",
      "        # TK with account for body size: smaller A/V ration = higher elimination rate, diluation by growth\r\n",
      "        return deb.k_D[z] * (AV_max_ratio / AV_ratio) * (C_W[z] - D[z]) - D[z] * (Sdot/S)\r\n",
      "    end\r\n",
      "end\r\n",
      "\r\n",
      "\"\"\"\r\n",
      "Definition of reserveless DEB derivatives. \r\n",
      "$(TYPEDSIGNATURES)\r\n",
      "\"\"\"\r\n",
      "function DEB!(du, u, p, t)\r\n",
      "    glb, deb = p\r\n",
      "    # unpack scalar state variables\r\n",
      "    X_p, X_emb, S, H, R = u\r\n",
      "\r\n",
      "    C_W = u[glb.num_scalar_statevars+1:Int(glb.num_scalar_statevars+(length(u)-glb.num_scalar_statevars)/glb.num_vector_statevars)]\r\n",
      "    D = u[Int(glb:num_scalar_statevars+1+length(C_W)):end]\r\n",
      "\r\n",
      "    S = max(0, S) # control for negative values\r\n",
      "\r\n",
      "    life_stage = determine_life_stage(deb; H = H, X_emb = X_emb)\r\n",
      "    \r\n",
      "    ddot \r\n",
      "    for (z,C_Wz) in enumerate(C_W)\r\n",
      "        ddot\r\n",
      "    end\r\n",
      "\r\n",
      "    idot = Idot(glb, deb; X_p = X_p, life_stage = life_stage, S = S)\r\n",
      "    xdot = embryo(life_stage) ? 0. : glb.Xdot_in - idot\r\n",
      "    xembdot = embryo(life_stage) ? -idot : 0.0\r\n",
      "    adot = Adot(deb; Idot = idot, )\r\n",
      "    mdot = Mdot(deb; S = S)\r\n",
      "    jdot = Jdot(deb; H = H)\r\n",
      "    sdot = Sdot(deb; Adot = adot, Mdot = mdot) \r\n",
      "    hdot = Hdot(deb; Adot = adot, Jdot = jdot, adult = adult(life_stage))\r\n",
      "    rdot = Rdot(deb; Adot = adot, Jdot = jdot, adult = adult(life_stage))\r\n",
      "\r\n",
      "    # update du/dt\r\n",
      "    du[01] = xdot\r\n",
      "    du[02] = xembdot\r\n",
      "    du[03] = sdot\r\n",
      "    du[04] = hdot\r\n",
      "    du[05] = rdot\r\n",
      "end\r\n",
      "\r\n",
      "\r\n",
      "\r\n"
     ]
    }
   ],
   "source": [
    "less(DEBBase.Ddot!)"
   ]
  },
  {
   "cell_type": "code",
   "execution_count": 30,
   "metadata": {},
   "outputs": [],
   "source": [
    "function DEBBase.Ddot!()\n",
    "\n",
    "end"
   ]
  },
  {
   "cell_type": "code",
   "execution_count": 45,
   "metadata": {},
   "outputs": [
    {
     "ename": "MethodError",
     "evalue": "MethodError: no method matching DEBBaseParams()",
     "output_type": "error",
     "traceback": [
      "MethodError: no method matching DEBBaseParams()\n",
      "\n",
      "Stacktrace:\n",
      " [1] top-level scope\n",
      "   @ c:\\Users\\simon\\Documents\\Julia\\DEBBase.jl\\notebooks\\ImplementationVerification\\ImplemenationVerification_20231222_TK.ipynb:1"
     ]
    }
   ],
   "source": [
    "less(DEBBaseParams())"
   ]
  },
  {
   "cell_type": "code",
   "execution_count": 47,
   "metadata": {},
   "outputs": [
    {
     "data": {
      "text/plain": [
       "2-element Vector{DataType}:\n",
       " Float64\n",
       " Int64"
      ]
     },
     "metadata": {},
     "output_type": "display_data"
    }
   ],
   "source": [
    "[Float64, Int64]"
   ]
  },
  {
   "cell_type": "code",
   "execution_count": 75,
   "metadata": {},
   "outputs": [
    {
     "data": {
      "text/plain": [
       "4-element Vector{Any}:\n",
       " 0.33\n",
       " 2.0\n",
       " 3.0\n",
       "  [4.0, 5.0, 314.0]"
      ]
     },
     "metadata": {},
     "output_type": "display_data"
    }
   ],
   "source": [
    "statevars = [:X_p, :X_emb, :S, :C_W]\n",
    "sttypes = [Float64, Float64, Float64, Vector{Float64}]\n",
    "u = [0.33, 2., 3., [4., 5., 314.]]"
   ]
  },
  {
   "cell_type": "code",
   "execution_count": 79,
   "metadata": {},
   "outputs": [],
   "source": [
    "using DEBBase"
   ]
  },
  {
   "cell_type": "code",
   "execution_count": 81,
   "metadata": {},
   "outputs": [
    {
     "ename": "LoadError",
     "evalue": "LoadError: MethodError: no method matching var\"@unpack\"(::LineNumberNode, ::Module)\n\nClosest candidates are:\n  var\"@unpack\"(::LineNumberNode, ::Module, !Matched::Any)\n   @ UnPack C:\\Users\\simon\\.julia\\packages\\UnPack\\EkESO\\src\\UnPack.jl:92\n\nin expression starting at c:\\Users\\simon\\Documents\\Julia\\DEBBase.jl\\notebooks\\ImplementationVerification\\ImplemenationVerification_20231222_TK.ipynb:1",
     "output_type": "error",
     "traceback": [
      "LoadError: MethodError: no method matching var\"@unpack\"(::LineNumberNode, ::Module)\n",
      "\n",
      "Closest candidates are:\n",
      "  var\"@unpack\"(::LineNumberNode, ::Module, !Matched::Any)\n",
      "   @ UnPack C:\\Users\\simon\\.julia\\packages\\UnPack\\EkESO\\src\\UnPack.jl:92\n",
      "\n",
      "in expression starting at c:\\Users\\simon\\Documents\\Julia\\DEBBase.jl\\notebooks\\ImplementationVerification\\ImplemenationVerification_20231222_TK.ipynb:1\n",
      "\n",
      "Stacktrace:\n",
      "  [1] eval\n",
      "    @ .\\boot.jl:370 [inlined]\n",
      "  [2] include_string(mapexpr::typeof(REPL.softscope), mod::Module, code::String, filename::String)\n",
      "    @ Base .\\loading.jl:1903\n",
      "  [3] #invokelatest#2\n",
      "    @ .\\essentials.jl:819 [inlined]\n",
      "  [4] invokelatest\n",
      "    @ .\\essentials.jl:816 [inlined]\n",
      "  [5] (::VSCodeServer.var\"#208#209\"{VSCodeServer.NotebookRunCellArguments, String})()\n",
      "    @ VSCodeServer c:\\Users\\simon\\.vscode\\extensions\\julialang.language-julia-1.65.2\\scripts\\packages\\VSCodeServer\\src\\serve_notebook.jl:19\n",
      "  [6] withpath(f::VSCodeServer.var\"#208#209\"{VSCodeServer.NotebookRunCellArguments, String}, path::String)\n",
      "    @ VSCodeServer c:\\Users\\simon\\.vscode\\extensions\\julialang.language-julia-1.65.2\\scripts\\packages\\VSCodeServer\\src\\repl.jl:274\n",
      "  [7] notebook_runcell_request(conn::VSCodeServer.JSONRPC.JSONRPCEndpoint{Base.PipeEndpoint, Base.PipeEndpoint}, params::VSCodeServer.NotebookRunCellArguments)\n",
      "    @ VSCodeServer c:\\Users\\simon\\.vscode\\extensions\\julialang.language-julia-1.65.2\\scripts\\packages\\VSCodeServer\\src\\serve_notebook.jl:13\n",
      "  [8] dispatch_msg(x::VSCodeServer.JSONRPC.JSONRPCEndpoint{Base.PipeEndpoint, Base.PipeEndpoint}, dispatcher::VSCodeServer.JSONRPC.MsgDispatcher, msg::Dict{String, Any})\n",
      "    @ VSCodeServer.JSONRPC c:\\Users\\simon\\.vscode\\extensions\\julialang.language-julia-1.65.2\\scripts\\packages\\JSONRPC\\src\\typed.jl:67\n",
      "  [9] serve_notebook(pipename::String, outputchannel_logger::Base.CoreLogging.SimpleLogger; crashreporting_pipename::String)\n",
      "    @ VSCodeServer c:\\Users\\simon\\.vscode\\extensions\\julialang.language-julia-1.65.2\\scripts\\packages\\VSCodeServer\\src\\serve_notebook.jl:139\n",
      " [10] top-level scope\n",
      "    @ c:\\Users\\simon\\.vscode\\extensions\\julialang.language-julia-1.65.2\\scripts\\notebook\\notebook.jl:32"
     ]
    }
   ],
   "source": [
    "DEBBase.@unpack u "
   ]
  },
  {
   "cell_type": "code",
   "execution_count": 77,
   "metadata": {},
   "outputs": [],
   "source": [
    "@unpack u"
   ]
  },
  {
   "cell_type": "code",
   "execution_count": 78,
   "metadata": {},
   "outputs": [
    {
     "data": {
      "text/plain": [
       "3-element Vector{Float64}:\n",
       "   4.0\n",
       "   5.0\n",
       " 314.0"
      ]
     },
     "metadata": {},
     "output_type": "display_data"
    }
   ],
   "source": [
    "C_W"
   ]
  },
  {
   "cell_type": "code",
   "execution_count": null,
   "metadata": {},
   "outputs": [],
   "source": []
  },
  {
   "cell_type": "code",
   "execution_count": 41,
   "metadata": {},
   "outputs": [
    {
     "ename": "MethodError",
     "evalue": "MethodError: no method matching DEBBaseParams()",
     "output_type": "error",
     "traceback": [
      "MethodError: no method matching DEBBaseParams()\n",
      "\n",
      "Stacktrace:\n",
      " [1] top-level scope\n",
      "   @ c:\\Users\\simon\\Documents\\Julia\\DEBBase.jl\\notebooks\\ImplementationVerification\\ImplemenationVerification_20231222_TK.ipynb:1"
     ]
    }
   ],
   "source": [
    "less(DEBBaseParams())"
   ]
  }
 ],
 "metadata": {
  "kernelspec": {
   "display_name": "Julia 1.9.3",
   "language": "julia",
   "name": "julia-1.9"
  },
  "language_info": {
   "file_extension": ".jl",
   "mimetype": "application/julia",
   "name": "julia",
   "version": "1.9.3"
  }
 },
 "nbformat": 4,
 "nbformat_minor": 2
}
