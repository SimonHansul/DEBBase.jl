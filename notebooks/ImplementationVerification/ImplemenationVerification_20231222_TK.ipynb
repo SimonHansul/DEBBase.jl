{
 "cells": [
  {
   "cell_type": "markdown",
   "metadata": {},
   "source": [
    "# Implementation verification: Toxicokinetics"
   ]
  },
  {
   "cell_type": "code",
   "execution_count": 22,
   "metadata": {},
   "outputs": [
    {
     "name": "stderr",
     "output_type": "stream",
     "text": [
      "\u001b[91m\u001b[1mERROR: \u001b[22m\u001b[39mLoadError: "
     ]
    },
    {
     "name": "stderr",
     "output_type": "stream",
     "text": [
      "SystemError: opening file \"c:\\\\Users\\\\simon\\\\Documents\\\\Julia\\\\DEBBase.jl\\\\src\\\\Macros.jl\": No such file or directory\n",
      "Stacktrace:\n",
      "  [1] \u001b[0m\u001b[1msystemerror\u001b[22m\u001b[0m\u001b[1m(\u001b[22m\u001b[90mp\u001b[39m::\u001b[0mString, \u001b[90merrno\u001b[39m::\u001b[0mInt32; \u001b[90mextrainfo\u001b[39m::\u001b[0mNothing\u001b[0m\u001b[1m)\u001b[22m\n",
      "\u001b[90m    @\u001b[39m \u001b[90mBase\u001b[39m \u001b[90m.\\\u001b[39m\u001b[90m\u001b[4merror.jl:176\u001b[24m\u001b[39m\n",
      "  [2] \u001b[0m\u001b[1m#systemerror#82\u001b[22m\n",
      "\u001b[90m    @\u001b[39m \u001b[90m.\\\u001b[39m\u001b[90m\u001b[4merror.jl:175\u001b[24m\u001b[39m\u001b[90m [inlined]\u001b[39m\n",
      "  [3] \u001b[0m\u001b[1msystemerror\u001b[22m\n",
      "\u001b[90m    @\u001b[39m \u001b[90m.\\\u001b[39m\u001b[90m\u001b[4merror.jl:175\u001b[24m\u001b[39m\u001b[90m [inlined]\u001b[39m\n",
      "  [4] \u001b[0m\u001b[1mopen\u001b[22m\u001b[0m\u001b[1m(\u001b[22m\u001b[90mfname\u001b[39m::\u001b[0mString; \u001b[90mlock\u001b[39m::\u001b[0mBool, \u001b[90mread\u001b[39m::\u001b[0mNothing, \u001b[90mwrite\u001b[39m::\u001b[0mNothing, \u001b[90mcreate\u001b[39m::\u001b[0mNothing, \u001b[90mtruncate\u001b[39m::\u001b[0mNothing, \u001b[90mappend\u001b[39m::\u001b[0mNothing\u001b[0m\u001b[1m)\u001b[22m\n",
      "\u001b[90m    @\u001b[39m \u001b[90mBase\u001b[39m \u001b[90m.\\\u001b[39m\u001b[90m\u001b[4miostream.jl:293\u001b[24m\u001b[39m\n",
      "  [5] \u001b[0m\u001b[1mopen\u001b[22m\n",
      "\u001b[90m    @\u001b[39m \u001b[90m.\\\u001b[39m\u001b[90m\u001b[4miostream.jl:275\u001b[24m\u001b[39m\u001b[90m [inlined]\u001b[39m\n",
      "  [6] \u001b[0m\u001b[1mopen\u001b[22m\u001b[0m\u001b[1m(\u001b[22m\u001b[90mf\u001b[39m::\u001b[0mBase.var\"#418#419\"\u001b[90m{String}\u001b[39m, \u001b[90margs\u001b[39m::\u001b[0mString; \u001b[90mkwargs\u001b[39m::\u001b[0mBase.Pairs\u001b[90m{Symbol, Union{}, Tuple{}, NamedTuple{(), Tuple{}}}\u001b[39m\u001b[0m\u001b[1m)\u001b[22m\n",
      "\u001b[90m    @\u001b[39m \u001b[90mBase\u001b[39m \u001b[90m.\\\u001b[39m\u001b[90m\u001b[4mio.jl:393\u001b[24m\u001b[39m\n",
      "  [7] \u001b[0m\u001b[1mopen\u001b[22m\n",
      "\u001b[90m    @\u001b[39m \u001b[90m.\\\u001b[39m\u001b[90m\u001b[4mio.jl:392\u001b[24m\u001b[39m\u001b[90m [inlined]\u001b[39m\n",
      "  [8] \u001b[0m\u001b[1mread\u001b[22m\n",
      "\u001b[90m    @\u001b[39m \u001b[90m.\\\u001b[39m\u001b[90m\u001b[4mio.jl:473\u001b[24m\u001b[39m\u001b[90m [inlined]\u001b[39m\n",
      "  [9] \u001b[0m\u001b[1m_include\u001b[22m\u001b[0m\u001b[1m(\u001b[22m\u001b[90mmapexpr\u001b[39m::\u001b[0mFunction, \u001b[90mmod\u001b[39m::\u001b[0mModule, \u001b[90m_path\u001b[39m::\u001b[0mString\u001b[0m\u001b[1m)\u001b[22m\n",
      "\u001b[90m    @\u001b[39m \u001b[90mBase\u001b[39m \u001b[90m.\\\u001b[39m\u001b[90m\u001b[4mloading.jl:1959\u001b[24m\u001b[39m\n",
      " [10] \u001b[0m\u001b[1minclude\u001b[22m\u001b[0m\u001b[1m(\u001b[22m\u001b[90mmod\u001b[39m::\u001b[0mModule, \u001b[90m_path\u001b[39m::\u001b[0mString\u001b[0m\u001b[1m)\u001b[22m\n",
      "\u001b[90m    @\u001b[39m \u001b[90mBase\u001b[39m \u001b[90m.\\\u001b[39m\u001b[90m\u001b[4mBase.jl:457\u001b[24m\u001b[39m\n",
      " [11] \u001b[0m\u001b[1minclude\u001b[22m\u001b[0m\u001b[1m(\u001b[22m\u001b[90mx\u001b[39m::\u001b[0mString\u001b[0m\u001b[1m)\u001b[22m\n",
      "\u001b[90m    @\u001b[39m \u001b[35mDEBBase\u001b[39m \u001b[90mc:\\Users\\simon\\Documents\\Julia\\DEBBase.jl\\src\\\u001b[39m\u001b[90m\u001b[4mDEBBase.jl:1\u001b[24m\u001b[39m\n",
      " [12] top-level scope\n",
      "\u001b[90m    @\u001b[39m \u001b[90mc:\\Users\\simon\\Documents\\Julia\\DEBBase.jl\\src\\\u001b[39m\u001b[90m\u001b[4mDEBBase.jl:12\u001b[24m\u001b[39m\n",
      " [13] \u001b[0m\u001b[1minclude\u001b[22m\n",
      "\u001b[90m    @\u001b[39m \u001b[90m.\\\u001b[39m\u001b[90m\u001b[4mBase.jl:457\u001b[24m\u001b[39m\u001b[90m [inlined]\u001b[39m\n",
      " [14] \u001b[0m\u001b[1minclude_package_for_output\u001b[22m\u001b[0m\u001b[1m(\u001b[22m\u001b[90mpkg\u001b[39m::\u001b[0mBase.PkgId, \u001b[90minput\u001b[39m::\u001b[0mString, \u001b[90mdepot_path\u001b[39m::\u001b[0mVector\u001b[90m{String}\u001b[39m, \u001b[90mdl_load_path\u001b[39m::\u001b[0mVector\u001b[90m{String}\u001b[39m, \u001b[90mload_path\u001b[39m::\u001b[0mVector\u001b[90m{String}\u001b[39m, \u001b[90mconcrete_deps\u001b[39m::\u001b[0mVector\u001b[90m{Pair{Base.PkgId, UInt128}}\u001b[39m, \u001b[90msource\u001b[39m::\u001b[0mString\u001b[0m\u001b[1m)\u001b[22m\n",
      "\u001b[90m    @\u001b[39m \u001b[90mBase\u001b[39m \u001b[90m.\\\u001b[39m\u001b[90m\u001b[4mloading.jl:2049\u001b[24m\u001b[39m\n",
      " [15] top-level scope\n",
      "\u001b[90m    @\u001b[39m \u001b[90m\u001b[4mstdin:3\u001b[24m\u001b[39m\n",
      "in expression starting at c:\\Users\\simon\\Documents\\Julia\\DEBBase.jl\\src\\DEBBase.jl:1\n",
      "in expression starting at stdin:3\n"
     ]
    },
    {
     "ename": "ErrorException",
     "evalue": "Failed to precompile DEBBase [0e91d03b-6562-4ef9-a38e-775ced00eaf8] to \"C:\\\\Users\\\\simon\\\\.julia\\\\compiled\\\\v1.9\\\\DEBBase\\\\jl_B95B.tmp\".",
     "output_type": "error",
     "traceback": [
      "Failed to precompile DEBBase [0e91d03b-6562-4ef9-a38e-775ced00eaf8] to \"C:\\\\Users\\\\simon\\\\.julia\\\\compiled\\\\v1.9\\\\DEBBase\\\\jl_B95B.tmp\".\n",
      "\n",
      "Stacktrace:\n",
      "  [1] error(s::String)\n",
      "    @ Base .\\error.jl:35\n",
      "  [2] compilecache(pkg::Base.PkgId, path::String, internal_stderr::IO, internal_stdout::IO, keep_loaded_modules::Bool)\n",
      "    @ Base .\\loading.jl:2300\n",
      "  [3] compilecache\n",
      "    @ .\\loading.jl:2167 [inlined]\n",
      "  [4] _require(pkg::Base.PkgId, env::String)\n",
      "    @ Base .\\loading.jl:1805\n",
      "  [5] _require_prelocked(uuidkey::Base.PkgId, env::String)\n",
      "    @ Base .\\loading.jl:1660\n",
      "  [6] macro expansion\n",
      "    @ .\\loading.jl:1648 [inlined]\n",
      "  [7] macro expansion\n",
      "    @ .\\lock.jl:267 [inlined]\n",
      "  [8] require(into::Module, mod::Symbol)\n",
      "    @ Base .\\loading.jl:1611\n",
      "  [9] top-level scope\n",
      "    @ .\\timing.jl:273 [inlined]\n",
      " [10] top-level scope\n",
      "    @ c:\\Users\\simon\\Documents\\Julia\\DEBBase.jl\\notebooks\\ImplementationVerification\\ImplemenationVerification_20231222_TK.ipynb:0"
     ]
    }
   ],
   "source": [
    "using Revise\n",
    "@time using DEBBase\n",
    "using Plots, Plots.Measures, StatsPlots\n",
    "using DataFrames\n",
    "using BenchmarkTools"
   ]
  },
  {
   "cell_type": "code",
   "execution_count": 7,
   "metadata": {},
   "outputs": [
    {
     "ename": "UndefVarError",
     "evalue": "UndefVarError: `GlobalBaseParams` not defined",
     "output_type": "error",
     "traceback": [
      "UndefVarError: `GlobalBaseParams` not defined\n",
      "\n",
      "Stacktrace:\n",
      " [1] top-level scope\n",
      "   @ c:\\Users\\simon\\Documents\\Julia\\DEBBase.jl\\notebooks\\ImplementationVerification\\ImplemenationVerification_20231222_TK.ipynb:1"
     ]
    }
   ],
   "source": [
    "glb = GlobalBaseParams()"
   ]
  },
  {
   "cell_type": "code",
   "execution_count": 15,
   "metadata": {},
   "outputs": [],
   "source": [
    "u = [1., [2., 3.]]\n",
    "statevars = [:X, :Y]\n",
    "sttypes = [Float64, Vector{Float64}]\n",
    "\n",
    "for (i, u_i) in enumerate(u)\n",
    "    eval(:($(statevars[i]) = $(sttypes[i])($(u_i))))\n",
    "end"
   ]
  },
  {
   "cell_type": "code",
   "execution_count": 16,
   "metadata": {},
   "outputs": [
    {
     "data": {
      "text/plain": [
       "2-element Vector{Float64}:\n",
       " 2.0\n",
       " 3.0"
      ]
     },
     "metadata": {},
     "output_type": "display_data"
    }
   ],
   "source": [
    "Y"
   ]
  },
  {
   "cell_type": "code",
   "execution_count": null,
   "metadata": {},
   "outputs": [],
   "source": []
  },
  {
   "cell_type": "markdown",
   "metadata": {},
   "source": [
    "## Simulating TK for a single stressor"
   ]
  },
  {
   "cell_type": "code",
   "execution_count": null,
   "metadata": {},
   "outputs": [],
   "source": []
  },
  {
   "cell_type": "markdown",
   "metadata": {},
   "source": [
    "## Varying the number of stressors"
   ]
  },
  {
   "cell_type": "code",
   "execution_count": null,
   "metadata": {},
   "outputs": [],
   "source": []
  },
  {
   "cell_type": "markdown",
   "metadata": {},
   "source": [
    "## Varying coupled TK parameter"
   ]
  },
  {
   "cell_type": "code",
   "execution_count": null,
   "metadata": {},
   "outputs": [],
   "source": []
  },
  {
   "cell_type": "markdown",
   "metadata": {},
   "source": [
    "## Uncoupling the TK parameter"
   ]
  },
  {
   "cell_type": "code",
   "execution_count": null,
   "metadata": {},
   "outputs": [],
   "source": []
  },
  {
   "cell_type": "markdown",
   "metadata": {},
   "source": [
    "## Modifying the model: Simplified TK"
   ]
  },
  {
   "cell_type": "markdown",
   "metadata": {},
   "source": [
    "We start by having a look at the predefined TK function:"
   ]
  },
  {
   "cell_type": "code",
   "execution_count": 39,
   "metadata": {},
   "outputs": [
    {
     "name": "stdout",
     "output_type": "stream",
     "text": [
      "function Ddot!(\r\n",
      "    deb::AbstractParams,\r\n",
      "    z::Int64; \r\n",
      "    C_W::Float64, \r\n",
      "    D::Float64, \r\n",
      "    S::Float64, \r\n",
      "    Sdot::Float64, \r\n",
      "    S_max::Float64\r\n",
      "    )\r\n",
      "    # surface area / volume ratio\r\n",
      "    let AV_ratio = S^(2/3) / S, AV_max_ratio = S_max^(2/3) / S_max\r\n",
      "        # TK with account for body size: smaller A/V ration = higher elimination rate, diluation by growth\r\n",
      "        return deb.k_D[z] * (AV_max_ratio / AV_ratio) * (C_W[z] - D[z]) - D[z] * (Sdot/S)\r\n",
      "    end\r\n",
      "end\r\n",
      "\r\n",
      "\"\"\"\r\n",
      "Definition of reserveless DEB derivatives. \r\n",
      "$(TYPEDSIGNATURES)\r\n",
      "\"\"\"\r\n",
      "function DEB!(du, u, p, t)\r\n",
      "    glb, deb = p\r\n",
      "    # unpack scalar state variables\r\n",
      "    X_p, X_emb, S, H, R = u\r\n",
      "\r\n",
      "    C_W = u[glb.num_scalar_statevars+1:Int(glb.num_scalar_statevars+(length(u)-glb.num_scalar_statevars)/glb.num_vector_statevars)]\r\n",
      "    D = u[Int(glb:num_scalar_statevars+1+length(C_W)):end]\r\n",
      "\r\n",
      "    S = max(0, S) # control for negative values\r\n",
      "\r\n",
      "    life_stage = determine_life_stage(deb; H = H, X_emb = X_emb)\r\n",
      "    \r\n",
      "    ddot \r\n",
      "    for (z,C_Wz) in enumerate(C_W)\r\n",
      "        ddot\r\n",
      "    end\r\n",
      "\r\n",
      "    idot = Idot(glb, deb; X_p = X_p, life_stage = life_stage, S = S)\r\n",
      "    xdot = embryo(life_stage) ? 0. : glb.Xdot_in - idot\r\n",
      "    xembdot = embryo(life_stage) ? -idot : 0.0\r\n",
      "    adot = Adot(deb; Idot = idot, )\r\n",
      "    mdot = Mdot(deb; S = S)\r\n",
      "    jdot = Jdot(deb; H = H)\r\n",
      "    sdot = Sdot(deb; Adot = adot, Mdot = mdot) \r\n",
      "    hdot = Hdot(deb; Adot = adot, Jdot = jdot, adult = adult(life_stage))\r\n",
      "    rdot = Rdot(deb; Adot = adot, Jdot = jdot, adult = adult(life_stage))\r\n",
      "\r\n",
      "    # update du/dt\r\n",
      "    du[01] = xdot\r\n",
      "    du[02] = xembdot\r\n",
      "    du[03] = sdot\r\n",
      "    du[04] = hdot\r\n",
      "    du[05] = rdot\r\n",
      "end\r\n",
      "\r\n",
      "\r\n",
      "\r\n"
     ]
    }
   ],
   "source": [
    "less(DEBBase.Ddot!)"
   ]
  },
  {
   "cell_type": "code",
   "execution_count": 30,
   "metadata": {},
   "outputs": [],
   "source": [
    "function DEBBase.Ddot!()\n",
    "\n",
    "end"
   ]
  },
  {
   "cell_type": "code",
   "execution_count": 45,
   "metadata": {},
   "outputs": [
    {
     "ename": "MethodError",
     "evalue": "MethodError: no method matching DEBBaseParams()",
     "output_type": "error",
     "traceback": [
      "MethodError: no method matching DEBBaseParams()\n",
      "\n",
      "Stacktrace:\n",
      " [1] top-level scope\n",
      "   @ c:\\Users\\simon\\Documents\\Julia\\DEBBase.jl\\notebooks\\ImplementationVerification\\ImplemenationVerification_20231222_TK.ipynb:1"
     ]
    }
   ],
   "source": [
    "less(DEBBaseParams())"
   ]
  },
  {
   "cell_type": "code",
   "execution_count": 47,
   "metadata": {},
   "outputs": [
    {
     "data": {
      "text/plain": [
       "2-element Vector{DataType}:\n",
       " Float64\n",
       " Int64"
      ]
     },
     "metadata": {},
     "output_type": "display_data"
    }
   ],
   "source": [
    "[Float64, Int64]"
   ]
  },
  {
   "cell_type": "code",
   "execution_count": 75,
   "metadata": {},
   "outputs": [
    {
     "data": {
      "text/plain": [
       "4-element Vector{Any}:\n",
       " 0.33\n",
       " 2.0\n",
       " 3.0\n",
       "  [4.0, 5.0, 314.0]"
      ]
     },
     "metadata": {},
     "output_type": "display_data"
    }
   ],
   "source": [
    "statevars = [:X_p, :X_emb, :S, :C_W]\n",
    "sttypes = [Float64, Float64, Float64, Vector{Float64}]\n",
    "u = [0.33, 2., 3., [4., 5., 314.]]"
   ]
  },
  {
   "cell_type": "code",
   "execution_count": 79,
   "metadata": {},
   "outputs": [],
   "source": [
    "using DEBBase"
   ]
  },
  {
   "cell_type": "code",
   "execution_count": 81,
   "metadata": {},
   "outputs": [
    {
     "ename": "LoadError",
     "evalue": "LoadError: MethodError: no method matching var\"@unpack\"(::LineNumberNode, ::Module)\n\nClosest candidates are:\n  var\"@unpack\"(::LineNumberNode, ::Module, !Matched::Any)\n   @ UnPack C:\\Users\\simon\\.julia\\packages\\UnPack\\EkESO\\src\\UnPack.jl:92\n\nin expression starting at c:\\Users\\simon\\Documents\\Julia\\DEBBase.jl\\notebooks\\ImplementationVerification\\ImplemenationVerification_20231222_TK.ipynb:1",
     "output_type": "error",
     "traceback": [
      "LoadError: MethodError: no method matching var\"@unpack\"(::LineNumberNode, ::Module)\n",
      "\n",
      "Closest candidates are:\n",
      "  var\"@unpack\"(::LineNumberNode, ::Module, !Matched::Any)\n",
      "   @ UnPack C:\\Users\\simon\\.julia\\packages\\UnPack\\EkESO\\src\\UnPack.jl:92\n",
      "\n",
      "in expression starting at c:\\Users\\simon\\Documents\\Julia\\DEBBase.jl\\notebooks\\ImplementationVerification\\ImplemenationVerification_20231222_TK.ipynb:1\n",
      "\n",
      "Stacktrace:\n",
      "  [1] eval\n",
      "    @ .\\boot.jl:370 [inlined]\n",
      "  [2] include_string(mapexpr::typeof(REPL.softscope), mod::Module, code::String, filename::String)\n",
      "    @ Base .\\loading.jl:1903\n",
      "  [3] #invokelatest#2\n",
      "    @ .\\essentials.jl:819 [inlined]\n",
      "  [4] invokelatest\n",
      "    @ .\\essentials.jl:816 [inlined]\n",
      "  [5] (::VSCodeServer.var\"#208#209\"{VSCodeServer.NotebookRunCellArguments, String})()\n",
      "    @ VSCodeServer c:\\Users\\simon\\.vscode\\extensions\\julialang.language-julia-1.65.2\\scripts\\packages\\VSCodeServer\\src\\serve_notebook.jl:19\n",
      "  [6] withpath(f::VSCodeServer.var\"#208#209\"{VSCodeServer.NotebookRunCellArguments, String}, path::String)\n",
      "    @ VSCodeServer c:\\Users\\simon\\.vscode\\extensions\\julialang.language-julia-1.65.2\\scripts\\packages\\VSCodeServer\\src\\repl.jl:274\n",
      "  [7] notebook_runcell_request(conn::VSCodeServer.JSONRPC.JSONRPCEndpoint{Base.PipeEndpoint, Base.PipeEndpoint}, params::VSCodeServer.NotebookRunCellArguments)\n",
      "    @ VSCodeServer c:\\Users\\simon\\.vscode\\extensions\\julialang.language-julia-1.65.2\\scripts\\packages\\VSCodeServer\\src\\serve_notebook.jl:13\n",
      "  [8] dispatch_msg(x::VSCodeServer.JSONRPC.JSONRPCEndpoint{Base.PipeEndpoint, Base.PipeEndpoint}, dispatcher::VSCodeServer.JSONRPC.MsgDispatcher, msg::Dict{String, Any})\n",
      "    @ VSCodeServer.JSONRPC c:\\Users\\simon\\.vscode\\extensions\\julialang.language-julia-1.65.2\\scripts\\packages\\JSONRPC\\src\\typed.jl:67\n",
      "  [9] serve_notebook(pipename::String, outputchannel_logger::Base.CoreLogging.SimpleLogger; crashreporting_pipename::String)\n",
      "    @ VSCodeServer c:\\Users\\simon\\.vscode\\extensions\\julialang.language-julia-1.65.2\\scripts\\packages\\VSCodeServer\\src\\serve_notebook.jl:139\n",
      " [10] top-level scope\n",
      "    @ c:\\Users\\simon\\.vscode\\extensions\\julialang.language-julia-1.65.2\\scripts\\notebook\\notebook.jl:32"
     ]
    }
   ],
   "source": [
    "DEBBase.@unpack u "
   ]
  },
  {
   "cell_type": "code",
   "execution_count": 77,
   "metadata": {},
   "outputs": [],
   "source": [
    "@unpack u"
   ]
  },
  {
   "cell_type": "code",
   "execution_count": 78,
   "metadata": {},
   "outputs": [
    {
     "data": {
      "text/plain": [
       "3-element Vector{Float64}:\n",
       "   4.0\n",
       "   5.0\n",
       " 314.0"
      ]
     },
     "metadata": {},
     "output_type": "display_data"
    }
   ],
   "source": [
    "C_W"
   ]
  },
  {
   "cell_type": "code",
   "execution_count": null,
   "metadata": {},
   "outputs": [],
   "source": []
  },
  {
   "cell_type": "code",
   "execution_count": 41,
   "metadata": {},
   "outputs": [
    {
     "ename": "MethodError",
     "evalue": "MethodError: no method matching DEBBaseParams()",
     "output_type": "error",
     "traceback": [
      "MethodError: no method matching DEBBaseParams()\n",
      "\n",
      "Stacktrace:\n",
      " [1] top-level scope\n",
      "   @ c:\\Users\\simon\\Documents\\Julia\\DEBBase.jl\\notebooks\\ImplementationVerification\\ImplemenationVerification_20231222_TK.ipynb:1"
     ]
    }
   ],
   "source": [
    "less(DEBBaseParams())"
   ]
  }
 ],
 "metadata": {
  "kernelspec": {
   "display_name": "Julia 1.9.3",
   "language": "julia",
   "name": "julia-1.9"
  },
  "language_info": {
   "file_extension": ".jl",
   "mimetype": "application/julia",
   "name": "julia",
   "version": "1.9.3"
  }
 },
 "nbformat": 4,
 "nbformat_minor": 2
}
