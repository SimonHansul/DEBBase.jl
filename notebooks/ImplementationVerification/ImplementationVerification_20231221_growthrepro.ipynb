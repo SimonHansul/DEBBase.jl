{
 "cells": [
  {
   "cell_type": "code",
   "execution_count": 8,
   "metadata": {},
   "outputs": [],
   "source": [
    "using Revise\n",
    "using Plots, StatsPlots\n",
    "default(titlefontsize = 10, lw = 1.5)"
   ]
  },
  {
   "cell_type": "markdown",
   "metadata": {},
   "source": [
    "## Effect of nutrient input on growth and reproduction"
   ]
  },
  {
   "cell_type": "code",
   "execution_count": 28,
   "metadata": {},
   "outputs": [
    {
     "data": {
      "text/plain": [
       "GlobalBaseParams\n",
       "  t_max: Float64 21.0\n",
       "  Xdot_in: Float64 1200.0\n",
       "  V_patch: Float64 0.05\n",
       "  C_W: Array{Float64}((2,)) [0.0, 0.0]\n",
       "  units: NamedTuple{(:time, :mass, :volume), Tuple{String, String, String}}\n"
      ]
     },
     "metadata": {},
     "output_type": "display_data"
    }
   ],
   "source": [
    "GlobalBaseParams()"
   ]
  }
 ],
 "metadata": {
  "kernelspec": {
   "display_name": "Julia 1.9.3",
   "language": "julia",
   "name": "julia-1.9"
  },
  "language_info": {
   "file_extension": ".jl",
   "mimetype": "application/julia",
   "name": "julia",
   "version": "1.9.3"
  }
 },
 "nbformat": 4,
 "nbformat_minor": 2
}
