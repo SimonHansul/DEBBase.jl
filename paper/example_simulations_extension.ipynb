{
 "cells": [
  {
   "cell_type": "markdown",
   "metadata": {},
   "source": [
    "# Example for building a model extension\n",
    "\n",
    "Let's assume we want to use the DEBBase model and add some more detail in a specific part of the model. <br>\n",
    "One way to do this is to clone the DEBBase repository and start modifying the source code. <br>\n",
    "\n",
    "That is a valid way to approach things, but during the development process, we might however not always want to create a new repository whenever we test a slightly different model structure. <br>\n",
    "\n",
    "Also, it would be nice to automatically have a visual indication in the code that shows us which parts of the model have changed, or to directly have modifications documented in a notebook if we only wish to perform some *ad hoc* tests of different model structures. <br>\n",
    "\n",
    "This notebook demonstrates how to implement such *ad hoc* modifications without creating an entirely new implementation. There is nothing revolutionary about it and it is still a bit of coding work, but to have a notebook at the end of this process which documents the changes without the need of creating a heap of new files."
   ]
  },
  {
   "cell_type": "markdown",
   "metadata": {},
   "source": [
    "## Setup"
   ]
  },
  {
   "cell_type": "code",
   "execution_count": 52,
   "metadata": {},
   "outputs": [
    {
     "name": "stderr",
     "output_type": "stream",
     "text": [
      "\u001b[32m\u001b[1m  Activating\u001b[22m\u001b[39m project at `c:\\Users\\simon\\Documents\\Julia\\DEBBase.jl\\test`\n"
     ]
    }
   ],
   "source": [
    "using Pkg; Pkg.activate(\"../test\")"
   ]
  },
  {
   "cell_type": "code",
   "execution_count": 53,
   "metadata": {},
   "outputs": [],
   "source": [
    "using DEBBase.DEBODE\n",
    "using DEBBase.ParamStructs"
   ]
  },
  {
   "cell_type": "markdown",
   "metadata": {},
   "source": [
    "## Implementing the derivative function"
   ]
  },
  {
   "cell_type": "markdown",
   "metadata": {},
   "source": [
    "In our extended model, organisms change their energy allocation as food availability decreases (phenotypic plasticity). <br>\n",
    "Also, it is part of the ODE system, rather than the rule-based additions of the ABM. <br>\n",
    "\n",
    "To modify the ODE, the first step is to familiarize ourselves with the source file `derivatives.jl`. <br>\n",
    "\n",
    "Upon inspecting this file, we see that the core of the model is put together in the function `DEBODE_agent_IA!` (agent because these derivatives are applied for each agent at every timestep in the ABM, IA because the model assumes independent action for mixture effects)."
   ]
  },
  {
   "cell_type": "code",
   "execution_count": 54,
   "metadata": {},
   "outputs": [
    {
     "name": "stdout",
     "output_type": "stream",
     "text": [
      "@inline function DEBODE_agent_IA!(du, u, p, t)\n",
      "    \n",
      "    dD!(du, u, p, t) # change in damage\n",
      "    y_z_IA!(du, u, p, t) # response to chemical stressors\n",
      "    tempcorr!(du, u, p, t) # response to temperature\n",
      "    apply_stressors!(du, u, p, t) # apply all stressor / environmental effects to baseline parameters\n",
      "\n",
      "    #### auxiliary state variables (record cumulative values)\n",
      "    dI!(du, u, p, t)\n",
      "    dA!(du, u, p, t) \n",
      "    dM!(du, u, p, t) \n",
      "    dJ!(du, u, p, t)\n",
      "    #dQ!(du, u, p, t)# dissipation flux is currently not used - outcommented since this currently does memory allocations\n",
      "\n",
      "    #### major state variables\n",
      "    dS!(du, u, p, t) # structures\n",
      "    dS_max_hist!(du, u, p, t) # reference structure\n",
      "    dH!(du, u, p, t) # maturity \n",
      "    dH_b!(du, u, p, t) # estimate of maturity at birth\n",
      "    dR!(du, u, p, t) # reproduction buffer\n",
      "\n",
      "    return nothing\n",
      "end\n",
      "\n",
      "@inline function DEBODE_IA!(du, u, p, t)\n",
      "    DEBODE_global!(du, u, p, t)\n",
      "    DEBODE_agent_IA!(du, u, p, t)\n",
      "end\n"
     ]
    }
   ],
   "source": [
    "less(DEBODE.DEBODE_agent_IA!)"
   ]
  },
  {
   "cell_type": "markdown",
   "metadata": {},
   "source": [
    "Given the structure of this function, it makes sense to first define a small function that calculates the relative response in the resource allocation parameter $\\kappa$ as a function of the scaled relative response $f_X$."
   ]
  },
  {
   "cell_type": "code",
   "execution_count": 103,
   "metadata": {},
   "outputs": [
    {
     "data": {
      "text/plain": [
       "adaptive_plasticity! (generic function with 1 method)"
      ]
     },
     "metadata": {},
     "output_type": "display_data"
    }
   ],
   "source": [
    "function adaptive_plasticity!(du, u, p, t)::Nothing\n",
    "    # this is a very naive way to implement this...I don't recommend to actually use this relationship\n",
    "    u.y_adpt = min(1, -p.spc.slope_adpt + 1)\n",
    "    return nothing # the function only modifies u - no return value\n",
    "end"
   ]
  },
  {
   "cell_type": "markdown",
   "metadata": {},
   "source": [
    "The `apply_stressors!` function is a good place to perform this kind modification. <br>\n",
    "This is where baseline parameters are changed, and placing the effect of adaptive plasticity elsewhere could mean that we overwrite the effect of another stressor (would not be the case in this particular case, but it is a good idea to keep it in one place). <br>\n",
    "\n",
    "This is then our modified code for `apply_stressors!`."
   ]
  },
  {
   "cell_type": "code",
   "execution_count": 104,
   "metadata": {},
   "outputs": [
    {
     "data": {
      "text/plain": [
       "apply_stressors! (generic function with 1 method)"
      ]
     },
     "metadata": {},
     "output_type": "display_data"
    }
   ],
   "source": [
    "function apply_stressors!(du, u, p, t)::Nothing\n",
    "    u.eta_AS = p.spc.eta_AS_0 * u.y_G \n",
    "    u.k_M = p.spc.k_M_0 * u.y_M * u.y_T\n",
    "    u.k_J = p.spc.k_J_0 * u.y_M * u.y_T\n",
    "    u.eta_IA = p.spc.eta_IA_0 * u.y_A\n",
    "    u.eta_AR = p.spc.eta_AR_0 * u.y_R\n",
    "\n",
    "    u.Idot_max_rel_emb = p.agn.Idot_max_rel_emb_0 * u.y_T\n",
    "\n",
    "    u.kappa = p.spc.kappa_0 * u.y_adpt\n",
    "\n",
    "    return nothing\n",
    "end"
   ]
  },
  {
   "cell_type": "markdown",
   "metadata": {},
   "source": [
    "And the re-defined ODE system:"
   ]
  },
  {
   "cell_type": "code",
   "execution_count": 105,
   "metadata": {},
   "outputs": [
    {
     "data": {
      "text/plain": [
       "DEBODE_IA_adpt! (generic function with 1 method)"
      ]
     },
     "metadata": {},
     "output_type": "display_data"
    }
   ],
   "source": [
    "@inline function DEBODE_agent_IA_adpt!(du, u, p, t)\n",
    "    \n",
    "    DEBODE.dD!(du, u, p, t) # change in damage\n",
    "    DEBODE.y_z_IA!(du, u, p, t) # response to chemical stressors\n",
    "    DEBODE.tempcorr!(du, u, p, t) # response to temperature\n",
    "    Main.apply_stressors!(du, u, p, t) # apply all stressor / environmental effects to baseline parameters\n",
    "\n",
    "    #### auxiliary state variables (record cumulative values)\n",
    "    DEBODE.dI!(du, u, p, t)\n",
    "    DEBODE.dA!(du, u, p, t) \n",
    "    DEBODE.dM!(du, u, p, t) \n",
    "    DEBODE.dJ!(du, u, p, t)\n",
    "    #dQ!(du, u, p, t)# dissipation flux is currently not used - outcommented since this currently does memory allocations\n",
    "\n",
    "    #### major state variables\n",
    "    DEBODE.dS!(du, u, p, t) # structures\n",
    "    DEBODE.dS_max_hist!(du, u, p, t) # reference structure\n",
    "    DEBODE.dH!(du, u, p, t) # maturity \n",
    "    DEBODE.dH_b!(du, u, p, t) # estimate of maturity at birth\n",
    "    DEBODE.dR!(du, u, p, t) # reproduction buffer\n",
    "\n",
    "    return nothing\n",
    "end\n",
    "\n",
    "@inline function DEBODE_IA_adpt!(du, u, p, t)\n",
    "    DEBODE.DEBODE_global!(du, u, p, t)\n",
    "    DEBODE_agent_IA_adpt!(du, u, p, t)\n",
    "end\n"
   ]
  },
  {
   "cell_type": "markdown",
   "metadata": {},
   "source": [
    "Note the change in the source code compared to the original version: <br>\n",
    "We have a `DEBODE.` in front of every function that we have *not* changed, immediately giving us an indication of what *has* changed."
   ]
  },
  {
   "cell_type": "markdown",
   "metadata": {},
   "source": [
    "## Adding new state variables and parameters \n",
    "\n",
    "Running the model now would throw an error, because we have introduced two new parameters and one new state variable which have not been defined yet. <br>\n",
    "State variables in the ODE are given as `ComponentVector`. <br>\n",
    "Specifically, we have a function `initialize_agent_statevars` (the separation from `initialize_global_statevars` is needed for the ABM). <br>\n",
    "\n",
    "We can define a new function `initialize_agent_statevars_adpt` that concatenates our new state variable to those which are already defined."
   ]
  },
  {
   "cell_type": "code",
   "execution_count": 106,
   "metadata": {},
   "outputs": [
    {
     "data": {
      "text/plain": [
       "initialize_agent_statevars_adpt (generic function with 1 method)"
      ]
     },
     "metadata": {},
     "output_type": "display_data"
    }
   ],
   "source": [
    "function initialize_agent_statevars_adpt(p)\n",
    "    vcat(\n",
    "        DEBODE.initialize_agent_statevars(p),\n",
    "        ComponentVector(y_adpt = 1.)\n",
    "    )\n",
    "end"
   ]
  },
  {
   "cell_type": "markdown",
   "metadata": {},
   "source": [
    "For the parameters, things are bit more complicated, because the parameters are stored in `mutable struct`s and these are not as easily extensible (by design). <br>\n",
    "We have two obvious ways forward here: Either convert the parameters to a NamedTuple using NamedTupleTools,..."
   ]
  },
  {
   "cell_type": "code",
   "execution_count": 109,
   "metadata": {},
   "outputs": [
    {
     "data": {
      "text/plain": [
       "(N0 = 1, t_max = 21.0, Xdot_in = 1200.0, k_V = 0.0, V_patch = 0.05, C_W = [0.0], T = 293.15)"
      ]
     },
     "metadata": {},
     "output_type": "display_data"
    }
   ],
   "source": [
    "using NamedTupleTools\n",
    "\n",
    "spc = SpeciesParams() |> ntfromstruct\n",
    "spc_adpt = (;\n",
    "    spc...,\n",
    "    (\n",
    "        slope_adpt = 0.5,\n",
    "    )...\n",
    ")\n",
    "\n",
    "p_adpt = (\n",
    "    glb = GlobalParams() |> ntfromstruct,\n",
    ")"
   ]
  },
  {
   "cell_type": "code",
   "execution_count": null,
   "metadata": {},
   "outputs": [],
   "source": [
    "p = "
   ]
  },
  {
   "cell_type": "code",
   "execution_count": null,
   "metadata": {},
   "outputs": [],
   "source": [
    "@with_kw mutable struct SpeciesParams <: AbstractSpeciesParams\n",
    "    Z::Distribution = Dirac(1.) # agent variability is accounted for in the zoom factor. This can be set to a Dirac distribution if a zoom factor should be applied without introducing agent variability.\n",
    "    propagate_zoom::@NamedTuple{\n",
    "        Idot_max_rel_0, \n",
    "        Idot_max_rel_emb_0, \n",
    "        X_emb_int_0::Bool, \n",
    "        H_p_0::Bool, \n",
    "        # Parameters to which Z will be propagated\n",
    "        # individual_variability! will take care of appropriate scaling\n",
    "        K_X_0::Bool} = ( \n",
    "            Idot_max_rel_0 = true, \n",
    "            Idot_max_rel_emb_0 = true,\n",
    "            X_emb_int_0 = true,\n",
    "            H_p_0 = true, \n",
    "            K_X_0 = true\n",
    "        )         \n",
    "    T_A::Float64 = 8000. # Arrhenius temperature [K]\n",
    "    T_ref::Float64 = 293.15 # reference temperature [K]\n",
    "    X_emb_int_0::Float64 = 19.42 # initial vitellus [μgC]\n",
    "    K_X_0::Float64 = 10_000 # half-saturation constant for food uptake [μgC L-1]\n",
    "    Idot_max_rel_0::Float64 = 22.9 # maximum size-specific ingestion rate [μgC μgC^-(2/3) d-1]\n",
    "    Idot_max_rel_emb_0::Float64 = 22.9 # size-specific embryonic ingestion rate [μgC μgC^-(2/3) d-1]\n",
    "    kappa_0::Float64 = 0.539 # somatic allocation fraction [-]\n",
    "    eta_IA_0::Float64 = 0.33 # assimilation efficiency [-]\n",
    "    eta_AS_0::Float64 = 0.8 # growth efficiency [-]\n",
    "    eta_SA::Float64 = 0.8 # shrinking efficiency [-]\n",
    "    eta_AR_0::Float64 = 0.95 # reproduction efficiency [-]\n",
    "    k_M_0::Float64 = 0.59 # somatic maintenance rate constant [d^-1]\n",
    "    k_J_0::Float64 = 0.504 # maturity maintenance rate constant [d^-1]\n",
    "    H_p_0::Float64 = 100. # maturity at puberty [μgC]\n",
    "    \n",
    "    k_D_G::Vector{Float64} = [0.00] # toxicokinetic rate constants | PMoA growth efficiency\n",
    "    k_D_M::Vector{Float64} = [0.00] # toxicokinetic rate constants | PMoA maintenance costs\n",
    "    k_D_A::Vector{Float64} = [0.00] # toxicokinetic rate constants | PMoA assimilation efficiency\n",
    "    k_D_R::Vector{Float64} = [0.38] # toxicokinetic rate constants | PMoA reproduction efficiency\n",
    "    k_D_h::Vector{Float64} = [0.00] # toxicokinetic rate constants | PMoA hazard rate\n",
    "    \n",
    "    drc_functs_G::Vector{Function} = [LL2]  # dose-response functions | PMoA growth efficiency\n",
    "    drc_functs_M::Vector{Function} = [LL2M] # dose-response functions | PMoA maintenance costs\n",
    "    drc_functs_A::Vector{Function} = [LL2]  # dose-response functions | PMoA assimilation efficiency\n",
    "    drc_functs_R::Vector{Function} = [LL2]  # dose-response functions | PMoA reproduction efficiency\n",
    "    drc_functs_h::Vector{Function} = [LL2h] # dose-response functions | PMoA hazard rate\n",
    "\n",
    "    e_G::Union{Nothing,Vector{Float64}} = [1e10] # sensitivity parameters | PMoA growth efficiency\n",
    "    e_M::Union{Nothing,Vector{Float64}} = [1e10] # sensitivity parameters | PMoA maintenance costs\n",
    "    e_A::Union{Nothing,Vector{Float64}} = [1e10] # sensitivity parameters | PMoA assimilation efficiency\n",
    "    e_R::Union{Nothing,Vector{Float64}} = [167.] # sensitivity parameters | PMoA reproduction efficiency\n",
    "    e_h::Union{Nothing,Vector{Float64}} = [1e10] # sensitivity parameters | PMoA hazard rate\n",
    "\n",
    "    b_G::Union{Nothing,Vector{Float64}} = [1e10] # slope parameters | PMoA growth efficiency\n",
    "    b_M::Union{Nothing,Vector{Float64}} = [1e10] # slope parameters | PMoA maintenance costs\n",
    "    b_A::Union{Nothing,Vector{Float64}} = [1e10] # slope parameters | PMoA assimilation efficiency\n",
    "    b_R::Union{Nothing,Vector{Float64}} = [0.93] # slope parameters | PMoA reproduction efficiency\n",
    "    b_h::Union{Nothing,Vector{Float64}} = [1e10] # slope parameters | PMoA reproduction efficiency\n",
    "\n",
    "    # the following are parameters which are currently only relevant for the  ABM\n",
    "    \n",
    "    f_Xthr::Float64 = 0.5 # functional response threshold for starvation mortality\n",
    "    s_min::Float64 = 0.25 # daily survival mortality at complete food deprivation\n",
    "\n",
    "    a_max = Truncated(Normal(60, 6), 0, Inf) # maximum life span \n",
    "    tau_R = 2. # reproduction interval\n",
    "end"
   ]
  },
  {
   "cell_type": "code",
   "execution_count": null,
   "metadata": {},
   "outputs": [],
   "source": []
  },
  {
   "cell_type": "code",
   "execution_count": 72,
   "metadata": {},
   "outputs": [
    {
     "ename": "ErrorException",
     "evalue": "type NamedTuple has no field y_adpt",
     "output_type": "error",
     "traceback": [
      "type NamedTuple has no field y_adpt\n",
      "\n",
      "Stacktrace:\n",
      "  [1] getproperty\n",
      "    @ .\\Base.jl:37 [inlined]\n",
      "  [2] getindex(::ComponentArrays.Axis{(X_p = 1, C_W = 2:2, embryo = 3, juvenile = 4, adult = 5, X_emb = 6, S = 7, S_max_hist = 8, H = 9, H_b = 10, R = 11, f_X = 12, I_emb = 13, I_p = 14, I = 15, A = 16, M = 17, J = 18, Q = 19, X_emb_int = 20, Idot_max_rel = 21, Idot_max_rel_emb = 22, K_X = 23, eta_AS = 24, kappa = 25, k_M = 26, k_J = 27, eta_IA = 28, eta_AR = 29, H_p = 30, LSmax = 31, D_G = 32:32, D_M = 33:33, D_A = 34:34, D_R = 35:35, D_h = 36:36, y_G = 37, y_M = 38, y_A = 39, y_R = 40, y_T = 41, h_z = 42, h_fX = 43)}, s::Symbol)\n",
      "    @ ComponentArrays C:\\Users\\simon\\.julia\\packages\\ComponentArrays\\pROOT\\src\\axis.jl:157\n",
      "  [3] _broadcast_getindex_evalf\n",
      "    @ .\\broadcast.jl:709 [inlined]\n",
      "  [4] _broadcast_getindex\n",
      "    @ .\\broadcast.jl:682 [inlined]\n",
      "  [5] (::Base.Broadcast.var\"#31#32\"{Base.Broadcast.Broadcasted{Base.Broadcast.Style{Tuple}, Nothing, typeof(getindex), Tuple{Tuple{ComponentArrays.Axis{(X_p = 1, C_W = 2:2, embryo = 3, juvenile = 4, adult = 5, X_emb = 6, S = 7, S_max_hist = 8, H = 9, H_b = 10, R = 11, f_X = 12, I_emb = 13, I_p = 14, I = 15, A = 16, M = 17, J = 18, Q = 19, X_emb_int = 20, Idot_max_rel = 21, Idot_max_rel_emb = 22, K_X = 23, eta_AS = 24, kappa = 25, k_M = 26, k_J = 27, eta_IA = 28, eta_AR = 29, H_p = 30, LSmax = 31, D_G = 32:32, D_M = 33:33, D_A = 34:34, D_R = 35:35, D_h = 36:36, y_G = 37, y_M = 38, y_A = 39, y_R = 40, y_T = 41, h_z = 42, h_fX = 43)}}, Base.Broadcast.Broadcasted{Base.Broadcast.Style{Tuple}, Nothing, typeof(ComponentArrays.getval), Tuple{Tuple{DataType}}}}}})(k::Int64)\n",
      "    @ Base.Broadcast .\\broadcast.jl:1118\n",
      "  [6] ntuple\n",
      "    @ .\\ntuple.jl:48 [inlined]\n",
      "  [7] copy\n",
      "    @ .\\broadcast.jl:1118 [inlined]\n",
      "  [8] materialize(bc::Base.Broadcast.Broadcasted{Base.Broadcast.Style{Tuple}, Nothing, typeof(getindex), Tuple{Tuple{ComponentArrays.Axis{(X_p = 1, C_W = 2:2, embryo = 3, juvenile = 4, adult = 5, X_emb = 6, S = 7, S_max_hist = 8, H = 9, H_b = 10, R = 11, f_X = 12, I_emb = 13, I_p = 14, I = 15, A = 16, M = 17, J = 18, Q = 19, X_emb_int = 20, Idot_max_rel = 21, Idot_max_rel_emb = 22, K_X = 23, eta_AS = 24, kappa = 25, k_M = 26, k_J = 27, eta_IA = 28, eta_AR = 29, H_p = 30, LSmax = 31, D_G = 32:32, D_M = 33:33, D_A = 34:34, D_R = 35:35, D_h = 36:36, y_G = 37, y_M = 38, y_A = 39, y_R = 40, y_T = 41, h_z = 42, h_fX = 43)}}, Base.Broadcast.Broadcasted{Base.Broadcast.Style{Tuple}, Nothing, typeof(ComponentArrays.getval), Tuple{Tuple{DataType}}}}})\n",
      "    @ Base.Broadcast .\\broadcast.jl:903\n",
      "  [9] #s38#57\n",
      "    @ C:\\Users\\simon\\.julia\\packages\\ComponentArrays\\pROOT\\src\\array_interface.jl:120 [inlined]\n",
      " [10] var\"#s38#57\"(::Any, index_fun::Any, x::Any, idx::Any)\n",
      "    @ ComponentArrays .\\none:0\n",
      " [11] (::Core.GeneratedFunctionStub)(::UInt64, ::LineNumberNode, ::Any, ::Vararg{Any})\n",
      "    @ Core .\\boot.jl:602\n",
      " [12] getproperty\n",
      "    @ C:\\Users\\simon\\.julia\\packages\\ComponentArrays\\pROOT\\src\\namedtuple_interface.jl:14 [inlined]\n",
      " [13] apply_stressors!(du::ComponentArrays.ComponentVector{Float64, Vector{Float64}, Tuple{ComponentArrays.Axis{(X_p = 1, C_W = 2:2, embryo = 3, juvenile = 4, adult = 5, X_emb = 6, S = 7, S_max_hist = 8, H = 9, H_b = 10, R = 11, f_X = 12, I_emb = 13, I_p = 14, I = 15, A = 16, M = 17, J = 18, Q = 19, X_emb_int = 20, Idot_max_rel = 21, Idot_max_rel_emb = 22, K_X = 23, eta_AS = 24, kappa = 25, k_M = 26, k_J = 27, eta_IA = 28, eta_AR = 29, H_p = 30, LSmax = 31, D_G = 32:32, D_M = 33:33, D_A = 34:34, D_R = 35:35, D_h = 36:36, y_G = 37, y_M = 38, y_A = 39, y_R = 40, y_T = 41, h_z = 42, h_fX = 43)}}}, u::ComponentArrays.ComponentVector{Float64, Vector{Float64}, Tuple{ComponentArrays.Axis{(X_p = 1, C_W = 2:2, embryo = 3, juvenile = 4, adult = 5, X_emb = 6, S = 7, S_max_hist = 8, H = 9, H_b = 10, R = 11, f_X = 12, I_emb = 13, I_p = 14, I = 15, A = 16, M = 17, J = 18, Q = 19, X_emb_int = 20, Idot_max_rel = 21, Idot_max_rel_emb = 22, K_X = 23, eta_AS = 24, kappa = 25, k_M = 26, k_J = 27, eta_IA = 28, eta_AR = 29, H_p = 30, LSmax = 31, D_G = 32:32, D_M = 33:33, D_A = 34:34, D_R = 35:35, D_h = 36:36, y_G = 37, y_M = 38, y_A = 39, y_R = 40, y_T = 41, h_z = 42, h_fX = 43)}}}, p::Params, t::Float64)\n",
      "    @ Main c:\\Users\\simon\\Documents\\Julia\\DEBBase.jl\\paper\\jl_notebook_cell_df34fa98e69747e1a8f8a730347b8e2f_X22sZmlsZQ==.jl:10\n",
      " [14] DEBODE_agent_IA_adpt!\n",
      "    @ c:\\Users\\simon\\Documents\\Julia\\DEBBase.jl\\paper\\jl_notebook_cell_df34fa98e69747e1a8f8a730347b8e2f_X25sZmlsZQ==.jl:6 [inlined]\n",
      " [15] DEBODE_IA_adpt!(du::ComponentArrays.ComponentVector{Float64, Vector{Float64}, Tuple{ComponentArrays.Axis{(X_p = 1, C_W = 2:2, embryo = 3, juvenile = 4, adult = 5, X_emb = 6, S = 7, S_max_hist = 8, H = 9, H_b = 10, R = 11, f_X = 12, I_emb = 13, I_p = 14, I = 15, A = 16, M = 17, J = 18, Q = 19, X_emb_int = 20, Idot_max_rel = 21, Idot_max_rel_emb = 22, K_X = 23, eta_AS = 24, kappa = 25, k_M = 26, k_J = 27, eta_IA = 28, eta_AR = 29, H_p = 30, LSmax = 31, D_G = 32:32, D_M = 33:33, D_A = 34:34, D_R = 35:35, D_h = 36:36, y_G = 37, y_M = 38, y_A = 39, y_R = 40, y_T = 41, h_z = 42, h_fX = 43)}}}, u::ComponentArrays.ComponentVector{Float64, Vector{Float64}, Tuple{ComponentArrays.Axis{(X_p = 1, C_W = 2:2, embryo = 3, juvenile = 4, adult = 5, X_emb = 6, S = 7, S_max_hist = 8, H = 9, H_b = 10, R = 11, f_X = 12, I_emb = 13, I_p = 14, I = 15, A = 16, M = 17, J = 18, Q = 19, X_emb_int = 20, Idot_max_rel = 21, Idot_max_rel_emb = 22, K_X = 23, eta_AS = 24, kappa = 25, k_M = 26, k_J = 27, eta_IA = 28, eta_AR = 29, H_p = 30, LSmax = 31, D_G = 32:32, D_M = 33:33, D_A = 34:34, D_R = 35:35, D_h = 36:36, y_G = 37, y_M = 38, y_A = 39, y_R = 40, y_T = 41, h_z = 42, h_fX = 43)}}}, p::Params, t::Float64)\n",
      "    @ Main c:\\Users\\simon\\Documents\\Julia\\DEBBase.jl\\paper\\jl_notebook_cell_df34fa98e69747e1a8f8a730347b8e2f_X25sZmlsZQ==.jl:27\n",
      " [16] (::SciMLBase.ODEFunction{true, SciMLBase.AutoSpecialize, typeof(DEBODE_IA_adpt!), LinearAlgebra.UniformScaling{Bool}, Nothing, Nothing, Nothing, Nothing, Nothing, Nothing, Nothing, Nothing, Nothing, Nothing, Nothing, typeof(SciMLBase.DEFAULT_OBSERVED), Nothing, Nothing, Nothing, Nothing})(::ComponentArrays.ComponentVector{Float64, Vector{Float64}, Tuple{ComponentArrays.Axis{(X_p = 1, C_W = 2:2, embryo = 3, juvenile = 4, adult = 5, X_emb = 6, S = 7, S_max_hist = 8, H = 9, H_b = 10, R = 11, f_X = 12, I_emb = 13, I_p = 14, I = 15, A = 16, M = 17, J = 18, Q = 19, X_emb_int = 20, Idot_max_rel = 21, Idot_max_rel_emb = 22, K_X = 23, eta_AS = 24, kappa = 25, k_M = 26, k_J = 27, eta_IA = 28, eta_AR = 29, H_p = 30, LSmax = 31, D_G = 32:32, D_M = 33:33, D_A = 34:34, D_R = 35:35, D_h = 36:36, y_G = 37, y_M = 38, y_A = 39, y_R = 40, y_T = 41, h_z = 42, h_fX = 43)}}}, ::Vararg{Any})\n",
      "    @ SciMLBase C:\\Users\\simon\\.julia\\packages\\SciMLBase\\SDjaO\\src\\scimlfunctions.jl:2296\n",
      " [17] initialize!(integrator::OrdinaryDiffEq.ODEIntegrator{OrdinaryDiffEq.Tsit5{typeof(OrdinaryDiffEq.trivial_limiter!), typeof(OrdinaryDiffEq.trivial_limiter!), Static.False}, true, ComponentArrays.ComponentVector{Float64, Vector{Float64}, Tuple{ComponentArrays.Axis{(X_p = 1, C_W = 2:2, embryo = 3, juvenile = 4, adult = 5, X_emb = 6, S = 7, S_max_hist = 8, H = 9, H_b = 10, R = 11, f_X = 12, I_emb = 13, I_p = 14, I = 15, A = 16, M = 17, J = 18, Q = 19, X_emb_int = 20, Idot_max_rel = 21, Idot_max_rel_emb = 22, K_X = 23, eta_AS = 24, kappa = 25, k_M = 26, k_J = 27, eta_IA = 28, eta_AR = 29, H_p = 30, LSmax = 31, D_G = 32:32, D_M = 33:33, D_A = 34:34, D_R = 35:35, D_h = 36:36, y_G = 37, y_M = 38, y_A = 39, y_R = 40, y_T = 41, h_z = 42, h_fX = 43)}}}, Nothing, Float64, Params, Float64, Float64, Float64, Float64, Vector{ComponentArrays.ComponentVector{Float64, Vector{Float64}, Tuple{ComponentArrays.Axis{(X_p = 1, C_W = 2:2, embryo = 3, juvenile = 4, adult = 5, X_emb = 6, S = 7, S_max_hist = 8, H = 9, H_b = 10, R = 11, f_X = 12, I_emb = 13, I_p = 14, I = 15, A = 16, M = 17, J = 18, Q = 19, X_emb_int = 20, Idot_max_rel = 21, Idot_max_rel_emb = 22, K_X = 23, eta_AS = 24, kappa = 25, k_M = 26, k_J = 27, eta_IA = 28, eta_AR = 29, H_p = 30, LSmax = 31, D_G = 32:32, D_M = 33:33, D_A = 34:34, D_R = 35:35, D_h = 36:36, y_G = 37, y_M = 38, y_A = 39, y_R = 40, y_T = 41, h_z = 42, h_fX = 43)}}}}, SciMLBase.ODESolution{Float64, 2, Vector{ComponentArrays.ComponentVector{Float64, Vector{Float64}, Tuple{ComponentArrays.Axis{(X_p = 1, C_W = 2:2, embryo = 3, juvenile = 4, adult = 5, X_emb = 6, S = 7, S_max_hist = 8, H = 9, H_b = 10, R = 11, f_X = 12, I_emb = 13, I_p = 14, I = 15, A = 16, M = 17, J = 18, Q = 19, X_emb_int = 20, Idot_max_rel = 21, Idot_max_rel_emb = 22, K_X = 23, eta_AS = 24, kappa = 25, k_M = 26, k_J = 27, eta_IA = 28, eta_AR = 29, H_p = 30, LSmax = 31, D_G = 32:32, D_M = 33:33, D_A = 34:34, D_R = 35:35, D_h = 36:36, y_G = 37, y_M = 38, y_A = 39, y_R = 40, y_T = 41, h_z = 42, h_fX = 43)}}}}, Nothing, Nothing, Vector{Float64}, Vector{Vector{ComponentArrays.ComponentVector{Float64, Vector{Float64}, Tuple{ComponentArrays.Axis{(X_p = 1, C_W = 2:2, embryo = 3, juvenile = 4, adult = 5, X_emb = 6, S = 7, S_max_hist = 8, H = 9, H_b = 10, R = 11, f_X = 12, I_emb = 13, I_p = 14, I = 15, A = 16, M = 17, J = 18, Q = 19, X_emb_int = 20, Idot_max_rel = 21, Idot_max_rel_emb = 22, K_X = 23, eta_AS = 24, kappa = 25, k_M = 26, k_J = 27, eta_IA = 28, eta_AR = 29, H_p = 30, LSmax = 31, D_G = 32:32, D_M = 33:33, D_A = 34:34, D_R = 35:35, D_h = 36:36, y_G = 37, y_M = 38, y_A = 39, y_R = 40, y_T = 41, h_z = 42, h_fX = 43)}}}}}, SciMLBase.ODEProblem{ComponentArrays.ComponentVector{Float64, Vector{Float64}, Tuple{ComponentArrays.Axis{(X_p = 1, C_W = 2:2, embryo = 3, juvenile = 4, adult = 5, X_emb = 6, S = 7, S_max_hist = 8, H = 9, H_b = 10, R = 11, f_X = 12, I_emb = 13, I_p = 14, I = 15, A = 16, M = 17, J = 18, Q = 19, X_emb_int = 20, Idot_max_rel = 21, Idot_max_rel_emb = 22, K_X = 23, eta_AS = 24, kappa = 25, k_M = 26, k_J = 27, eta_IA = 28, eta_AR = 29, H_p = 30, LSmax = 31, D_G = 32:32, D_M = 33:33, D_A = 34:34, D_R = 35:35, D_h = 36:36, y_G = 37, y_M = 38, y_A = 39, y_R = 40, y_T = 41, h_z = 42, h_fX = 43)}}}, Tuple{Float64, Float64}, true, Params, SciMLBase.ODEFunction{true, SciMLBase.AutoSpecialize, typeof(DEBODE_IA_adpt!), LinearAlgebra.UniformScaling{Bool}, Nothing, Nothing, Nothing, Nothing, Nothing, Nothing, Nothing, Nothing, Nothing, Nothing, Nothing, typeof(SciMLBase.DEFAULT_OBSERVED), Nothing, Nothing, Nothing, Nothing}, @Kwargs{}, SciMLBase.StandardODEProblem}, OrdinaryDiffEq.Tsit5{typeof(OrdinaryDiffEq.trivial_limiter!), typeof(OrdinaryDiffEq.trivial_limiter!), Static.False}, OrdinaryDiffEq.InterpolationData{SciMLBase.ODEFunction{true, SciMLBase.AutoSpecialize, typeof(DEBODE_IA_adpt!), LinearAlgebra.UniformScaling{Bool}, Nothing, Nothing, Nothing, Nothing, Nothing, Nothing, Nothing, Nothing, Nothing, Nothing, Nothing, typeof(SciMLBase.DEFAULT_OBSERVED), Nothing, Nothing, Nothing, Nothing}, Vector{ComponentArrays.ComponentVector{Float64, Vector{Float64}, Tuple{ComponentArrays.Axis{(X_p = 1, C_W = 2:2, embryo = 3, juvenile = 4, adult = 5, X_emb = 6, S = 7, S_max_hist = 8, H = 9, H_b = 10, R = 11, f_X = 12, I_emb = 13, I_p = 14, I = 15, A = 16, M = 17, J = 18, Q = 19, X_emb_int = 20, Idot_max_rel = 21, Idot_max_rel_emb = 22, K_X = 23, eta_AS = 24, kappa = 25, k_M = 26, k_J = 27, eta_IA = 28, eta_AR = 29, H_p = 30, LSmax = 31, D_G = 32:32, D_M = 33:33, D_A = 34:34, D_R = 35:35, D_h = 36:36, y_G = 37, y_M = 38, y_A = 39, y_R = 40, y_T = 41, h_z = 42, h_fX = 43)}}}}, Vector{Float64}, Vector{Vector{ComponentArrays.ComponentVector{Float64, Vector{Float64}, Tuple{ComponentArrays.Axis{(X_p = 1, C_W = 2:2, embryo = 3, juvenile = 4, adult = 5, X_emb = 6, S = 7, S_max_hist = 8, H = 9, H_b = 10, R = 11, f_X = 12, I_emb = 13, I_p = 14, I = 15, A = 16, M = 17, J = 18, Q = 19, X_emb_int = 20, Idot_max_rel = 21, Idot_max_rel_emb = 22, K_X = 23, eta_AS = 24, kappa = 25, k_M = 26, k_J = 27, eta_IA = 28, eta_AR = 29, H_p = 30, LSmax = 31, D_G = 32:32, D_M = 33:33, D_A = 34:34, D_R = 35:35, D_h = 36:36, y_G = 37, y_M = 38, y_A = 39, y_R = 40, y_T = 41, h_z = 42, h_fX = 43)}}}}}, Nothing, OrdinaryDiffEq.Tsit5Cache{ComponentArrays.ComponentVector{Float64, Vector{Float64}, Tuple{ComponentArrays.Axis{(X_p = 1, C_W = 2:2, embryo = 3, juvenile = 4, adult = 5, X_emb = 6, S = 7, S_max_hist = 8, H = 9, H_b = 10, R = 11, f_X = 12, I_emb = 13, I_p = 14, I = 15, A = 16, M = 17, J = 18, Q = 19, X_emb_int = 20, Idot_max_rel = 21, Idot_max_rel_emb = 22, K_X = 23, eta_AS = 24, kappa = 25, k_M = 26, k_J = 27, eta_IA = 28, eta_AR = 29, H_p = 30, LSmax = 31, D_G = 32:32, D_M = 33:33, D_A = 34:34, D_R = 35:35, D_h = 36:36, y_G = 37, y_M = 38, y_A = 39, y_R = 40, y_T = 41, h_z = 42, h_fX = 43)}}}, ComponentArrays.ComponentVector{Float64, Vector{Float64}, Tuple{ComponentArrays.Axis{(X_p = 1, C_W = 2:2, embryo = 3, juvenile = 4, adult = 5, X_emb = 6, S = 7, S_max_hist = 8, H = 9, H_b = 10, R = 11, f_X = 12, I_emb = 13, I_p = 14, I = 15, A = 16, M = 17, J = 18, Q = 19, X_emb_int = 20, Idot_max_rel = 21, Idot_max_rel_emb = 22, K_X = 23, eta_AS = 24, kappa = 25, k_M = 26, k_J = 27, eta_IA = 28, eta_AR = 29, H_p = 30, LSmax = 31, D_G = 32:32, D_M = 33:33, D_A = 34:34, D_R = 35:35, D_h = 36:36, y_G = 37, y_M = 38, y_A = 39, y_R = 40, y_T = 41, h_z = 42, h_fX = 43)}}}, ComponentArrays.ComponentVector{Float64, Vector{Float64}, Tuple{ComponentArrays.Axis{(X_p = 1, C_W = 2:2, embryo = 3, juvenile = 4, adult = 5, X_emb = 6, S = 7, S_max_hist = 8, H = 9, H_b = 10, R = 11, f_X = 12, I_emb = 13, I_p = 14, I = 15, A = 16, M = 17, J = 18, Q = 19, X_emb_int = 20, Idot_max_rel = 21, Idot_max_rel_emb = 22, K_X = 23, eta_AS = 24, kappa = 25, k_M = 26, k_J = 27, eta_IA = 28, eta_AR = 29, H_p = 30, LSmax = 31, D_G = 32:32, D_M = 33:33, D_A = 34:34, D_R = 35:35, D_h = 36:36, y_G = 37, y_M = 38, y_A = 39, y_R = 40, y_T = 41, h_z = 42, h_fX = 43)}}}, typeof(OrdinaryDiffEq.trivial_limiter!), typeof(OrdinaryDiffEq.trivial_limiter!), Static.False}, Nothing}, SciMLBase.DEStats, Nothing, Nothing, Nothing}, SciMLBase.ODEFunction{true, SciMLBase.AutoSpecialize, typeof(DEBODE_IA_adpt!), LinearAlgebra.UniformScaling{Bool}, Nothing, Nothing, Nothing, Nothing, Nothing, Nothing, Nothing, Nothing, Nothing, Nothing, Nothing, typeof(SciMLBase.DEFAULT_OBSERVED), Nothing, Nothing, Nothing, Nothing}, OrdinaryDiffEq.Tsit5Cache{ComponentArrays.ComponentVector{Float64, Vector{Float64}, Tuple{ComponentArrays.Axis{(X_p = 1, C_W = 2:2, embryo = 3, juvenile = 4, adult = 5, X_emb = 6, S = 7, S_max_hist = 8, H = 9, H_b = 10, R = 11, f_X = 12, I_emb = 13, I_p = 14, I = 15, A = 16, M = 17, J = 18, Q = 19, X_emb_int = 20, Idot_max_rel = 21, Idot_max_rel_emb = 22, K_X = 23, eta_AS = 24, kappa = 25, k_M = 26, k_J = 27, eta_IA = 28, eta_AR = 29, H_p = 30, LSmax = 31, D_G = 32:32, D_M = 33:33, D_A = 34:34, D_R = 35:35, D_h = 36:36, y_G = 37, y_M = 38, y_A = 39, y_R = 40, y_T = 41, h_z = 42, h_fX = 43)}}}, ComponentArrays.ComponentVector{Float64, Vector{Float64}, Tuple{ComponentArrays.Axis{(X_p = 1, C_W = 2:2, embryo = 3, juvenile = 4, adult = 5, X_emb = 6, S = 7, S_max_hist = 8, H = 9, H_b = 10, R = 11, f_X = 12, I_emb = 13, I_p = 14, I = 15, A = 16, M = 17, J = 18, Q = 19, X_emb_int = 20, Idot_max_rel = 21, Idot_max_rel_emb = 22, K_X = 23, eta_AS = 24, kappa = 25, k_M = 26, k_J = 27, eta_IA = 28, eta_AR = 29, H_p = 30, LSmax = 31, D_G = 32:32, D_M = 33:33, D_A = 34:34, D_R = 35:35, D_h = 36:36, y_G = 37, y_M = 38, y_A = 39, y_R = 40, y_T = 41, h_z = 42, h_fX = 43)}}}, ComponentArrays.ComponentVector{Float64, Vector{Float64}, Tuple{ComponentArrays.Axis{(X_p = 1, C_W = 2:2, embryo = 3, juvenile = 4, adult = 5, X_emb = 6, S = 7, S_max_hist = 8, H = 9, H_b = 10, R = 11, f_X = 12, I_emb = 13, I_p = 14, I = 15, A = 16, M = 17, J = 18, Q = 19, X_emb_int = 20, Idot_max_rel = 21, Idot_max_rel_emb = 22, K_X = 23, eta_AS = 24, kappa = 25, k_M = 26, k_J = 27, eta_IA = 28, eta_AR = 29, H_p = 30, LSmax = 31, D_G = 32:32, D_M = 33:33, D_A = 34:34, D_R = 35:35, D_h = 36:36, y_G = 37, y_M = 38, y_A = 39, y_R = 40, y_T = 41, h_z = 42, h_fX = 43)}}}, typeof(OrdinaryDiffEq.trivial_limiter!), typeof(OrdinaryDiffEq.trivial_limiter!), Static.False}, OrdinaryDiffEq.DEOptions{Float64, Float64, Float64, Float64, OrdinaryDiffEq.PIController{Rational{Int64}}, typeof(DiffEqBase.ODE_DEFAULT_NORM), typeof(LinearAlgebra.opnorm), Nothing, SciMLBase.CallbackSet{Tuple{SciMLBase.ContinuousCallback{typeof(DEBBase.DEBODE.condition_juvenile), typeof(DEBBase.DEBODE.effect_juvenile!), typeof(DEBBase.DEBODE.effect_juvenile!), typeof(SciMLBase.INITIALIZE_DEFAULT), typeof(SciMLBase.FINALIZE_DEFAULT), Float64, Int64, Rational{Int64}, Nothing, Int64}, SciMLBase.ContinuousCallback{typeof(DEBBase.DEBODE.condition_adult), typeof(DEBBase.DEBODE.effect_adult!), typeof(DEBBase.DEBODE.effect_adult!), typeof(SciMLBase.INITIALIZE_DEFAULT), typeof(SciMLBase.FINALIZE_DEFAULT), Float64, Int64, Rational{Int64}, Nothing, Int64}}, Tuple{}}, typeof(DiffEqBase.ODE_DEFAULT_ISOUTOFDOMAIN), typeof(DiffEqBase.ODE_DEFAULT_PROG_MESSAGE), typeof(DiffEqBase.ODE_DEFAULT_UNSTABLE_CHECK), DataStructures.BinaryHeap{Float64, DataStructures.FasterForward}, DataStructures.BinaryHeap{Float64, DataStructures.FasterForward}, Nothing, Nothing, Int64, Tuple{}, Int64, Tuple{}}, ComponentArrays.ComponentVector{Float64, Vector{Float64}, Tuple{ComponentArrays.Axis{(X_p = 1, C_W = 2:2, embryo = 3, juvenile = 4, adult = 5, X_emb = 6, S = 7, S_max_hist = 8, H = 9, H_b = 10, R = 11, f_X = 12, I_emb = 13, I_p = 14, I = 15, A = 16, M = 17, J = 18, Q = 19, X_emb_int = 20, Idot_max_rel = 21, Idot_max_rel_emb = 22, K_X = 23, eta_AS = 24, kappa = 25, k_M = 26, k_J = 27, eta_IA = 28, eta_AR = 29, H_p = 30, LSmax = 31, D_G = 32:32, D_M = 33:33, D_A = 34:34, D_R = 35:35, D_h = 36:36, y_G = 37, y_M = 38, y_A = 39, y_R = 40, y_T = 41, h_z = 42, h_fX = 43)}}}, Float64, Nothing, OrdinaryDiffEq.DefaultInit, Nothing}, cache::OrdinaryDiffEq.Tsit5Cache{ComponentArrays.ComponentVector{Float64, Vector{Float64}, Tuple{ComponentArrays.Axis{(X_p = 1, C_W = 2:2, embryo = 3, juvenile = 4, adult = 5, X_emb = 6, S = 7, S_max_hist = 8, H = 9, H_b = 10, R = 11, f_X = 12, I_emb = 13, I_p = 14, I = 15, A = 16, M = 17, J = 18, Q = 19, X_emb_int = 20, Idot_max_rel = 21, Idot_max_rel_emb = 22, K_X = 23, eta_AS = 24, kappa = 25, k_M = 26, k_J = 27, eta_IA = 28, eta_AR = 29, H_p = 30, LSmax = 31, D_G = 32:32, D_M = 33:33, D_A = 34:34, D_R = 35:35, D_h = 36:36, y_G = 37, y_M = 38, y_A = 39, y_R = 40, y_T = 41, h_z = 42, h_fX = 43)}}}, ComponentArrays.ComponentVector{Float64, Vector{Float64}, Tuple{ComponentArrays.Axis{(X_p = 1, C_W = 2:2, embryo = 3, juvenile = 4, adult = 5, X_emb = 6, S = 7, S_max_hist = 8, H = 9, H_b = 10, R = 11, f_X = 12, I_emb = 13, I_p = 14, I = 15, A = 16, M = 17, J = 18, Q = 19, X_emb_int = 20, Idot_max_rel = 21, Idot_max_rel_emb = 22, K_X = 23, eta_AS = 24, kappa = 25, k_M = 26, k_J = 27, eta_IA = 28, eta_AR = 29, H_p = 30, LSmax = 31, D_G = 32:32, D_M = 33:33, D_A = 34:34, D_R = 35:35, D_h = 36:36, y_G = 37, y_M = 38, y_A = 39, y_R = 40, y_T = 41, h_z = 42, h_fX = 43)}}}, ComponentArrays.ComponentVector{Float64, Vector{Float64}, Tuple{ComponentArrays.Axis{(X_p = 1, C_W = 2:2, embryo = 3, juvenile = 4, adult = 5, X_emb = 6, S = 7, S_max_hist = 8, H = 9, H_b = 10, R = 11, f_X = 12, I_emb = 13, I_p = 14, I = 15, A = 16, M = 17, J = 18, Q = 19, X_emb_int = 20, Idot_max_rel = 21, Idot_max_rel_emb = 22, K_X = 23, eta_AS = 24, kappa = 25, k_M = 26, k_J = 27, eta_IA = 28, eta_AR = 29, H_p = 30, LSmax = 31, D_G = 32:32, D_M = 33:33, D_A = 34:34, D_R = 35:35, D_h = 36:36, y_G = 37, y_M = 38, y_A = 39, y_R = 40, y_T = 41, h_z = 42, h_fX = 43)}}}, typeof(OrdinaryDiffEq.trivial_limiter!), typeof(OrdinaryDiffEq.trivial_limiter!), Static.False})\n",
      "    @ OrdinaryDiffEq C:\\Users\\simon\\.julia\\packages\\OrdinaryDiffEq\\YXsFS\\src\\perform_step\\low_order_rk_perform_step.jl:799\n",
      " [18] __init(prob::SciMLBase.ODEProblem{ComponentArrays.ComponentVector{Float64, Vector{Float64}, Tuple{ComponentArrays.Axis{(X_p = 1, C_W = 2:2, embryo = 3, juvenile = 4, adult = 5, X_emb = 6, S = 7, S_max_hist = 8, H = 9, H_b = 10, R = 11, f_X = 12, I_emb = 13, I_p = 14, I = 15, A = 16, M = 17, J = 18, Q = 19, X_emb_int = 20, Idot_max_rel = 21, Idot_max_rel_emb = 22, K_X = 23, eta_AS = 24, kappa = 25, k_M = 26, k_J = 27, eta_IA = 28, eta_AR = 29, H_p = 30, LSmax = 31, D_G = 32:32, D_M = 33:33, D_A = 34:34, D_R = 35:35, D_h = 36:36, y_G = 37, y_M = 38, y_A = 39, y_R = 40, y_T = 41, h_z = 42, h_fX = 43)}}}, Tuple{Float64, Float64}, true, Params, SciMLBase.ODEFunction{true, SciMLBase.AutoSpecialize, typeof(DEBODE_IA_adpt!), LinearAlgebra.UniformScaling{Bool}, Nothing, Nothing, Nothing, Nothing, Nothing, Nothing, Nothing, Nothing, Nothing, Nothing, Nothing, typeof(SciMLBase.DEFAULT_OBSERVED), Nothing, Nothing, Nothing, Nothing}, @Kwargs{}, SciMLBase.StandardODEProblem}, alg::OrdinaryDiffEq.Tsit5{typeof(OrdinaryDiffEq.trivial_limiter!), typeof(OrdinaryDiffEq.trivial_limiter!), Static.False}, timeseries_init::Tuple{}, ts_init::Tuple{}, ks_init::Tuple{}, recompile::Type{Val{true}}; saveat::Int64, tstops::Tuple{}, d_discontinuities::Tuple{}, save_idxs::Nothing, save_everystep::Bool, save_on::Bool, save_start::Bool, save_end::Nothing, callback::SciMLBase.CallbackSet{Tuple{SciMLBase.ContinuousCallback{typeof(DEBBase.DEBODE.condition_juvenile), typeof(DEBBase.DEBODE.effect_juvenile!), typeof(DEBBase.DEBODE.effect_juvenile!), typeof(SciMLBase.INITIALIZE_DEFAULT), typeof(SciMLBase.FINALIZE_DEFAULT), Float64, Int64, Rational{Int64}, Nothing, Int64}, SciMLBase.ContinuousCallback{typeof(DEBBase.DEBODE.condition_adult), typeof(DEBBase.DEBODE.effect_adult!), typeof(DEBBase.DEBODE.effect_adult!), typeof(SciMLBase.INITIALIZE_DEFAULT), typeof(SciMLBase.FINALIZE_DEFAULT), Float64, Int64, Rational{Int64}, Nothing, Int64}}, Tuple{}}, dense::Bool, calck::Bool, dt::Float64, dtmin::Float64, dtmax::Float64, force_dtmin::Bool, adaptive::Bool, gamma::Rational{Int64}, abstol::Nothing, reltol::Float64, qmin::Rational{Int64}, qmax::Int64, qsteady_min::Int64, qsteady_max::Int64, beta1::Nothing, beta2::Nothing, qoldinit::Rational{Int64}, controller::Nothing, fullnormalize::Bool, failfactor::Int64, maxiters::Int64, internalnorm::typeof(DiffEqBase.ODE_DEFAULT_NORM), internalopnorm::typeof(LinearAlgebra.opnorm), isoutofdomain::typeof(DiffEqBase.ODE_DEFAULT_ISOUTOFDOMAIN), unstable_check::typeof(DiffEqBase.ODE_DEFAULT_UNSTABLE_CHECK), verbose::Bool, timeseries_errors::Bool, dense_errors::Bool, advance_to_tstop::Bool, stop_at_next_tstop::Bool, initialize_save::Bool, progress::Bool, progress_steps::Int64, progress_name::String, progress_message::typeof(DiffEqBase.ODE_DEFAULT_PROG_MESSAGE), progress_id::Symbol, userdata::Nothing, allow_extrapolation::Bool, initialize_integrator::Bool, alias_u0::Bool, alias_du0::Bool, initializealg::OrdinaryDiffEq.DefaultInit, kwargs::@Kwargs{})\n",
      "    @ OrdinaryDiffEq C:\\Users\\simon\\.julia\\packages\\OrdinaryDiffEq\\YXsFS\\src\\solve.jl:518\n",
      " [19] __init (repeats 5 times)\n",
      "    @ C:\\Users\\simon\\.julia\\packages\\OrdinaryDiffEq\\YXsFS\\src\\solve.jl:11 [inlined]\n",
      " [20] __solve(::SciMLBase.ODEProblem{ComponentArrays.ComponentVector{Float64, Vector{Float64}, Tuple{ComponentArrays.Axis{(X_p = 1, C_W = 2:2, embryo = 3, juvenile = 4, adult = 5, X_emb = 6, S = 7, S_max_hist = 8, H = 9, H_b = 10, R = 11, f_X = 12, I_emb = 13, I_p = 14, I = 15, A = 16, M = 17, J = 18, Q = 19, X_emb_int = 20, Idot_max_rel = 21, Idot_max_rel_emb = 22, K_X = 23, eta_AS = 24, kappa = 25, k_M = 26, k_J = 27, eta_IA = 28, eta_AR = 29, H_p = 30, LSmax = 31, D_G = 32:32, D_M = 33:33, D_A = 34:34, D_R = 35:35, D_h = 36:36, y_G = 37, y_M = 38, y_A = 39, y_R = 40, y_T = 41, h_z = 42, h_fX = 43)}}}, Tuple{Float64, Float64}, true, Params, SciMLBase.ODEFunction{true, SciMLBase.AutoSpecialize, typeof(DEBODE_IA_adpt!), LinearAlgebra.UniformScaling{Bool}, Nothing, Nothing, Nothing, Nothing, Nothing, Nothing, Nothing, Nothing, Nothing, Nothing, Nothing, typeof(SciMLBase.DEFAULT_OBSERVED), Nothing, Nothing, Nothing, Nothing}, @Kwargs{}, SciMLBase.StandardODEProblem}, ::OrdinaryDiffEq.Tsit5{typeof(OrdinaryDiffEq.trivial_limiter!), typeof(OrdinaryDiffEq.trivial_limiter!), Static.False}; kwargs::@Kwargs{callback::SciMLBase.CallbackSet{Tuple{SciMLBase.ContinuousCallback{typeof(DEBBase.DEBODE.condition_juvenile), typeof(DEBBase.DEBODE.effect_juvenile!), typeof(DEBBase.DEBODE.effect_juvenile!), typeof(SciMLBase.INITIALIZE_DEFAULT), typeof(SciMLBase.FINALIZE_DEFAULT), Float64, Int64, Rational{Int64}, Nothing, Int64}, SciMLBase.ContinuousCallback{typeof(DEBBase.DEBODE.condition_adult), typeof(DEBBase.DEBODE.effect_adult!), typeof(DEBBase.DEBODE.effect_adult!), typeof(SciMLBase.INITIALIZE_DEFAULT), typeof(SciMLBase.FINALIZE_DEFAULT), Float64, Int64, Rational{Int64}, Nothing, Int64}}, Tuple{}}, saveat::Int64, reltol::Float64})\n",
      "    @ OrdinaryDiffEq C:\\Users\\simon\\.julia\\packages\\OrdinaryDiffEq\\YXsFS\\src\\solve.jl:6\n",
      " [21] __solve\n",
      "    @ C:\\Users\\simon\\.julia\\packages\\OrdinaryDiffEq\\YXsFS\\src\\solve.jl:1 [inlined]\n",
      " [22] solve_call(_prob::SciMLBase.ODEProblem{ComponentArrays.ComponentVector{Float64, Vector{Float64}, Tuple{ComponentArrays.Axis{(X_p = 1, C_W = 2:2, embryo = 3, juvenile = 4, adult = 5, X_emb = 6, S = 7, S_max_hist = 8, H = 9, H_b = 10, R = 11, f_X = 12, I_emb = 13, I_p = 14, I = 15, A = 16, M = 17, J = 18, Q = 19, X_emb_int = 20, Idot_max_rel = 21, Idot_max_rel_emb = 22, K_X = 23, eta_AS = 24, kappa = 25, k_M = 26, k_J = 27, eta_IA = 28, eta_AR = 29, H_p = 30, LSmax = 31, D_G = 32:32, D_M = 33:33, D_A = 34:34, D_R = 35:35, D_h = 36:36, y_G = 37, y_M = 38, y_A = 39, y_R = 40, y_T = 41, h_z = 42, h_fX = 43)}}}, Tuple{Float64, Float64}, true, Params, SciMLBase.ODEFunction{true, SciMLBase.AutoSpecialize, typeof(DEBODE_IA_adpt!), LinearAlgebra.UniformScaling{Bool}, Nothing, Nothing, Nothing, Nothing, Nothing, Nothing, Nothing, Nothing, Nothing, Nothing, Nothing, typeof(SciMLBase.DEFAULT_OBSERVED), Nothing, Nothing, Nothing, Nothing}, @Kwargs{}, SciMLBase.StandardODEProblem}, args::OrdinaryDiffEq.Tsit5{typeof(OrdinaryDiffEq.trivial_limiter!), typeof(OrdinaryDiffEq.trivial_limiter!), Static.False}; merge_callbacks::Bool, kwargshandle::Nothing, kwargs::@Kwargs{callback::SciMLBase.CallbackSet{Tuple{SciMLBase.ContinuousCallback{typeof(DEBBase.DEBODE.condition_juvenile), typeof(DEBBase.DEBODE.effect_juvenile!), typeof(DEBBase.DEBODE.effect_juvenile!), typeof(SciMLBase.INITIALIZE_DEFAULT), typeof(SciMLBase.FINALIZE_DEFAULT), Float64, Int64, Rational{Int64}, Nothing, Int64}, SciMLBase.ContinuousCallback{typeof(DEBBase.DEBODE.condition_adult), typeof(DEBBase.DEBODE.effect_adult!), typeof(DEBBase.DEBODE.effect_adult!), typeof(SciMLBase.INITIALIZE_DEFAULT), typeof(SciMLBase.FINALIZE_DEFAULT), Float64, Int64, Rational{Int64}, Nothing, Int64}}, Tuple{}}, saveat::Int64, reltol::Float64})\n",
      "    @ DiffEqBase C:\\Users\\simon\\.julia\\packages\\DiffEqBase\\yM6LF\\src\\solve.jl:612\n",
      " [23] solve_call\n",
      "    @ C:\\Users\\simon\\.julia\\packages\\DiffEqBase\\yM6LF\\src\\solve.jl:569 [inlined]\n",
      " [24] #solve_up#53\n",
      "    @ C:\\Users\\simon\\.julia\\packages\\DiffEqBase\\yM6LF\\src\\solve.jl:1080 [inlined]\n",
      " [25] solve_up\n",
      "    @ C:\\Users\\simon\\.julia\\packages\\DiffEqBase\\yM6LF\\src\\solve.jl:1066 [inlined]\n",
      " [26] #solve#51\n",
      "    @ C:\\Users\\simon\\.julia\\packages\\DiffEqBase\\yM6LF\\src\\solve.jl:1003 [inlined]\n",
      " [27] simulator(params::Params; alg::OrdinaryDiffEq.Tsit5{typeof(OrdinaryDiffEq.trivial_limiter!), typeof(OrdinaryDiffEq.trivial_limiter!), Static.False}, saveat::Int64, reltol::Float64, model::Function, AgentParamType::DataType, kwargs::@Kwargs{})\n",
      "    @ DEBBase.DEBODE c:\\Users\\simon\\Documents\\Julia\\DEBBase.jl\\src\\DEBODE\\simulators.jl:87\n",
      " [28] top-level scope\n",
      "    @ c:\\Users\\simon\\Documents\\Julia\\DEBBase.jl\\paper\\jl_notebook_cell_df34fa98e69747e1a8f8a730347b8e2f_W5sZmlsZQ==.jl:4"
     ]
    }
   ],
   "source": [
    "function simulator(\n",
    "    params::Union{AbstractParamCollection,NamedTuple}; \n",
    "    alg = Tsit5(),\n",
    "    saveat = 1,\n",
    "    reltol = 1e-6,\n",
    "    model = DEBODE_IA!,\n",
    "    AgentParamType::DataType = AgentParams,\n",
    "    kwargs...\n",
    "    )::DataFrame\n",
    "\n",
    "    params.agn = AgentParamType(params.spc) # initialize agent parameters incl. individual variability\n",
    "    callbacks = lifestage_callbacks()\n",
    "\n",
    "    u = initialize_statevars(params)\n",
    "    prob = ODEProblem(model, u, (0, params.glb.t_max), params) # define the problem\n",
    "    sol = solve(prob, alg; callback = callbacks, saveat = saveat, reltol = reltol, kwargs...) # get solution to the IVP\n",
    "    simout = sol_to_df(sol) # convert solution to dataframe\n",
    "\n",
    "    return simout\n",
    "end\n",
    "\n"
   ]
  },
  {
   "cell_type": "code",
   "execution_count": null,
   "metadata": {},
   "outputs": [],
   "source": []
  },
  {
   "cell_type": "markdown",
   "metadata": {},
   "source": [
    "Now we would be ready to, for example, fit our modified model to some data and compare it with the default model. <br>\n",
    "As you see, it is still quite a bit of work "
   ]
  },
  {
   "cell_type": "code",
   "execution_count": 23,
   "metadata": {},
   "outputs": [
    {
     "data": {
      "text/plain": [
       "DEBODE_agent_IA! (generic function with 1 method)"
      ]
     },
     "metadata": {},
     "output_type": "display_data"
    }
   ],
   "source": [
    "DEBODE_agent_IA!"
   ]
  }
 ],
 "metadata": {
  "kernelspec": {
   "display_name": "Julia 1.10.4",
   "language": "julia",
   "name": "julia-1.10"
  },
  "language_info": {
   "file_extension": ".jl",
   "mimetype": "application/julia",
   "name": "julia",
   "version": "1.10.4"
  }
 },
 "nbformat": 4,
 "nbformat_minor": 2
}
